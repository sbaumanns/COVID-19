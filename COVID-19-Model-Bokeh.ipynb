{
 "cells": [
  {
   "cell_type": "markdown",
   "metadata": {},
   "source": [
    "# General remarks and observations"
   ]
  },
  {
   "cell_type": "markdown",
   "metadata": {},
   "source": [
    "Please find some general remarks and observations on the data available.\n",
    "\n",
    "### Delay in reporting\n",
    "The number of cases reported on a day is strongly delayed compared to the infection date which should be of most interest.\n",
    "* Day 0: Infection\n",
    "* Day S: Time to first symtomps\n",
    "* Day T: Day of test\n",
    "* Day R: Day of test results\n",
    "* Day C: Day of confirmation\n",
    "That is, the reporting is in general 10 to 12 days behind the infection date. Based on the testing strategy, capacity and further development, this reporting delay could be changing over time (acceleration expected).\n",
    "\n",
    "### Weekends, changing in reporting and external effects\n",
    "Due to potential changing in reporting cases, we see potentially jumps in the data. Especially weekends are root causes of such effects as (at least in Germany) the number of reported cases tending to be too low at weekends and to high at the beginning a week.\n",
    "Changing the testing performance/capacity will have an impact on the time series as well.\n",
    "Please note further, that all external effects as closing schools and shutting down the public life will change the time series as well. This needs to keep in mind to chose the right period to estimate parameters to extrapolate the curves.\n",
    "\n",
    "### Left censoring\n",
    "As not everybody is tested, the data are left censored.\n",
    "\n",
    "### Rate of death\n",
    "The rate of death is mostly missleading due to two simple observations:\n",
    "* Mostly death/cases is used - assuming that after the infection it takes some time until somebody is passing away, this will underestimate the rate as currently we still see increasing trend in incremental cases per day\n",
    "* Most likely, the number of reported cases each day is not correctly reported due to testing capacity (will vary from country to country). This will overestimate the rate.\n",
    "\n",
    "Given the fact that potentially the age structure of infected people will change over time (as in Germany), the rate of death will change over time as well. This is critical as the age is an already identified covariant. However, public data including the age structure on reporting day basis is not available."
   ]
  },
  {
   "cell_type": "markdown",
   "metadata": {},
   "source": [
    "# ToDo"
   ]
  },
  {
   "cell_type": "markdown",
   "metadata": {},
   "source": [
    "* Add some kind of confidence intervals to the analysis\n",
    "* Try reliability approach to model cases and death - first example tried and does not look bad"
   ]
  },
  {
   "cell_type": "markdown",
   "metadata": {},
   "source": [
    "# Other stuff"
   ]
  },
  {
   "cell_type": "markdown",
   "metadata": {},
   "source": [
    "* David Newton: [Link](https://github.com/dmnewton/notebooks)\n",
    "* Torben Menke: [Link](https://entorb.net/COVID-19-coronavirus/#countries-fit-results)\n",
    "* Markus Noga: [Link](https://mlnoga.github.io/covid19-analysis/)\n",
    "* Financial Times: [Link](https://www.ft.com/coronavirus-latest)\n",
    "* Robert Koch Institute: [Link](https://www.rki.de/DE/Content/InfAZ/N/Neuartiges_Coronavirus/Fallzahlen.html)"
   ]
  },
  {
   "cell_type": "markdown",
   "metadata": {},
   "source": [
    "# Imports"
   ]
  },
  {
   "cell_type": "code",
   "execution_count": 1,
   "metadata": {},
   "outputs": [
    {
     "data": {
      "application/javascript": [
       "\n",
       "(function(root) {\n",
       "  function now() {\n",
       "    return new Date();\n",
       "  }\n",
       "\n",
       "  var force = true;\n",
       "\n",
       "  if (typeof (root._bokeh_onload_callbacks) === \"undefined\" || force === true) {\n",
       "    root._bokeh_onload_callbacks = [];\n",
       "    root._bokeh_is_loading = undefined;\n",
       "  }\n",
       "\n",
       "  var JS_MIME_TYPE = 'application/javascript';\n",
       "  var HTML_MIME_TYPE = 'text/html';\n",
       "  var EXEC_MIME_TYPE = 'application/vnd.bokehjs_exec.v0+json';\n",
       "  var CLASS_NAME = 'output_bokeh rendered_html';\n",
       "\n",
       "  /**\n",
       "   * Render data to the DOM node\n",
       "   */\n",
       "  function render(props, node) {\n",
       "    var script = document.createElement(\"script\");\n",
       "    node.appendChild(script);\n",
       "  }\n",
       "\n",
       "  /**\n",
       "   * Handle when an output is cleared or removed\n",
       "   */\n",
       "  function handleClearOutput(event, handle) {\n",
       "    var cell = handle.cell;\n",
       "\n",
       "    var id = cell.output_area._bokeh_element_id;\n",
       "    var server_id = cell.output_area._bokeh_server_id;\n",
       "    // Clean up Bokeh references\n",
       "    if (id != null && id in Bokeh.index) {\n",
       "      Bokeh.index[id].model.document.clear();\n",
       "      delete Bokeh.index[id];\n",
       "    }\n",
       "\n",
       "    if (server_id !== undefined) {\n",
       "      // Clean up Bokeh references\n",
       "      var cmd = \"from bokeh.io.state import curstate; print(curstate().uuid_to_server['\" + server_id + \"'].get_sessions()[0].document.roots[0]._id)\";\n",
       "      cell.notebook.kernel.execute(cmd, {\n",
       "        iopub: {\n",
       "          output: function(msg) {\n",
       "            var id = msg.content.text.trim();\n",
       "            if (id in Bokeh.index) {\n",
       "              Bokeh.index[id].model.document.clear();\n",
       "              delete Bokeh.index[id];\n",
       "            }\n",
       "          }\n",
       "        }\n",
       "      });\n",
       "      // Destroy server and session\n",
       "      var cmd = \"import bokeh.io.notebook as ion; ion.destroy_server('\" + server_id + \"')\";\n",
       "      cell.notebook.kernel.execute(cmd);\n",
       "    }\n",
       "  }\n",
       "\n",
       "  /**\n",
       "   * Handle when a new output is added\n",
       "   */\n",
       "  function handleAddOutput(event, handle) {\n",
       "    var output_area = handle.output_area;\n",
       "    var output = handle.output;\n",
       "\n",
       "    // limit handleAddOutput to display_data with EXEC_MIME_TYPE content only\n",
       "    if ((output.output_type != \"display_data\") || (!output.data.hasOwnProperty(EXEC_MIME_TYPE))) {\n",
       "      return\n",
       "    }\n",
       "\n",
       "    var toinsert = output_area.element.find(\".\" + CLASS_NAME.split(' ')[0]);\n",
       "\n",
       "    if (output.metadata[EXEC_MIME_TYPE][\"id\"] !== undefined) {\n",
       "      toinsert[toinsert.length - 1].firstChild.textContent = output.data[JS_MIME_TYPE];\n",
       "      // store reference to embed id on output_area\n",
       "      output_area._bokeh_element_id = output.metadata[EXEC_MIME_TYPE][\"id\"];\n",
       "    }\n",
       "    if (output.metadata[EXEC_MIME_TYPE][\"server_id\"] !== undefined) {\n",
       "      var bk_div = document.createElement(\"div\");\n",
       "      bk_div.innerHTML = output.data[HTML_MIME_TYPE];\n",
       "      var script_attrs = bk_div.children[0].attributes;\n",
       "      for (var i = 0; i < script_attrs.length; i++) {\n",
       "        toinsert[toinsert.length - 1].firstChild.setAttribute(script_attrs[i].name, script_attrs[i].value);\n",
       "      }\n",
       "      // store reference to server id on output_area\n",
       "      output_area._bokeh_server_id = output.metadata[EXEC_MIME_TYPE][\"server_id\"];\n",
       "    }\n",
       "  }\n",
       "\n",
       "  function register_renderer(events, OutputArea) {\n",
       "\n",
       "    function append_mime(data, metadata, element) {\n",
       "      // create a DOM node to render to\n",
       "      var toinsert = this.create_output_subarea(\n",
       "        metadata,\n",
       "        CLASS_NAME,\n",
       "        EXEC_MIME_TYPE\n",
       "      );\n",
       "      this.keyboard_manager.register_events(toinsert);\n",
       "      // Render to node\n",
       "      var props = {data: data, metadata: metadata[EXEC_MIME_TYPE]};\n",
       "      render(props, toinsert[toinsert.length - 1]);\n",
       "      element.append(toinsert);\n",
       "      return toinsert\n",
       "    }\n",
       "\n",
       "    /* Handle when an output is cleared or removed */\n",
       "    events.on('clear_output.CodeCell', handleClearOutput);\n",
       "    events.on('delete.Cell', handleClearOutput);\n",
       "\n",
       "    /* Handle when a new output is added */\n",
       "    events.on('output_added.OutputArea', handleAddOutput);\n",
       "\n",
       "    /**\n",
       "     * Register the mime type and append_mime function with output_area\n",
       "     */\n",
       "    OutputArea.prototype.register_mime_type(EXEC_MIME_TYPE, append_mime, {\n",
       "      /* Is output safe? */\n",
       "      safe: true,\n",
       "      /* Index of renderer in `output_area.display_order` */\n",
       "      index: 0\n",
       "    });\n",
       "  }\n",
       "\n",
       "  // register the mime type if in Jupyter Notebook environment and previously unregistered\n",
       "  if (root.Jupyter !== undefined) {\n",
       "    var events = require('base/js/events');\n",
       "    var OutputArea = require('notebook/js/outputarea').OutputArea;\n",
       "\n",
       "    if (OutputArea.prototype.mime_types().indexOf(EXEC_MIME_TYPE) == -1) {\n",
       "      register_renderer(events, OutputArea);\n",
       "    }\n",
       "  }\n",
       "\n",
       "  \n",
       "  if (typeof (root._bokeh_timeout) === \"undefined\" || force === true) {\n",
       "    root._bokeh_timeout = Date.now() + 5000;\n",
       "    root._bokeh_failed_load = false;\n",
       "  }\n",
       "\n",
       "  var NB_LOAD_WARNING = {'data': {'text/html':\n",
       "     \"<div style='background-color: #fdd'>\\n\"+\n",
       "     \"<p>\\n\"+\n",
       "     \"BokehJS does not appear to have successfully loaded. If loading BokehJS from CDN, this \\n\"+\n",
       "     \"may be due to a slow or bad network connection. Possible fixes:\\n\"+\n",
       "     \"</p>\\n\"+\n",
       "     \"<ul>\\n\"+\n",
       "     \"<li>re-rerun `output_notebook()` to attempt to load from CDN again, or</li>\\n\"+\n",
       "     \"<li>use INLINE resources instead, as so:</li>\\n\"+\n",
       "     \"</ul>\\n\"+\n",
       "     \"<code>\\n\"+\n",
       "     \"from bokeh.resources import INLINE\\n\"+\n",
       "     \"output_notebook(resources=INLINE)\\n\"+\n",
       "     \"</code>\\n\"+\n",
       "     \"</div>\"}};\n",
       "\n",
       "  function display_loaded() {\n",
       "    var el = document.getElementById(null);\n",
       "    if (el != null) {\n",
       "      el.textContent = \"BokehJS is loading...\";\n",
       "    }\n",
       "    if (root.Bokeh !== undefined) {\n",
       "      if (el != null) {\n",
       "        el.textContent = \"BokehJS \" + root.Bokeh.version + \" successfully loaded.\";\n",
       "      }\n",
       "    } else if (Date.now() < root._bokeh_timeout) {\n",
       "      setTimeout(display_loaded, 100)\n",
       "    }\n",
       "  }\n",
       "\n",
       "\n",
       "  function run_callbacks() {\n",
       "    try {\n",
       "      root._bokeh_onload_callbacks.forEach(function(callback) { callback() });\n",
       "    }\n",
       "    finally {\n",
       "      delete root._bokeh_onload_callbacks\n",
       "    }\n",
       "    console.info(\"Bokeh: all callbacks have finished\");\n",
       "  }\n",
       "\n",
       "  function load_libs(js_urls, callback) {\n",
       "    root._bokeh_onload_callbacks.push(callback);\n",
       "    if (root._bokeh_is_loading > 0) {\n",
       "      console.log(\"Bokeh: BokehJS is being loaded, scheduling callback at\", now());\n",
       "      return null;\n",
       "    }\n",
       "    if (js_urls == null || js_urls.length === 0) {\n",
       "      run_callbacks();\n",
       "      return null;\n",
       "    }\n",
       "    console.log(\"Bokeh: BokehJS not loaded, scheduling load and callback at\", now());\n",
       "    root._bokeh_is_loading = js_urls.length;\n",
       "    for (var i = 0; i < js_urls.length; i++) {\n",
       "      var url = js_urls[i];\n",
       "      var s = document.createElement('script');\n",
       "      s.src = url;\n",
       "      s.async = false;\n",
       "      s.onreadystatechange = s.onload = function() {\n",
       "        root._bokeh_is_loading--;\n",
       "        if (root._bokeh_is_loading === 0) {\n",
       "          console.log(\"Bokeh: all BokehJS libraries loaded\");\n",
       "          run_callbacks()\n",
       "        }\n",
       "      };\n",
       "      s.onerror = function() {\n",
       "        console.warn(\"failed to load library \" + url);\n",
       "      };\n",
       "      console.log(\"Bokeh: injecting script tag for BokehJS library: \", url);\n",
       "      document.getElementsByTagName(\"head\")[0].appendChild(s);\n",
       "    }\n",
       "  };\n",
       "\n",
       "  var js_urls = [\"https://cdn.pydata.org/bokeh/release/bokeh-0.13.0.min.js\", \"https://cdn.pydata.org/bokeh/release/bokeh-widgets-0.13.0.min.js\", \"https://cdn.pydata.org/bokeh/release/bokeh-tables-0.13.0.min.js\", \"https://cdn.pydata.org/bokeh/release/bokeh-gl-0.13.0.min.js\"];\n",
       "\n",
       "  var inline_js = [\n",
       "    function(Bokeh) {\n",
       "      Bokeh.set_log_level(\"info\");\n",
       "    },\n",
       "    \n",
       "    function(Bokeh) {\n",
       "      \n",
       "    },\n",
       "    function(Bokeh) {\n",
       "      console.log(\"Bokeh: injecting CSS: https://cdn.pydata.org/bokeh/release/bokeh-0.13.0.min.css\");\n",
       "      Bokeh.embed.inject_css(\"https://cdn.pydata.org/bokeh/release/bokeh-0.13.0.min.css\");\n",
       "      console.log(\"Bokeh: injecting CSS: https://cdn.pydata.org/bokeh/release/bokeh-widgets-0.13.0.min.css\");\n",
       "      Bokeh.embed.inject_css(\"https://cdn.pydata.org/bokeh/release/bokeh-widgets-0.13.0.min.css\");\n",
       "      console.log(\"Bokeh: injecting CSS: https://cdn.pydata.org/bokeh/release/bokeh-tables-0.13.0.min.css\");\n",
       "      Bokeh.embed.inject_css(\"https://cdn.pydata.org/bokeh/release/bokeh-tables-0.13.0.min.css\");\n",
       "    }\n",
       "  ];\n",
       "\n",
       "  function run_inline_js() {\n",
       "    \n",
       "    if ((root.Bokeh !== undefined) || (force === true)) {\n",
       "      for (var i = 0; i < inline_js.length; i++) {\n",
       "        inline_js[i].call(root, root.Bokeh);\n",
       "      }} else if (Date.now() < root._bokeh_timeout) {\n",
       "      setTimeout(run_inline_js, 100);\n",
       "    } else if (!root._bokeh_failed_load) {\n",
       "      console.log(\"Bokeh: BokehJS failed to load within specified timeout.\");\n",
       "      root._bokeh_failed_load = true;\n",
       "    } else if (force !== true) {\n",
       "      var cell = $(document.getElementById(null)).parents('.cell').data().cell;\n",
       "      cell.output_area.append_execute_result(NB_LOAD_WARNING)\n",
       "    }\n",
       "\n",
       "  }\n",
       "\n",
       "  if (root._bokeh_is_loading === 0) {\n",
       "    console.log(\"Bokeh: BokehJS loaded, going straight to plotting\");\n",
       "    run_inline_js();\n",
       "  } else {\n",
       "    load_libs(js_urls, function() {\n",
       "      console.log(\"Bokeh: BokehJS plotting callback run at\", now());\n",
       "      run_inline_js();\n",
       "    });\n",
       "  }\n",
       "}(window));"
      ],
      "application/vnd.bokehjs_load.v0+json": "\n(function(root) {\n  function now() {\n    return new Date();\n  }\n\n  var force = true;\n\n  if (typeof (root._bokeh_onload_callbacks) === \"undefined\" || force === true) {\n    root._bokeh_onload_callbacks = [];\n    root._bokeh_is_loading = undefined;\n  }\n\n  \n\n  \n  if (typeof (root._bokeh_timeout) === \"undefined\" || force === true) {\n    root._bokeh_timeout = Date.now() + 5000;\n    root._bokeh_failed_load = false;\n  }\n\n  var NB_LOAD_WARNING = {'data': {'text/html':\n     \"<div style='background-color: #fdd'>\\n\"+\n     \"<p>\\n\"+\n     \"BokehJS does not appear to have successfully loaded. If loading BokehJS from CDN, this \\n\"+\n     \"may be due to a slow or bad network connection. Possible fixes:\\n\"+\n     \"</p>\\n\"+\n     \"<ul>\\n\"+\n     \"<li>re-rerun `output_notebook()` to attempt to load from CDN again, or</li>\\n\"+\n     \"<li>use INLINE resources instead, as so:</li>\\n\"+\n     \"</ul>\\n\"+\n     \"<code>\\n\"+\n     \"from bokeh.resources import INLINE\\n\"+\n     \"output_notebook(resources=INLINE)\\n\"+\n     \"</code>\\n\"+\n     \"</div>\"}};\n\n  function display_loaded() {\n    var el = document.getElementById(null);\n    if (el != null) {\n      el.textContent = \"BokehJS is loading...\";\n    }\n    if (root.Bokeh !== undefined) {\n      if (el != null) {\n        el.textContent = \"BokehJS \" + root.Bokeh.version + \" successfully loaded.\";\n      }\n    } else if (Date.now() < root._bokeh_timeout) {\n      setTimeout(display_loaded, 100)\n    }\n  }\n\n\n  function run_callbacks() {\n    try {\n      root._bokeh_onload_callbacks.forEach(function(callback) { callback() });\n    }\n    finally {\n      delete root._bokeh_onload_callbacks\n    }\n    console.info(\"Bokeh: all callbacks have finished\");\n  }\n\n  function load_libs(js_urls, callback) {\n    root._bokeh_onload_callbacks.push(callback);\n    if (root._bokeh_is_loading > 0) {\n      console.log(\"Bokeh: BokehJS is being loaded, scheduling callback at\", now());\n      return null;\n    }\n    if (js_urls == null || js_urls.length === 0) {\n      run_callbacks();\n      return null;\n    }\n    console.log(\"Bokeh: BokehJS not loaded, scheduling load and callback at\", now());\n    root._bokeh_is_loading = js_urls.length;\n    for (var i = 0; i < js_urls.length; i++) {\n      var url = js_urls[i];\n      var s = document.createElement('script');\n      s.src = url;\n      s.async = false;\n      s.onreadystatechange = s.onload = function() {\n        root._bokeh_is_loading--;\n        if (root._bokeh_is_loading === 0) {\n          console.log(\"Bokeh: all BokehJS libraries loaded\");\n          run_callbacks()\n        }\n      };\n      s.onerror = function() {\n        console.warn(\"failed to load library \" + url);\n      };\n      console.log(\"Bokeh: injecting script tag for BokehJS library: \", url);\n      document.getElementsByTagName(\"head\")[0].appendChild(s);\n    }\n  };\n\n  var js_urls = [\"https://cdn.pydata.org/bokeh/release/bokeh-0.13.0.min.js\", \"https://cdn.pydata.org/bokeh/release/bokeh-widgets-0.13.0.min.js\", \"https://cdn.pydata.org/bokeh/release/bokeh-tables-0.13.0.min.js\", \"https://cdn.pydata.org/bokeh/release/bokeh-gl-0.13.0.min.js\"];\n\n  var inline_js = [\n    function(Bokeh) {\n      Bokeh.set_log_level(\"info\");\n    },\n    \n    function(Bokeh) {\n      \n    },\n    function(Bokeh) {\n      console.log(\"Bokeh: injecting CSS: https://cdn.pydata.org/bokeh/release/bokeh-0.13.0.min.css\");\n      Bokeh.embed.inject_css(\"https://cdn.pydata.org/bokeh/release/bokeh-0.13.0.min.css\");\n      console.log(\"Bokeh: injecting CSS: https://cdn.pydata.org/bokeh/release/bokeh-widgets-0.13.0.min.css\");\n      Bokeh.embed.inject_css(\"https://cdn.pydata.org/bokeh/release/bokeh-widgets-0.13.0.min.css\");\n      console.log(\"Bokeh: injecting CSS: https://cdn.pydata.org/bokeh/release/bokeh-tables-0.13.0.min.css\");\n      Bokeh.embed.inject_css(\"https://cdn.pydata.org/bokeh/release/bokeh-tables-0.13.0.min.css\");\n    }\n  ];\n\n  function run_inline_js() {\n    \n    if ((root.Bokeh !== undefined) || (force === true)) {\n      for (var i = 0; i < inline_js.length; i++) {\n        inline_js[i].call(root, root.Bokeh);\n      }} else if (Date.now() < root._bokeh_timeout) {\n      setTimeout(run_inline_js, 100);\n    } else if (!root._bokeh_failed_load) {\n      console.log(\"Bokeh: BokehJS failed to load within specified timeout.\");\n      root._bokeh_failed_load = true;\n    } else if (force !== true) {\n      var cell = $(document.getElementById(null)).parents('.cell').data().cell;\n      cell.output_area.append_execute_result(NB_LOAD_WARNING)\n    }\n\n  }\n\n  if (root._bokeh_is_loading === 0) {\n    console.log(\"Bokeh: BokehJS loaded, going straight to plotting\");\n    run_inline_js();\n  } else {\n    load_libs(js_urls, function() {\n      console.log(\"Bokeh: BokehJS plotting callback run at\", now());\n      run_inline_js();\n    });\n  }\n}(window));"
     },
     "metadata": {},
     "output_type": "display_data"
    }
   ],
   "source": [
    "import pandas as pd\n",
    "import numpy as np\n",
    "\n",
    "from datetime import datetime\n",
    "from datetime import timedelta\n",
    "\n",
    "from scipy.optimize import curve_fit\n",
    "from scipy.optimize import fsolve\n",
    "\n",
    "import matplotlib.pyplot as plt\n",
    "\n",
    "import re\n",
    "\n",
    "from bokeh.plotting import figure\n",
    "from bokeh.io import output_notebook, show\n",
    "from bokeh.models import ColumnDataSource, HoverTool\n",
    "from bokeh.models import NumeralTickFormatter, DatetimeTickFormatter\n",
    "\n",
    "output_notebook(hide_banner=True)"
   ]
  },
  {
   "cell_type": "markdown",
   "metadata": {},
   "source": [
    "# Options"
   ]
  },
  {
   "cell_type": "code",
   "execution_count": 2,
   "metadata": {},
   "outputs": [],
   "source": [
    "pd.set_option('display.width', 1000)"
   ]
  },
  {
   "cell_type": "markdown",
   "metadata": {},
   "source": [
    "# Data sets"
   ]
  },
  {
   "cell_type": "markdown",
   "metadata": {},
   "source": [
    "## Johns Hopkins (JH) [Covid-19 dataset](https://github.com/CSSEGISandData/COVID-19)"
   ]
  },
  {
   "cell_type": "code",
   "execution_count": 3,
   "metadata": {},
   "outputs": [],
   "source": [
    "url_cases = 'https://raw.githubusercontent.com/CSSEGISandData/COVID-19/master/csse_covid_19_data/csse_covid_19_time_series/time_series_covid19_confirmed_global.csv'\n",
    "\n",
    "df_load_cases = pd\\\n",
    "    .read_csv(url_cases, sep=',', engine='python')\\\n",
    "    .groupby(\"Country/Region\")\\\n",
    "    .sum()\\\n",
    "    .reset_index(level=[0])\\\n",
    "    .rename({\"Country/Region\": 'countriesAndTerritories'}, axis='columns', inplace=False)\\\n",
    "    .drop(['Lat', 'Long'], axis='columns')\\\n",
    "    .melt('countriesAndTerritories', var_name='dateRep', value_name='cum_cases')\n",
    "\n",
    "url_deaths = 'https://raw.githubusercontent.com/CSSEGISandData/COVID-19/master/csse_covid_19_data/csse_covid_19_time_series/time_series_covid19_deaths_global.csv'\n",
    "\n",
    "df_load_deaths = pd\\\n",
    "    .read_csv(url_deaths, sep=',', engine='python')\\\n",
    "    .groupby(\"Country/Region\")\\\n",
    "    .sum()\\\n",
    "    .reset_index(level=[0])\\\n",
    "    .rename({\"Country/Region\": 'countriesAndTerritories'}, axis='columns', inplace=False)\\\n",
    "    .drop(['Lat', 'Long'], axis='columns')\\\n",
    "    .melt('countriesAndTerritories', var_name='dateRep', value_name='cum_deaths')\n",
    "\n",
    "df_load_jh = pd\\\n",
    "    .merge(df_load_cases, df_load_deaths,  how='inner', on=['countriesAndTerritories', 'dateRep'])\n",
    "\n",
    "df_load_jh['dateRep'] = df_load_jh['dateRep'].map(lambda x : (datetime.strptime(x, '%m/%d/%y').strftime('%d/%m/%Y')))\n",
    "\n",
    "df_1_jh = df_load_jh\n",
    "\n",
    "df_1_jh['days'] = df_1_jh['dateRep']\\\n",
    "    .map(lambda x : (datetime.strptime(x, '%d/%m/%Y') - datetime.strptime(\"01/01/2020\", '%d/%m/%Y')).days)\n",
    "\n",
    "df_1_jh = df_1_jh.sort_values(['countriesAndTerritories', 'days'], ascending=[True, True])\n",
    "df_1_jh = df_1_jh[df_1_jh['days'] >= 0]\n",
    "\n",
    "df_2_jh = df_1_jh\\\n",
    "    .loc[:,['countriesAndTerritories', 'days', 'dateRep', 'cum_cases', 'cum_deaths']]\n",
    "\n",
    "df_2_jh['source'] = 'jh'"
   ]
  },
  {
   "cell_type": "markdown",
   "metadata": {},
   "source": [
    "## European Centre for Disease Prevention and Control (ECDC) [Covid-19 dataset](https://www.ecdc.europa.eu/en/publications-data/download-todays-data-geographic-distribution-covid-19-cases-worldwide)"
   ]
  },
  {
   "cell_type": "markdown",
   "metadata": {},
   "source": [
    "Remarks: ECDC data does not match Robert Koch Institute (RKI) data in all time points! The issue was reported to ECDC on 2020-03-31.\n",
    "\n",
    "Unfortunately, at least for Germany, some potential data issues has been found. For some days the reported number of cases/deaths is different from RKI.\n",
    "\n",
    "Some observations (ECDC v RKI):\n",
    "* 1,042 incremental/8,198 cumulative ( 2020-03-19) vs 1,042/8,198 (2020-03-19)   (not okay, a shift in the day)\n",
    "* 2020-03-20: 5,940/14,138 vs 2,958/13,957 (not okay)\n",
    "* 2020-03-24: 4,438/29,212 vs 4,764/27,436 (not okay)\n",
    "* 2020-03-25: 2,342/31,554 vs 4,118/31,554 (not okay, wrong increments)\n",
    "* 2020-03-28: 6,294/48,582 vs 6,294/48,582 (okay)\n",
    "\n",
    "I have used the following ECDC data:\n",
    "[Link](https://www.ecdc.europa.eu/en/publications-data/download-todays-data-geographic-distribution-covid-19-cases-worldwide)\n",
    "\n",
    "RKI data:\n",
    "[Situationsbericht 2020-03-18](https://www.rki.de/DE/Content/InfAZ/N/Neuartiges_Coronavirus/Situationsberichte/2020-03-18-de.pdf?__blob=publicationFile),\n",
    "[Situationsbericht 2020-03-24](https://www.rki.de/DE/Content/InfAZ/N/Neuartiges_Coronavirus/Situationsberichte/2020-03-24-de.pdf?__blob=publicationFile),\n",
    "[Situationsbericht 2020-03-25](https://www.rki.de/DE/Content/InfAZ/N/Neuartiges_Coronavirus/Situationsberichte/2020-03-25-de.pdf?__blob=publicationFile) and \n",
    "[Situationsbericht 2020-03-28](https://www.rki.de/DE/Content/InfAZ/N/Neuartiges_Coronavirus/Situationsberichte/2020-03-28-de.pdf?__blob=publicationFile)"
   ]
  },
  {
   "cell_type": "markdown",
   "metadata": {},
   "source": [
    "### Remark: Currently, ECDC have an data file issue!"
   ]
  },
  {
   "cell_type": "code",
   "execution_count": 4,
   "metadata": {},
   "outputs": [],
   "source": [
    "# url = \"https://opendata.ecdc.europa.eu/covid19/casedistribution/csv/\"\n",
    "\n",
    "# df_load_ecdc = pd\\\n",
    "#     .read_csv(url, sep=',', engine='python')\n",
    "\n",
    "# df_load_ecdc.columns= [re.sub(\"[^A-Za-z]\", \"\", col) for col in df_load_ecdc.columns]\n",
    "\n",
    "# df_1_ecdc = df_load_ecdc\\\n",
    "#     .loc[:,['dateRep','cases', 'deaths', 'countriesAndTerritories']]\n",
    "\n",
    "# df_1_ecdc['days'] = df_1_ecdc['dateRep']\\\n",
    "#     .map(lambda x : (datetime.strptime(x, '%d/%m/%Y') - datetime.strptime(\"01/01/2020\", '%d/%m/%Y')).days)\n",
    "\n",
    "# df_1_ecdc = df_1_ecdc.sort_values(['countriesAndTerritories', 'days'], ascending=[True, True])\n",
    "# df_1_ecdc = df_1_ecdc[df_1_ecdc['days'] >= 0]\n",
    "\n",
    "# df_2_ecdc =  df_1_ecdc\\\n",
    "#     .groupby(['countriesAndTerritories', 'days','dateRep'])\\\n",
    "#     .agg(cum_cases=('cases', 'sum'), cum_deaths=('deaths', 'sum'))\\\n",
    "#     .groupby(level=[0])\\\n",
    "#     .cumsum()\\\n",
    "#     .reset_index(level=[0, 1, 2])\n",
    "\n",
    "# df_2_ecdc = df_2_ecdc.sort_values(['countriesAndTerritories', 'days'], ascending=[True, True])\n",
    "\n",
    "# df_2_ecdc['source'] = 'ecdc'"
   ]
  },
  {
   "cell_type": "markdown",
   "metadata": {},
   "source": [
    "Join the two data sources"
   ]
  },
  {
   "cell_type": "code",
   "execution_count": 5,
   "metadata": {},
   "outputs": [],
   "source": [
    "# df_2 = pd.concat([df_2_jh, df_2_ecdc])"
   ]
  },
  {
   "cell_type": "code",
   "execution_count": 6,
   "metadata": {},
   "outputs": [],
   "source": [
    "df_2 = df_2_jh"
   ]
  },
  {
   "cell_type": "markdown",
   "metadata": {},
   "source": [
    "# Further data preparation"
   ]
  },
  {
   "cell_type": "markdown",
   "metadata": {},
   "source": [
    "Add additinal information to shift all data points to point reporting 1000 cases"
   ]
  },
  {
   "cell_type": "code",
   "execution_count": 7,
   "metadata": {},
   "outputs": [],
   "source": [
    "df_same_1 = df_2\n",
    "\n",
    "df_same_2 = df_same_1[df_same_1['cum_cases'] >= 1000]\\\n",
    "    .groupby(['countriesAndTerritories', 'source'])\\\n",
    "    .agg(min_days=('days', 'min'))\n",
    "\n",
    "df_3 = pd\\\n",
    "    .merge(df_2, df_same_2,  how='inner', on=['countriesAndTerritories', 'source'])\n",
    "\n",
    "df_3['same_day'] = df_3['days'] - df_3['min_days']\n",
    "\n",
    "df_3 = df_3.drop(['min_days'], axis='columns')"
   ]
  },
  {
   "cell_type": "markdown",
   "metadata": {},
   "source": [
    "Add incremental cases and deaths to data to better judge data fit quality"
   ]
  },
  {
   "cell_type": "code",
   "execution_count": 8,
   "metadata": {},
   "outputs": [],
   "source": [
    "df_3 = df_3.sort_values(['countriesAndTerritories', 'days','dateRep', 'source'], ascending=[True, True, True, True])\n",
    "\n",
    "df_3_inc = df_3\\\n",
    "    .groupby(['source', 'countriesAndTerritories', 'days','dateRep'])\\\n",
    "    .agg(cases=('cum_cases', 'sum'), deaths=('cum_deaths', 'sum'))\\\n",
    "    .groupby(level=[0])\\\n",
    "    .diff(periods=1, axis=0)\\\n",
    "    .reset_index(level=[0, 1, 2, 3])\n",
    "\n",
    "df_4 = pd.merge(df_3, df_3_inc,  how='inner', on=['countriesAndTerritories', 'days','dateRep', 'source'])\n",
    "\n",
    "df_4['cases'] = df_4['cases'].fillna(df_4['cum_cases'])\n",
    "df_4['deaths'] = df_4['deaths'].fillna(df_4['cum_deaths'])"
   ]
  },
  {
   "cell_type": "markdown",
   "metadata": {},
   "source": [
    "Final data set for analysis"
   ]
  },
  {
   "cell_type": "code",
   "execution_count": 9,
   "metadata": {},
   "outputs": [],
   "source": [
    "df_final = df_4"
   ]
  },
  {
   "cell_type": "markdown",
   "metadata": {},
   "source": [
    "Show some data"
   ]
  },
  {
   "cell_type": "code",
   "execution_count": 10,
   "metadata": {},
   "outputs": [],
   "source": [
    "#df_final[(df_final['countriesAndTerritories'] == \"Germany\") & (df_final['days'] > 70) & (df_final['source'] == 'jh')]"
   ]
  },
  {
   "cell_type": "markdown",
   "metadata": {},
   "source": [
    "## Countries most affected"
   ]
  },
  {
   "cell_type": "markdown",
   "metadata": {},
   "source": [
    "Need to differentiate between data sources due to different country naming"
   ]
  },
  {
   "cell_type": "code",
   "execution_count": 11,
   "metadata": {},
   "outputs": [],
   "source": [
    "df_countries = df_final[df_final['source'] == 'jh']\\\n",
    "    .groupby(['countriesAndTerritories'])\\\n",
    "    .agg(cum_cases=('cum_cases', 'max'))\\\n",
    "    .sort_values(['cum_cases'], ascending=[False])\\\n",
    "    .reset_index(level=[0])\n",
    "\n",
    "list_countries_jh = df_countries.iloc[:9]['countriesAndTerritories'].tolist()"
   ]
  },
  {
   "cell_type": "code",
   "execution_count": 12,
   "metadata": {},
   "outputs": [],
   "source": [
    "df_countries = df_final[df_final['source'] == 'ecdc']\\\n",
    "    .groupby(['countriesAndTerritories'])\\\n",
    "    .agg(cum_cases=('cum_cases', 'max'))\\\n",
    "    .sort_values(['cum_cases'], ascending=[False])\\\n",
    "    .reset_index(level=[0])\n",
    "\n",
    "list_countries_ecdc = df_countries.iloc[:9]['countriesAndTerritories'].tolist()"
   ]
  },
  {
   "cell_type": "code",
   "execution_count": 13,
   "metadata": {},
   "outputs": [],
   "source": [
    "list_countries = {\n",
    "    'jh': list_countries_jh,\n",
    "    'ecdc': list_countries_ecdc\n",
    "}"
   ]
  },
  {
   "cell_type": "markdown",
   "metadata": {},
   "source": [
    "# Fitting functions"
   ]
  },
  {
   "cell_type": "code",
   "execution_count": 14,
   "metadata": {},
   "outputs": [],
   "source": [
    "def logistic_model(x, a, b, c):\n",
    "    return c/(1 + np.exp(-(x - b)/a))\n",
    "\n",
    "def exponential_2p_model(x, a, b):\n",
    "    return a*np.exp(b*x)\n",
    "\n",
    "def fitting(model, x, y):\n",
    "    if model == 'logistic':\n",
    "        fit = curve_fit(logistic_model, x, y, p0=[2, 100, 20000], maxfev = 50000)\n",
    "        return fit\n",
    "    if model == 'exponential':\n",
    "        fit = curve_fit(exponential_2p_model, x, y, p0=[10000, 0.1], maxfev = 50000)\n",
    "        return fit\n",
    "\n",
    "def model_selection(model):\n",
    "    if model == 'logistic':\n",
    "        return logistic_model\n",
    "    if model == 'exponential':\n",
    "        return exponential_2p_model\n",
    "    \n",
    "def additional_info(model, fit):\n",
    "    if model == 'logistic':\n",
    "        print(\n",
    "            'days to reach limit of ', \"{:,}\".format(int(fit[0][2])),\n",
    "            ': ',\n",
    "            \"{:,}\".format(int(int(fsolve(lambda x : logistic_model(x, *fit[0]) - int(fit[0][2]), fit[0][1]))))\n",
    "        )\n",
    "    if model == 'exponential':\n",
    "        print('time to double:', np.round(np.log(2)/fit[0][1], 1))"
   ]
  },
  {
   "cell_type": "code",
   "execution_count": 15,
   "metadata": {},
   "outputs": [],
   "source": [
    "def extrapolate(df_in, what, model, days_fitting, days_extropolate, shift):\n",
    "    df_out = df_in\n",
    "    \n",
    "    df_in = df_in[df_in['cum_' + what].notnull()]\n",
    "\n",
    "    if shift != 0:\n",
    "        shift_str = \"_prior\"\n",
    "    else:\n",
    "        shift_str = \"\"\n",
    "    \n",
    "    x_date = df_in['date'].iloc[-days_fitting - shift:-shift or None]\n",
    "    x_days = df_in['days'].iloc[-days_fitting - shift:-shift or None]\n",
    "\n",
    "    y_fit = df_in['cum_' + what].iloc[-days_fitting - shift:-shift or None]\n",
    "\n",
    "    selected_model = model_selection(model)\n",
    "    fit = fitting(model, x_days, y_fit)\n",
    "    \n",
    "    x_date_pred = pd\\\n",
    "        .date_range(start=list(x_date.tail(1))[0] + timedelta(days=1) , periods=days_extropolate + shift)\\\n",
    "        .to_series()\\\n",
    "        .rename(\"date\")\\\n",
    "        .reset_index()\\\n",
    "        .drop(['index'], axis='columns')\n",
    "\n",
    "    x_days_pred = pd\\\n",
    "        .Series(np.arange(int(x_days.tail(1)) + 1, int(x_days.tail(1)) + 1 + days_extropolate + shift))\\\n",
    "        .rename(\"days\")\n",
    "    \n",
    "    y_pred = pd\\\n",
    "        .Series((int(selected_model(i, *fit[0])) for i in x_days_pred))\\\n",
    "        .rename(\"cum_\" + what + \"_\" + model + shift_str)\n",
    "    \n",
    "    y_days = pd\\\n",
    "        .Series((int(selected_model(i, *fit[0])) for i in x_days))\\\n",
    "        .rename(\"cum_\" + what + \"_\" + model + shift_str)\n",
    "\n",
    "    x_days = x_days.reset_index()\n",
    "    \n",
    "    df_fit_actuals = pd\\\n",
    "        .concat([x_date.reset_index(), x_days.reset_index(), y_days], axis=1)\\\n",
    "        .drop(['level_0', 'index'], axis='columns')\n",
    "\n",
    "    df_fit_pred = pd.concat([x_date_pred, x_days_pred, y_pred], axis=1)\n",
    "\n",
    "    df_fit_cum = pd\\\n",
    "        .concat([df_fit_actuals, df_fit_pred])\\\n",
    "        .reset_index()\\\n",
    "        .drop(['index'], axis='columns')\n",
    "    \n",
    "    # Code does not work\n",
    "    # df_fit_inc = df_fit_cum\\\n",
    "    #     .groupby(['date', 'days'])\\\n",
    "    #     .agg(quantitiy=(\"cum_\" + what + \"_\" + model+ shift_str, 'sum'))\\\n",
    "    #     .groupby(level=[0])\\\n",
    "    #     .diff(periods=1, axis=0)\\\n",
    "    #     .reset_index(level=[0, 1])\n",
    "\n",
    "    # df_fit_inc[what + \"_\" + model + shift_str] = df_fit_inc[\"quantitiy\"]\n",
    "    # df_fit_inc = df_fit_inc.drop(['quantitiy'], axis='columns')\n",
    "\n",
    "    # df_fit = pd.merge(df_fit_cum, df_fit_inc,  how='inner', on=['date', 'days'])\n",
    "    \n",
    "    # Workaround\n",
    "    df_fit_inc = pd\\\n",
    "        .Series(np.hstack((np.array((np.NaN)),np.diff(df_fit_cum[\"cum_\" + what + \"_\" + model + shift_str]))))\\\n",
    "        .rename(what + \"_\" + model + shift_str)\n",
    "    \n",
    "    df_fit = pd.merge(df_fit_cum, df_fit_inc,  how='inner', left_index=True, right_index=True)\n",
    "    \n",
    "    df_predictions = pd.merge(df_out, df_fit, how='outer', on=['date', 'days'])\n",
    "    \n",
    "    return df_predictions"
   ]
  },
  {
   "cell_type": "markdown",
   "metadata": {},
   "source": [
    "# Plotting and fitting"
   ]
  },
  {
   "cell_type": "code",
   "execution_count": 16,
   "metadata": {},
   "outputs": [],
   "source": [
    "def single_country_new(country, source, what, df_input, days_fitting=14, days_extropolate=3, shift=7, model_list=[]):\n",
    "    \n",
    "    df_input = df_input[df_input['countriesAndTerritories'] == country]\n",
    "    df_input= df_input[df_input['cum_cases'] > 100]\n",
    "    df_input = df_input[df_input['source'] == source]\n",
    "    \n",
    "    df_input['date'] = df_input['dateRep']\\\n",
    "        .map(lambda x : datetime.strptime(x, '%d/%m/%Y'))\n",
    "    \n",
    "    df_input = df_input\\\n",
    "        .drop(['countriesAndTerritories', 'dateRep', 'source', 'same_day'], axis='columns')\n",
    "    \n",
    "    out = df_input\n",
    "    \n",
    "    out = extrapolate(out, what, 'logistic', days_fitting, days_extropolate, shift=0)\n",
    "    out = extrapolate(out, what, 'logistic', days_fitting, days_extropolate, shift=shift)\n",
    "    out = extrapolate(out, what, 'exponential', days_fitting, days_extropolate, shift=0)\n",
    "    out = extrapolate(out, what, 'exponential', days_fitting, days_extropolate, shift=shift)\n",
    "    \n",
    "    df_input = out\n",
    "    \n",
    "    p = figure(\n",
    "        title=country,\n",
    "        width=800,\n",
    "        height=600,\n",
    "        x_axis_type=\"datetime\",\n",
    "        toolbar_location=\"below\"\n",
    "    )\n",
    "    \n",
    "    p.xaxis.axis_label = 'date'\n",
    "    p.yaxis.axis_label = what\n",
    "    \n",
    "    p.yaxis.formatter=NumeralTickFormatter(format=\"0,0\")\n",
    "    p.xaxis.formatter=DatetimeTickFormatter(\n",
    "        days=['%Y-%m-%d'],\n",
    "        months=['%Y-%m-%d'],\n",
    "        years=['%Y-%m-%d']\n",
    "    )\n",
    "    \n",
    "    def plot_line(p, x, y, color, text, line_dash):\n",
    "        source_actuals = ColumnDataSource(\n",
    "            data={\n",
    "                'x': df_input[x],\n",
    "                y: df_input[y],\n",
    "                'cum_' + y: df_input['cum_' + y],\n",
    "            }\n",
    "        )\n",
    "        \n",
    "        p.line(\n",
    "            'x',\n",
    "            y,\n",
    "            name=text + \" inc. \" + y,\n",
    "            source=source_actuals, \n",
    "            line_width=2,\n",
    "            legend=text + \" inc. \" + y,\n",
    "            color=color,\n",
    "            alpha=0.5,\n",
    "            hover_line_alpha=0.5,\n",
    "            line_dash=line_dash\n",
    "        )\n",
    "\n",
    "        p.line(\n",
    "            'x',\n",
    "            'cum_' + y,\n",
    "            name=text + \" cum. \" + y,\n",
    "            source=source_actuals, \n",
    "            line_width=2,\n",
    "            legend=text + \" cum. \" + y,\n",
    "            color=color,\n",
    "            alpha=0.5,\n",
    "            hover_line_alpha=0.5,\n",
    "            line_dash=line_dash\n",
    "        )\n",
    "        \n",
    "        p.add_tools(\n",
    "            HoverTool(\n",
    "                show_arrow=False,\n",
    "                names=[text + \" inc. \" + y, text + \" cum. \" + y],\n",
    "                line_policy='nearest',\n",
    "                tooltips=[\n",
    "                    (\"date\", \"$x{%F}\"),\n",
    "                    (text + \" inc. \" + y, \"@\" + y + \"{0,0}\"),\n",
    "                    (text + \" cum. \" + y, \"@cum_\" + y + \"{0,0}\"),\n",
    "                ],\n",
    "                formatters={\n",
    "                    '$x': 'datetime',\n",
    "                },\n",
    "                mode='mouse'\n",
    "            )\n",
    "        )\n",
    "    \n",
    "        return p\n",
    "    \n",
    "    p = plot_line(p, x='date', y=what, color=\"steelblue\", text='reported', line_dash='solid')\n",
    "    \n",
    "    if 'logistic' in model_list:\n",
    "        p = plot_line(p, x='date', y=what + \"_logistic\", color=\"green\", text='estimation', line_dash='dashed')\n",
    "        p = plot_line(p, x='date', y=what + \"_logistic_prior\", color=\"green\", text='estimation', line_dash='dotted')\n",
    "    if 'exponential' in model_list:\n",
    "        p = plot_line(p, x='date', y=what + \"_exponential\", color=\"orange\", text='estimation', line_dash='dashed')\n",
    "        p = plot_line(p, x='date', y=what + \"_exponential_prior\", color=\"orange\", text='estimation', line_dash='dotted')\n",
    "    \n",
    "    def plot_scatter(p, x, y, color, text, estimation, prior, shift):\n",
    "        \n",
    "        if prior:\n",
    "            days_fitting_shift = days_fitting + shift\n",
    "        else:\n",
    "            days_fitting_shift = days_fitting\n",
    "        \n",
    "        if estimation:\n",
    "            days_fitting_shift = days_fitting_shift + days_extropolate - days_fitting\n",
    "        else:\n",
    "            days_fitting_shift = days_fitting_shift\n",
    "        \n",
    "        if shift < 0:\n",
    "            days_fitting_shift = days_fitting_shift - shift\n",
    "        \n",
    "        source_scatter = ColumnDataSource(\n",
    "            data={\n",
    "                'x': df_input[x].tail(days_fitting_shift),\n",
    "                y: df_input[y].tail(days_fitting_shift),\n",
    "                'cum_' + y: df_input['cum_' + y].tail(days_fitting_shift),\n",
    "            }\n",
    "        )\n",
    "        \n",
    "        p.scatter(\n",
    "            'x',\n",
    "            y,\n",
    "            source=source_scatter, \n",
    "            line_width=2,\n",
    "            legend=text + \" inc. \" + y,\n",
    "            color=color,\n",
    "            alpha=0.5,\n",
    "            hover_line_alpha=0.5\n",
    "        )\n",
    "\n",
    "        p.scatter(\n",
    "            'x',\n",
    "            'cum_' + y,\n",
    "            source=source_scatter, \n",
    "            line_width=2,\n",
    "            legend=text + \" cum. \" + y,\n",
    "            color=color,\n",
    "            alpha=0.5,\n",
    "            hover_line_alpha=0.5\n",
    "        )\n",
    "        \n",
    "        return p\n",
    "    \n",
    "    p = plot_scatter(p, x='date', y=what, color=\"red\", text='reported', estimation=False, prior=False, shift=-days_extropolate)\n",
    "    \n",
    "    if 'logistic' in model_list:\n",
    "        p = plot_scatter(\n",
    "            p,\n",
    "            x='date',\n",
    "            y=what + \"_logistic\",\n",
    "            color=\"green\",\n",
    "            text='estimation',\n",
    "            estimation=True,\n",
    "            prior=False,\n",
    "            shift=0\n",
    "        )\n",
    "        p = plot_scatter(\n",
    "            p,\n",
    "            x='date',\n",
    "            y=what + \"_logistic_prior\",\n",
    "            color=\"green\",\n",
    "            text='estimation',\n",
    "            estimation=True,\n",
    "            prior=True,\n",
    "            shift=shift\n",
    "        )\n",
    "    if 'exponential' in model_list:\n",
    "        p = plot_scatter(\n",
    "            p,\n",
    "            x='date',\n",
    "            y=what + \"_exponential\",\n",
    "            color=\"orange\",\n",
    "            text='estimation',\n",
    "            estimation=True,\n",
    "            prior=False,\n",
    "            shift=0\n",
    "        )\n",
    "        p = plot_scatter(\n",
    "            p,\n",
    "            x='date',\n",
    "            y=what + \"_exponential_prior\",\n",
    "            color=\"orange\",\n",
    "            text='estimation',\n",
    "            estimation=True,\n",
    "            prior=True,\n",
    "            shift=shift\n",
    "        )\n",
    "    \n",
    "    p.legend.location = \"top_left\"\n",
    "    \n",
    "    show(p)"
   ]
  },
  {
   "cell_type": "markdown",
   "metadata": {},
   "source": [
    "# Main"
   ]
  },
  {
   "cell_type": "code",
   "execution_count": 17,
   "metadata": {},
   "outputs": [],
   "source": [
    "# Choose the data source: jh or ecdc\n",
    "source = 'jh'"
   ]
  },
  {
   "cell_type": "markdown",
   "metadata": {},
   "source": [
    "Show top countries"
   ]
  },
  {
   "cell_type": "code",
   "execution_count": 18,
   "metadata": {},
   "outputs": [
    {
     "name": "stdout",
     "output_type": "stream",
     "text": [
      "(0, 'US')\n",
      "(1, 'Italy')\n",
      "(2, 'Spain')\n",
      "(3, 'China')\n",
      "(4, 'Germany')\n",
      "(5, 'France')\n",
      "(6, 'Iran')\n",
      "(7, 'United Kingdom')\n",
      "(8, 'Switzerland')\n"
     ]
    }
   ],
   "source": [
    "print(*[(i, country) for i, country in enumerate(list_countries[source])], sep='\\n')"
   ]
  },
  {
   "cell_type": "markdown",
   "metadata": {},
   "source": [
    "Further options"
   ]
  },
  {
   "cell_type": "code",
   "execution_count": 19,
   "metadata": {},
   "outputs": [],
   "source": [
    "# Which country\n",
    "country = list_countries_jh[4]\n",
    "# How many data points should be including in the parameter estimation\n",
    "days_fitting = 7\n",
    "# How many days to extraplate and estimate\n",
    "days_extropolate = 3\n",
    "# For prior calculaion: How many days back in past a second extraplation and parameter estimation should go\n",
    "shift = 3\n",
    "# List of models to calculate: logistic or/and exponential\n",
    "model_list = ['logistic', 'exponential']"
   ]
  },
  {
   "cell_type": "markdown",
   "metadata": {},
   "source": [
    "Results for cases\n",
    "\n",
    "* Solid line: Acutals\n",
    "* Dashed line: Extrapolation based on last data\n",
    "* Dotted Line: Extrapolation based on prior data\n",
    "* Top curves: Cummulative numbers\n",
    "* Bottom curves: Incremental numbers\n",
    "\n",
    "Estimations are based on cummulative numbers."
   ]
  },
  {
   "cell_type": "code",
   "execution_count": 20,
   "metadata": {
    "scrolled": false
   },
   "outputs": [
    {
     "data": {
      "text/html": [
       "\n",
       "\n",
       "\n",
       "\n",
       "\n",
       "\n",
       "  <div class=\"bk-root\" id=\"1f37d0ff-475e-4113-b91d-84f934d51005\"></div>\n"
      ]
     },
     "metadata": {},
     "output_type": "display_data"
    },
    {
     "data": {
      "application/javascript": [
       "(function(root) {\n",
       "  function embed_document(root) {\n",
       "    \n",
       "  var docs_json = {\"0508ff55-b4f1-45d0-8b2c-6723493b537c\":{\"roots\":{\"references\":[{\"attributes\":{\"callback\":null,\"formatters\":{\"$x\":\"datetime\"},\"names\":[\"estimation inc. cases_logistic_prior\",\"estimation cum. cases_logistic_prior\"],\"renderers\":\"auto\",\"show_arrow\":false,\"tooltips\":[[\"date\",\"$x{%F}\"],[\"estimation inc. cases_logistic_prior\",\"@cases_logistic_prior{0,0}\"],[\"estimation cum. cases_logistic_prior\",\"@cum_cases_logistic_prior{0,0}\"]]},\"id\":\"a4becc57-a27e-44e1-ac03-3e8212c34f6e\",\"type\":\"HoverTool\"},{\"attributes\":{},\"id\":\"3b8c8564-169f-4dd3-ae3c-a643be2c6882\",\"type\":\"NumeralTickFormatter\"},{\"attributes\":{\"label\":{\"value\":\"estimation cum. cases_logistic_prior\"},\"renderers\":[{\"id\":\"f247b49d-c8ab-439d-b5be-8cac98da1c8d\",\"type\":\"GlyphRenderer\"},{\"id\":\"221bc6ae-a050-440b-b242-10045c92d2b0\",\"type\":\"GlyphRenderer\"}]},\"id\":\"2842d0dd-b565-4ab4-b776-a0b20e87bf5f\",\"type\":\"LegendItem\"},{\"attributes\":{\"line_alpha\":0.1,\"line_color\":\"#1f77b4\",\"line_dash\":[6],\"line_width\":2,\"x\":{\"field\":\"x\"},\"y\":{\"field\":\"cases_logistic\"}},\"id\":\"0db6e305-1dd7-4f09-958c-78c960f19a91\",\"type\":\"Line\"},{\"attributes\":{},\"id\":\"938a8f93-9d19-4fbd-bc2a-f5272c711af6\",\"type\":\"Selection\"},{\"attributes\":{},\"id\":\"fc2f29d7-7ab1-4ef4-a279-c99ff781516e\",\"type\":\"Selection\"},{\"attributes\":{\"source\":{\"id\":\"0f76f9c5-604f-45cd-9c16-8942702a1d4f\",\"type\":\"ColumnDataSource\"}},\"id\":\"7b90019e-da6d-4883-9d4a-a9d4f8a918b2\",\"type\":\"CDSView\"},{\"attributes\":{\"data_source\":{\"id\":\"0f76f9c5-604f-45cd-9c16-8942702a1d4f\",\"type\":\"ColumnDataSource\"},\"glyph\":{\"id\":\"13a4272e-724b-436c-8df5-2283c7c8ff4c\",\"type\":\"Line\"},\"hover_glyph\":{\"id\":\"b25c3e32-7e6c-419d-9c47-19ba1651b03f\",\"type\":\"Line\"},\"muted_glyph\":null,\"name\":\"estimation cum. cases_logistic_prior\",\"nonselection_glyph\":{\"id\":\"6f2386ac-5447-4e25-af05-52073cb34a84\",\"type\":\"Line\"},\"selection_glyph\":null,\"view\":{\"id\":\"7b90019e-da6d-4883-9d4a-a9d4f8a918b2\",\"type\":\"CDSView\"}},\"id\":\"f247b49d-c8ab-439d-b5be-8cac98da1c8d\",\"type\":\"GlyphRenderer\"},{\"attributes\":{\"line_alpha\":0.5,\"line_color\":\"#1f77b4\",\"line_dash\":[2,4],\"line_width\":2,\"x\":{\"field\":\"x\"},\"y\":{\"field\":\"cum_cases_logistic_prior\"}},\"id\":\"b25c3e32-7e6c-419d-9c47-19ba1651b03f\",\"type\":\"Line\"},{\"attributes\":{\"callback\":null},\"id\":\"3356ed3a-7162-46f1-ad0d-097e7822ebab\",\"type\":\"DataRange1d\"},{\"attributes\":{\"line_alpha\":0.1,\"line_color\":\"#1f77b4\",\"line_dash\":[2,4],\"line_width\":2,\"x\":{\"field\":\"x\"},\"y\":{\"field\":\"cum_cases_logistic_prior\"}},\"id\":\"6f2386ac-5447-4e25-af05-52073cb34a84\",\"type\":\"Line\"},{\"attributes\":{\"line_alpha\":0.5,\"line_color\":\"green\",\"line_dash\":[2,4],\"line_width\":2,\"x\":{\"field\":\"x\"},\"y\":{\"field\":\"cum_cases_logistic_prior\"}},\"id\":\"13a4272e-724b-436c-8df5-2283c7c8ff4c\",\"type\":\"Line\"},{\"attributes\":{\"callback\":null,\"data\":{\"cases_exponential\":{\"__ndarray__\":\"AAAAAAAA+H8AAAAAAAD4fwAAAAAAAPh/AAAAAAAA+H8AAAAAAAD4fwAAAAAAAPh/AAAAAAAA+H8AAAAAAAD4fwAAAAAAAPh/AAAAAAAA+H8AAAAAAAD4fwAAAAAAAPh/AAAAAAAA+H8AAAAAAAD4fwAAAAAAAPh/AAAAAAAA+H8AAAAAAAD4fwAAAAAAAPh/AAAAAAAA+H8AAAAAAAD4fwAAAAAAAPh/AAAAAAAA+H8AAAAAAAD4fwAAAAAAAPh/AAAAAAAA+H8AAAAAAAD4fwAAAAAArrBAAAAAAAA0skAAAAAAAN6zQAAAAAAAsLVAAAAAAACst0AAAAAAANa5QAAAAAAANLxAAAAAAADIvkAAAAAAgMzAQA==\",\"dtype\":\"float64\",\"shape\":[35]},\"cum_cases_exponential\":{\"__ndarray__\":\"AAAAAAAA+H8AAAAAAAD4fwAAAAAAAPh/AAAAAAAA+H8AAAAAAAD4fwAAAAAAAPh/AAAAAAAA+H8AAAAAAAD4fwAAAAAAAPh/AAAAAAAA+H8AAAAAAAD4fwAAAAAAAPh/AAAAAAAA+H8AAAAAAAD4fwAAAAAAAPh/AAAAAAAA+H8AAAAAAAD4fwAAAAAAAPh/AAAAAAAA+H8AAAAAAAD4fwAAAAAAAPh/AAAAAAAA+H8AAAAAAAD4fwAAAAAAAPh/AAAAAAAA+H8AAAAAoMjmQAAAAABg3uhAAAAAAOAk60AAAAAAoKDtQAAAAABQK/BAAAAAABCm8UAAAAAAcEPzQAAAAACwBvVAAAAAADDz9kAAAAAAwAz5QA==\",\"dtype\":\"float64\",\"shape\":[35]},\"x\":{\"__ndarray__\":\"AACARzYJd0IAAECtiAl3QgAAABPbCXdCAADAeC0Kd0IAAIDefwp3QgAAQETSCndCAAAAqiQLd0IAAMAPdwt3QgAAgHXJC3dCAABA2xsMd0IAAABBbgx3QgAAwKbADHdCAACADBMNd0IAAEByZQ13QgAAANi3DXdCAADAPQoOd0IAAICjXA53QgAAQAmvDndCAAAAbwEPd0IAAMDUUw93QgAAgDqmD3dCAABAoPgPd0IAAAAGSxB3QgAAwGudEHdCAACA0e8Qd0IAAEA3QhF3QgAAAJ2UEXdCAADAAucRd0IAAIBoORJ3QgAAQM6LEndCAAAANN4Sd0IAAMCZMBN3QgAAgP+CE3dCAABAZdUTd0IAAADLJxR3Qg==\",\"dtype\":\"float64\",\"shape\":[35]}},\"selected\":{\"id\":\"938a8f93-9d19-4fbd-bc2a-f5272c711af6\",\"type\":\"Selection\"},\"selection_policy\":{\"id\":\"b92dc8dc-2a7a-450b-b77e-bf65dcdc9c3f\",\"type\":\"UnionRenderers\"}},\"id\":\"128d88ce-8abd-4d1a-9f5b-8e74466e4db5\",\"type\":\"ColumnDataSource\"},{\"attributes\":{\"label\":{\"value\":\"estimation cum. cases_exponential\"},\"renderers\":[{\"id\":\"05df8ff4-eda3-4857-9325-26faa11b1695\",\"type\":\"GlyphRenderer\"},{\"id\":\"206b110e-aaf0-4796-b892-b850b555e959\",\"type\":\"GlyphRenderer\"}]},\"id\":\"9869cddc-5461-434b-91f6-0ca76fcfb56b\",\"type\":\"LegendItem\"},{\"attributes\":{\"source\":{\"id\":\"0f76f9c5-604f-45cd-9c16-8942702a1d4f\",\"type\":\"ColumnDataSource\"}},\"id\":\"7d38817d-75ff-4b74-ae78-db8954b84768\",\"type\":\"CDSView\"},{\"attributes\":{\"data_source\":{\"id\":\"0f76f9c5-604f-45cd-9c16-8942702a1d4f\",\"type\":\"ColumnDataSource\"},\"glyph\":{\"id\":\"48c6a8ec-e676-4f55-b372-99729a1f1142\",\"type\":\"Line\"},\"hover_glyph\":{\"id\":\"174f682d-2ec8-458d-8106-a786acc0d2a6\",\"type\":\"Line\"},\"muted_glyph\":null,\"name\":\"estimation inc. cases_logistic_prior\",\"nonselection_glyph\":{\"id\":\"41ba9832-f146-4052-9006-1c1dab357866\",\"type\":\"Line\"},\"selection_glyph\":null,\"view\":{\"id\":\"7d38817d-75ff-4b74-ae78-db8954b84768\",\"type\":\"CDSView\"}},\"id\":\"38f48080-f961-4c64-a145-28a941f4fa88\",\"type\":\"GlyphRenderer\"},{\"attributes\":{\"fill_alpha\":{\"value\":0.1},\"fill_color\":{\"value\":\"#1f77b4\"},\"line_alpha\":{\"value\":0.1},\"line_color\":{\"value\":\"#1f77b4\"},\"line_width\":{\"value\":2},\"x\":{\"field\":\"x\"},\"y\":{\"field\":\"cum_cases_exponential_prior\"}},\"id\":\"82add078-b2bf-4766-abd6-4ada64e26b3d\",\"type\":\"Circle\"},{\"attributes\":{\"fill_alpha\":{\"value\":0.5},\"fill_color\":{\"value\":\"orange\"},\"line_alpha\":{\"value\":0.5},\"line_color\":{\"value\":\"orange\"},\"line_width\":{\"value\":2},\"x\":{\"field\":\"x\"},\"y\":{\"field\":\"cum_cases_exponential_prior\"}},\"id\":\"9e8807dd-60c0-406b-9657-4d471776b2e4\",\"type\":\"Circle\"},{\"attributes\":{},\"id\":\"d390c889-14a0-4e01-acc1-2a4d19412597\",\"type\":\"UnionRenderers\"},{\"attributes\":{\"line_alpha\":0.1,\"line_color\":\"#1f77b4\",\"line_dash\":[2,4],\"line_width\":2,\"x\":{\"field\":\"x\"},\"y\":{\"field\":\"cases_logistic_prior\"}},\"id\":\"41ba9832-f146-4052-9006-1c1dab357866\",\"type\":\"Line\"},{\"attributes\":{\"source\":{\"id\":\"7f96b743-3eda-4131-a3bf-d06eded73931\",\"type\":\"ColumnDataSource\"}},\"id\":\"9ed1506c-4a48-43e9-918d-aef20d14e63c\",\"type\":\"CDSView\"},{\"attributes\":{\"fill_color\":{\"value\":\"#1f77b4\"},\"line_alpha\":{\"value\":0.5},\"line_color\":{\"value\":\"#1f77b4\"},\"line_width\":{\"value\":2},\"x\":{\"field\":\"x\"},\"y\":{\"field\":\"cases_exponential_prior\"}},\"id\":\"dd655ccc-661d-4243-8982-cbfe36fc9188\",\"type\":\"Circle\"},{\"attributes\":{},\"id\":\"b92dc8dc-2a7a-450b-b77e-bf65dcdc9c3f\",\"type\":\"UnionRenderers\"},{\"attributes\":{},\"id\":\"abbd2bcc-aee2-4fe3-b455-29f836b2ba01\",\"type\":\"HelpTool\"},{\"attributes\":{\"line_alpha\":0.5,\"line_color\":\"#1f77b4\",\"line_dash\":[2,4],\"line_width\":2,\"x\":{\"field\":\"x\"},\"y\":{\"field\":\"cases_logistic_prior\"}},\"id\":\"174f682d-2ec8-458d-8106-a786acc0d2a6\",\"type\":\"Line\"},{\"attributes\":{\"fill_alpha\":{\"value\":0.1},\"fill_color\":{\"value\":\"#1f77b4\"},\"line_alpha\":{\"value\":0.1},\"line_color\":{\"value\":\"#1f77b4\"},\"line_width\":{\"value\":2},\"x\":{\"field\":\"x\"},\"y\":{\"field\":\"cases_exponential_prior\"}},\"id\":\"4017b730-981e-412a-b7ac-a24c55d0c958\",\"type\":\"Circle\"},{\"attributes\":{\"items\":[{\"id\":\"8f584e97-e419-4da9-a9e5-26792ebae92d\",\"type\":\"LegendItem\"},{\"id\":\"1befcdea-1bd8-4a13-a632-e2bab60dc1da\",\"type\":\"LegendItem\"},{\"id\":\"773da0ef-e127-40dc-9566-e9cb02138818\",\"type\":\"LegendItem\"},{\"id\":\"d13cc9ed-3334-46ab-b401-6da082a672e0\",\"type\":\"LegendItem\"},{\"id\":\"581439ac-5954-499b-af0a-d10bfe3e3505\",\"type\":\"LegendItem\"},{\"id\":\"2842d0dd-b565-4ab4-b776-a0b20e87bf5f\",\"type\":\"LegendItem\"},{\"id\":\"33101e99-a25b-4624-89c9-8431cf23b37f\",\"type\":\"LegendItem\"},{\"id\":\"9869cddc-5461-434b-91f6-0ca76fcfb56b\",\"type\":\"LegendItem\"},{\"id\":\"979e9c2f-e1c7-4a43-b1d0-29fcdda65e3a\",\"type\":\"LegendItem\"},{\"id\":\"88e2e703-8571-4d6d-87bc-f32793fedf30\",\"type\":\"LegendItem\"}],\"location\":\"top_left\",\"plot\":{\"id\":\"2a4ac52b-2888-4a4f-b107-6311632520fb\",\"subtype\":\"Figure\",\"type\":\"Plot\"}},\"id\":\"13c6ab91-7b66-49aa-a993-59a62c438310\",\"type\":\"Legend\"},{\"attributes\":{},\"id\":\"dcf3c06b-e7cc-4691-8281-2e5ffa8327dc\",\"type\":\"ResetTool\"},{\"attributes\":{},\"id\":\"57d9d16a-ba64-48f8-a57c-d59aa57108a0\",\"type\":\"UnionRenderers\"},{\"attributes\":{\"plot\":null,\"text\":\"Germany\"},\"id\":\"4a4632fd-4669-4d80-ae36-eaa87c745117\",\"type\":\"Title\"},{\"attributes\":{\"source\":{\"id\":\"edee7521-aa31-44d9-9e21-2bc570251d85\",\"type\":\"ColumnDataSource\"}},\"id\":\"34ed07de-3a62-483a-b8b6-57757cf6f169\",\"type\":\"CDSView\"},{\"attributes\":{\"fill_color\":{\"value\":\"#1f77b4\"},\"line_alpha\":{\"value\":0.5},\"line_color\":{\"value\":\"#1f77b4\"},\"line_width\":{\"value\":2},\"x\":{\"field\":\"x\"},\"y\":{\"field\":\"cum_cases_exponential_prior\"}},\"id\":\"ae9195cf-e096-4f85-840a-31707cb3210d\",\"type\":\"Circle\"},{\"attributes\":{\"callback\":null,\"formatters\":{\"$x\":\"datetime\"},\"names\":[\"estimation inc. cases_logistic\",\"estimation cum. cases_logistic\"],\"renderers\":\"auto\",\"show_arrow\":false,\"tooltips\":[[\"date\",\"$x{%F}\"],[\"estimation inc. cases_logistic\",\"@cases_logistic{0,0}\"],[\"estimation cum. cases_logistic\",\"@cum_cases_logistic{0,0}\"]]},\"id\":\"630a1da9-bc65-450c-85e1-61c24fccabd1\",\"type\":\"HoverTool\"},{\"attributes\":{\"fill_alpha\":{\"value\":0.5},\"fill_color\":{\"value\":\"orange\"},\"line_alpha\":{\"value\":0.5},\"line_color\":{\"value\":\"orange\"},\"line_width\":{\"value\":2},\"x\":{\"field\":\"x\"},\"y\":{\"field\":\"cases_exponential_prior\"}},\"id\":\"b0addfa1-6de9-411d-bd75-63218455d382\",\"type\":\"Circle\"},{\"attributes\":{\"source\":{\"id\":\"423c1276-03bb-45bc-9616-ebf9c5347216\",\"type\":\"ColumnDataSource\"}},\"id\":\"9b57ec73-8ec0-4897-89ba-d1b03aa24226\",\"type\":\"CDSView\"},{\"attributes\":{\"callback\":null,\"data\":{\"cases_exponential_prior\":{\"__ndarray__\":\"AAAAAAAvwUAAAAAAAIzDQAAAAACAPMZAAAAAAIBMyUAAAAAAgMfMQAAAAADAXtBA\",\"dtype\":\"float64\",\"shape\":[6]},\"cum_cases_exponential_prior\":{\"__ndarray__\":\"AAAAAPDA8UAAAAAAcDL0QAAAAAAA+vZAAAAAAJAj+kAAAAAAgLz9QAAAAAAY6gBB\",\"dtype\":\"float64\",\"shape\":[6]},\"x\":{\"__ndarray__\":\"AABAzosSd0IAAAA03hJ3QgAAwJkwE3dCAACA/4ITd0IAAEBl1RN3QgAAAMsnFHdC\",\"dtype\":\"float64\",\"shape\":[6]}},\"selected\":{\"id\":\"cabcc627-4c60-470e-8ebb-31cc862eb8be\",\"type\":\"Selection\"},\"selection_policy\":{\"id\":\"57d9d16a-ba64-48f8-a57c-d59aa57108a0\",\"type\":\"UnionRenderers\"}},\"id\":\"7f96b743-3eda-4131-a3bf-d06eded73931\",\"type\":\"ColumnDataSource\"},{\"attributes\":{\"callback\":null},\"id\":\"008e59d9-737a-4842-9265-edeaeefc5165\",\"type\":\"DataRange1d\"},{\"attributes\":{\"line_alpha\":0.5,\"line_color\":\"green\",\"line_dash\":[6],\"line_width\":2,\"x\":{\"field\":\"x\"},\"y\":{\"field\":\"cases_logistic\"}},\"id\":\"09c65f00-e2c9-40ea-ae01-58871caaedc9\",\"type\":\"Line\"},{\"attributes\":{},\"id\":\"fd6290ee-0cf0-4558-9212-bdf1c5a9e6e7\",\"type\":\"UnionRenderers\"},{\"attributes\":{\"data_source\":{\"id\":\"7f96b743-3eda-4131-a3bf-d06eded73931\",\"type\":\"ColumnDataSource\"},\"glyph\":{\"id\":\"b0addfa1-6de9-411d-bd75-63218455d382\",\"type\":\"Circle\"},\"hover_glyph\":{\"id\":\"dd655ccc-661d-4243-8982-cbfe36fc9188\",\"type\":\"Circle\"},\"muted_glyph\":null,\"nonselection_glyph\":{\"id\":\"4017b730-981e-412a-b7ac-a24c55d0c958\",\"type\":\"Circle\"},\"selection_glyph\":null,\"view\":{\"id\":\"9ed1506c-4a48-43e9-918d-aef20d14e63c\",\"type\":\"CDSView\"}},\"id\":\"882a7cd0-b911-4d07-b2f3-faec478fba44\",\"type\":\"GlyphRenderer\"},{\"attributes\":{\"label\":{\"value\":\"estimation cum. cases_logistic\"},\"renderers\":[{\"id\":\"e6df5db0-599e-460f-a8f9-9c4b18df8d92\",\"type\":\"GlyphRenderer\"},{\"id\":\"13c3b7ed-bf80-4d93-8b99-fdaf5f6a6ab0\",\"type\":\"GlyphRenderer\"}]},\"id\":\"d13cc9ed-3334-46ab-b401-6da082a672e0\",\"type\":\"LegendItem\"},{\"attributes\":{\"line_alpha\":0.1,\"line_color\":\"#1f77b4\",\"line_dash\":[6],\"line_width\":2,\"x\":{\"field\":\"x\"},\"y\":{\"field\":\"cum_cases_logistic\"}},\"id\":\"108cb664-4696-4f20-adad-0cc1e0f42ed5\",\"type\":\"Line\"},{\"attributes\":{\"line_alpha\":0.5,\"line_color\":\"#1f77b4\",\"line_dash\":[6],\"line_width\":2,\"x\":{\"field\":\"x\"},\"y\":{\"field\":\"cum_cases_logistic\"}},\"id\":\"a1481fec-3861-4358-bea5-e0994e8e13c3\",\"type\":\"Line\"},{\"attributes\":{},\"id\":\"5642d315-8190-493f-b31a-68dd347f3bcb\",\"type\":\"Selection\"},{\"attributes\":{},\"id\":\"5c34c18b-1864-43e6-a44e-0191b030304f\",\"type\":\"SaveTool\"},{\"attributes\":{\"source\":{\"id\":\"8e1f2c7e-3fb0-4327-9e44-1380974f9e3d\",\"type\":\"ColumnDataSource\"}},\"id\":\"a1ab48a3-c0dc-4126-a07f-07512dcdfedc\",\"type\":\"CDSView\"},{\"attributes\":{\"data_source\":{\"id\":\"8e1f2c7e-3fb0-4327-9e44-1380974f9e3d\",\"type\":\"ColumnDataSource\"},\"glyph\":{\"id\":\"a2d341b3-6a21-4d2e-bde3-3f45a63c8d73\",\"type\":\"Circle\"},\"hover_glyph\":{\"id\":\"b003a612-c431-4053-94ae-b1942bafeca8\",\"type\":\"Circle\"},\"muted_glyph\":null,\"nonselection_glyph\":{\"id\":\"fde8b8f0-63f6-48e8-a664-b6683e40d69e\",\"type\":\"Circle\"},\"selection_glyph\":null,\"view\":{\"id\":\"a1ab48a3-c0dc-4126-a07f-07512dcdfedc\",\"type\":\"CDSView\"}},\"id\":\"206b110e-aaf0-4796-b892-b850b555e959\",\"type\":\"GlyphRenderer\"},{\"attributes\":{\"callback\":null,\"data\":{\"cases_logistic_prior\":{\"__ndarray__\":\"AAAAAAAA+H8AAAAAAAD4fwAAAAAAAPh/AAAAAAAA+H8AAAAAAAD4fwAAAAAAAPh/AAAAAAAA+H8AAAAAAAD4fwAAAAAAAPh/AAAAAAAA+H8AAAAAAAD4fwAAAAAAAPh/AAAAAAAA+H8AAAAAAAD4fwAAAAAAAPh/AAAAAAAA+H8AAAAAAAD4fwAAAAAAAPh/AAAAAAAA+H8AAAAAAAD4fwAAAAAAAPh/AAAAAAAA+H8AAAAAAAD4fwAAAAAAErNAAAAAAADttEAAAAAAAIO2QAAAAAAAtbdAAAAAAABpuEAAAAAAAI64QAAAAAAAJLhAAAAAAAAxt0AAAAAAAMy1QAAAAAAAEbRAAAAAAAAfskAAAAAAABiwQA==\",\"dtype\":\"float64\",\"shape\":[35]},\"cum_cases_logistic_prior\":{\"__ndarray__\":\"AAAAAAAA+H8AAAAAAAD4fwAAAAAAAPh/AAAAAAAA+H8AAAAAAAD4fwAAAAAAAPh/AAAAAAAA+H8AAAAAAAD4fwAAAAAAAPh/AAAAAAAA+H8AAAAAAAD4fwAAAAAAAPh/AAAAAAAA+H8AAAAAAAD4fwAAAAAAAPh/AAAAAAAA+H8AAAAAAAD4fwAAAAAAAPh/AAAAAAAA+H8AAAAAAAD4fwAAAAAAAPh/AAAAAAAA+H8AAAAAgJjbQAAAAACALuBAAAAAACDM4kAAAAAAgJzlQAAAAAAgk+hAAAAAAECg60AAAAAAALLuQAAAAABA2/BAAAAAAFBO8kAAAAAAEKvzQAAAAAAg7PRAAAAAABAO9kAAAAAAkA/3QA==\",\"dtype\":\"float64\",\"shape\":[35]},\"x\":{\"__ndarray__\":\"AACARzYJd0IAAECtiAl3QgAAABPbCXdCAADAeC0Kd0IAAIDefwp3QgAAQETSCndCAAAAqiQLd0IAAMAPdwt3QgAAgHXJC3dCAABA2xsMd0IAAABBbgx3QgAAwKbADHdCAACADBMNd0IAAEByZQ13QgAAANi3DXdCAADAPQoOd0IAAICjXA53QgAAQAmvDndCAAAAbwEPd0IAAMDUUw93QgAAgDqmD3dCAABAoPgPd0IAAAAGSxB3QgAAwGudEHdCAACA0e8Qd0IAAEA3QhF3QgAAAJ2UEXdCAADAAucRd0IAAIBoORJ3QgAAQM6LEndCAAAANN4Sd0IAAMCZMBN3QgAAgP+CE3dCAABAZdUTd0IAAADLJxR3Qg==\",\"dtype\":\"float64\",\"shape\":[35]}},\"selected\":{\"id\":\"fc2f29d7-7ab1-4ef4-a279-c99ff781516e\",\"type\":\"Selection\"},\"selection_policy\":{\"id\":\"d390c889-14a0-4e01-acc1-2a4d19412597\",\"type\":\"UnionRenderers\"}},\"id\":\"0f76f9c5-604f-45cd-9c16-8942702a1d4f\",\"type\":\"ColumnDataSource\"},{\"attributes\":{\"line_alpha\":0.5,\"line_color\":\"green\",\"line_dash\":[2,4],\"line_width\":2,\"x\":{\"field\":\"x\"},\"y\":{\"field\":\"cases_logistic_prior\"}},\"id\":\"48c6a8ec-e676-4f55-b372-99729a1f1142\",\"type\":\"Line\"},{\"attributes\":{\"fill_color\":{\"value\":\"#1f77b4\"},\"line_alpha\":{\"value\":0.5},\"line_color\":{\"value\":\"#1f77b4\"},\"line_width\":{\"value\":2},\"x\":{\"field\":\"x\"},\"y\":{\"field\":\"cum_cases_exponential\"}},\"id\":\"b003a612-c431-4053-94ae-b1942bafeca8\",\"type\":\"Circle\"},{\"attributes\":{\"fill_alpha\":{\"value\":0.1},\"fill_color\":{\"value\":\"#1f77b4\"},\"line_alpha\":{\"value\":0.1},\"line_color\":{\"value\":\"#1f77b4\"},\"line_width\":{\"value\":2},\"x\":{\"field\":\"x\"},\"y\":{\"field\":\"cum_cases_exponential\"}},\"id\":\"fde8b8f0-63f6-48e8-a664-b6683e40d69e\",\"type\":\"Circle\"},{\"attributes\":{},\"id\":\"eb24f6f3-a231-48a0-9f0d-c8b9ea849366\",\"type\":\"UnionRenderers\"},{\"attributes\":{\"data_source\":{\"id\":\"7f96b743-3eda-4131-a3bf-d06eded73931\",\"type\":\"ColumnDataSource\"},\"glyph\":{\"id\":\"9e8807dd-60c0-406b-9657-4d471776b2e4\",\"type\":\"Circle\"},\"hover_glyph\":{\"id\":\"ae9195cf-e096-4f85-840a-31707cb3210d\",\"type\":\"Circle\"},\"muted_glyph\":null,\"nonselection_glyph\":{\"id\":\"82add078-b2bf-4766-abd6-4ada64e26b3d\",\"type\":\"Circle\"},\"selection_glyph\":null,\"view\":{\"id\":\"3a02d698-5f70-4f73-8dc7-c50b2728bf40\",\"type\":\"CDSView\"}},\"id\":\"79542f69-acac-4eb7-9c7f-0a340ab29ea7\",\"type\":\"GlyphRenderer\"},{\"attributes\":{\"label\":{\"value\":\"estimation inc. cases_logistic_prior\"},\"renderers\":[{\"id\":\"38f48080-f961-4c64-a145-28a941f4fa88\",\"type\":\"GlyphRenderer\"},{\"id\":\"e98bd3a5-78ff-464c-b581-99d39ad52f29\",\"type\":\"GlyphRenderer\"}]},\"id\":\"581439ac-5954-499b-af0a-d10bfe3e3505\",\"type\":\"LegendItem\"},{\"attributes\":{\"source\":{\"id\":\"8e1f2c7e-3fb0-4327-9e44-1380974f9e3d\",\"type\":\"ColumnDataSource\"}},\"id\":\"d5877ebe-2e04-40c0-8bcc-63dc55c56e01\",\"type\":\"CDSView\"},{\"attributes\":{\"bottom_units\":\"screen\",\"fill_alpha\":{\"value\":0.5},\"fill_color\":{\"value\":\"lightgrey\"},\"left_units\":\"screen\",\"level\":\"overlay\",\"line_alpha\":{\"value\":1.0},\"line_color\":{\"value\":\"black\"},\"line_dash\":[4,4],\"line_width\":{\"value\":2},\"plot\":null,\"render_mode\":\"css\",\"right_units\":\"screen\",\"top_units\":\"screen\"},\"id\":\"be771988-f3ee-426f-ab1e-0b04d9a68ee9\",\"type\":\"BoxAnnotation\"},{\"attributes\":{\"fill_color\":{\"value\":\"#1f77b4\"},\"line_alpha\":{\"value\":0.5},\"line_color\":{\"value\":\"#1f77b4\"},\"line_width\":{\"value\":2},\"x\":{\"field\":\"x\"},\"y\":{\"field\":\"cases_exponential\"}},\"id\":\"51c61a21-8167-4977-bc62-3852efe66684\",\"type\":\"Circle\"},{\"attributes\":{\"months\":[0,4,8]},\"id\":\"1ba1a68f-072c-46f1-9923-00396953c714\",\"type\":\"MonthsTicker\"},{\"attributes\":{\"fill_alpha\":{\"value\":0.1},\"fill_color\":{\"value\":\"#1f77b4\"},\"line_alpha\":{\"value\":0.1},\"line_color\":{\"value\":\"#1f77b4\"},\"line_width\":{\"value\":2},\"x\":{\"field\":\"x\"},\"y\":{\"field\":\"cases_exponential\"}},\"id\":\"8da56bd5-d435-4901-8cd4-fae5892ce336\",\"type\":\"Circle\"},{\"attributes\":{\"fill_alpha\":{\"value\":0.5},\"fill_color\":{\"value\":\"orange\"},\"line_alpha\":{\"value\":0.5},\"line_color\":{\"value\":\"orange\"},\"line_width\":{\"value\":2},\"x\":{\"field\":\"x\"},\"y\":{\"field\":\"cum_cases_exponential\"}},\"id\":\"a2d341b3-6a21-4d2e-bde3-3f45a63c8d73\",\"type\":\"Circle\"},{\"attributes\":{\"source\":{\"id\":\"7f96b743-3eda-4131-a3bf-d06eded73931\",\"type\":\"ColumnDataSource\"}},\"id\":\"3a02d698-5f70-4f73-8dc7-c50b2728bf40\",\"type\":\"CDSView\"},{\"attributes\":{\"months\":[0,6]},\"id\":\"2c83661d-a201-4c71-81b8-faffd28510a4\",\"type\":\"MonthsTicker\"},{\"attributes\":{\"fill_alpha\":{\"value\":0.5},\"fill_color\":{\"value\":\"orange\"},\"line_alpha\":{\"value\":0.5},\"line_color\":{\"value\":\"orange\"},\"line_width\":{\"value\":2},\"x\":{\"field\":\"x\"},\"y\":{\"field\":\"cases_exponential\"}},\"id\":\"df43f71b-859f-45e7-bd53-3682482cb18d\",\"type\":\"Circle\"},{\"attributes\":{\"callback\":null,\"formatters\":{\"$x\":\"datetime\"},\"names\":[\"reported inc. cases\",\"reported cum. cases\"],\"renderers\":\"auto\",\"show_arrow\":false,\"tooltips\":[[\"date\",\"$x{%F}\"],[\"reported inc. cases\",\"@cases{0,0}\"],[\"reported cum. cases\",\"@cum_cases{0,0}\"]]},\"id\":\"d203afd6-e91a-40cb-bf30-9cf6d791f530\",\"type\":\"HoverTool\"},{\"attributes\":{\"callback\":null,\"data\":{\"cases_exponential\":{\"__ndarray__\":\"AAAAAAA0vEAAAAAAAMi+QAAAAACAzMBA\",\"dtype\":\"float64\",\"shape\":[3]},\"cum_cases_exponential\":{\"__ndarray__\":\"AAAAALAG9UAAAAAAMPP2QAAAAADADPlA\",\"dtype\":\"float64\",\"shape\":[3]},\"x\":{\"__ndarray__\":\"AACA/4ITd0IAAEBl1RN3QgAAAMsnFHdC\",\"dtype\":\"float64\",\"shape\":[3]}},\"selected\":{\"id\":\"5642d315-8190-493f-b31a-68dd347f3bcb\",\"type\":\"Selection\"},\"selection_policy\":{\"id\":\"eb24f6f3-a231-48a0-9f0d-c8b9ea849366\",\"type\":\"UnionRenderers\"}},\"id\":\"8e1f2c7e-3fb0-4327-9e44-1380974f9e3d\",\"type\":\"ColumnDataSource\"},{\"attributes\":{\"label\":{\"value\":\"reported cum. cases\"},\"renderers\":[{\"id\":\"fb0937ea-abad-400d-87cd-4d7adc7b54d2\",\"type\":\"GlyphRenderer\"},{\"id\":\"fd9f8e24-2f8a-4a68-9fc4-447285f2ac0e\",\"type\":\"GlyphRenderer\"}]},\"id\":\"1befcdea-1bd8-4a13-a632-e2bab60dc1da\",\"type\":\"LegendItem\"},{\"attributes\":{},\"id\":\"f237bc5b-494e-4263-83db-e01e97fc6fa9\",\"type\":\"UnionRenderers\"},{\"attributes\":{\"line_alpha\":0.1,\"line_color\":\"#1f77b4\",\"line_width\":2,\"x\":{\"field\":\"x\"},\"y\":{\"field\":\"cum_cases\"}},\"id\":\"b35bf522-c6db-402e-96b9-d8b887b0fd7d\",\"type\":\"Line\"},{\"attributes\":{\"data_source\":{\"id\":\"edee7521-aa31-44d9-9e21-2bc570251d85\",\"type\":\"ColumnDataSource\"},\"glyph\":{\"id\":\"09c65f00-e2c9-40ea-ae01-58871caaedc9\",\"type\":\"Line\"},\"hover_glyph\":{\"id\":\"14c3ce06-299f-4524-9f44-173a23ea6665\",\"type\":\"Line\"},\"muted_glyph\":null,\"name\":\"estimation inc. cases_logistic\",\"nonselection_glyph\":{\"id\":\"0db6e305-1dd7-4f09-958c-78c960f19a91\",\"type\":\"Line\"},\"selection_glyph\":null,\"view\":{\"id\":\"34ed07de-3a62-483a-b8b6-57757cf6f169\",\"type\":\"CDSView\"}},\"id\":\"3f23d32e-3bfe-42ef-b16e-0965456e1e5a\",\"type\":\"GlyphRenderer\"},{\"attributes\":{\"data_source\":{\"id\":\"8e1f2c7e-3fb0-4327-9e44-1380974f9e3d\",\"type\":\"ColumnDataSource\"},\"glyph\":{\"id\":\"df43f71b-859f-45e7-bd53-3682482cb18d\",\"type\":\"Circle\"},\"hover_glyph\":{\"id\":\"51c61a21-8167-4977-bc62-3852efe66684\",\"type\":\"Circle\"},\"muted_glyph\":null,\"nonselection_glyph\":{\"id\":\"8da56bd5-d435-4901-8cd4-fae5892ce336\",\"type\":\"Circle\"},\"selection_glyph\":null,\"view\":{\"id\":\"d5877ebe-2e04-40c0-8bcc-63dc55c56e01\",\"type\":\"CDSView\"}},\"id\":\"2bf70f32-0e55-4d00-bfef-f0875791213b\",\"type\":\"GlyphRenderer\"},{\"attributes\":{\"below\":[{\"id\":\"433b2961-11ae-47ef-814e-13c776fdc07a\",\"type\":\"DatetimeAxis\"}],\"left\":[{\"id\":\"53a96756-2a78-4353-af8d-865efe08b28e\",\"type\":\"LinearAxis\"}],\"plot_width\":800,\"renderers\":[{\"id\":\"433b2961-11ae-47ef-814e-13c776fdc07a\",\"type\":\"DatetimeAxis\"},{\"id\":\"14c6d511-3c86-4fc1-84a5-bcbe08e0f166\",\"type\":\"Grid\"},{\"id\":\"53a96756-2a78-4353-af8d-865efe08b28e\",\"type\":\"LinearAxis\"},{\"id\":\"96222923-4ce6-4a58-866c-517474bed6f3\",\"type\":\"Grid\"},{\"id\":\"be771988-f3ee-426f-ab1e-0b04d9a68ee9\",\"type\":\"BoxAnnotation\"},{\"id\":\"13c6ab91-7b66-49aa-a993-59a62c438310\",\"type\":\"Legend\"},{\"id\":\"6379810d-53cc-441b-a656-d773a31dd617\",\"type\":\"GlyphRenderer\"},{\"id\":\"fb0937ea-abad-400d-87cd-4d7adc7b54d2\",\"type\":\"GlyphRenderer\"},{\"id\":\"3f23d32e-3bfe-42ef-b16e-0965456e1e5a\",\"type\":\"GlyphRenderer\"},{\"id\":\"e6df5db0-599e-460f-a8f9-9c4b18df8d92\",\"type\":\"GlyphRenderer\"},{\"id\":\"38f48080-f961-4c64-a145-28a941f4fa88\",\"type\":\"GlyphRenderer\"},{\"id\":\"f247b49d-c8ab-439d-b5be-8cac98da1c8d\",\"type\":\"GlyphRenderer\"},{\"id\":\"0a570c66-0af4-4f12-9cb2-549e8307acf8\",\"type\":\"GlyphRenderer\"},{\"id\":\"05df8ff4-eda3-4857-9325-26faa11b1695\",\"type\":\"GlyphRenderer\"},{\"id\":\"f92791cb-364e-441e-8295-0d78400b4d9a\",\"type\":\"GlyphRenderer\"},{\"id\":\"00e556e1-69f6-4c7b-91d0-bb201d09c3dd\",\"type\":\"GlyphRenderer\"},{\"id\":\"09c73f51-3047-4fa0-b536-09ffcbcae2db\",\"type\":\"GlyphRenderer\"},{\"id\":\"fd9f8e24-2f8a-4a68-9fc4-447285f2ac0e\",\"type\":\"GlyphRenderer\"},{\"id\":\"9fadc4e5-0b5c-495e-8aa9-a942dff97e96\",\"type\":\"GlyphRenderer\"},{\"id\":\"13c3b7ed-bf80-4d93-8b99-fdaf5f6a6ab0\",\"type\":\"GlyphRenderer\"},{\"id\":\"e98bd3a5-78ff-464c-b581-99d39ad52f29\",\"type\":\"GlyphRenderer\"},{\"id\":\"221bc6ae-a050-440b-b242-10045c92d2b0\",\"type\":\"GlyphRenderer\"},{\"id\":\"2bf70f32-0e55-4d00-bfef-f0875791213b\",\"type\":\"GlyphRenderer\"},{\"id\":\"206b110e-aaf0-4796-b892-b850b555e959\",\"type\":\"GlyphRenderer\"},{\"id\":\"882a7cd0-b911-4d07-b2f3-faec478fba44\",\"type\":\"GlyphRenderer\"},{\"id\":\"79542f69-acac-4eb7-9c7f-0a340ab29ea7\",\"type\":\"GlyphRenderer\"}],\"title\":{\"id\":\"4a4632fd-4669-4d80-ae36-eaa87c745117\",\"type\":\"Title\"},\"toolbar\":{\"id\":\"88581c41-c36a-48a5-b049-9574bdcba400\",\"type\":\"Toolbar\"},\"toolbar_location\":\"below\",\"x_range\":{\"id\":\"3356ed3a-7162-46f1-ad0d-097e7822ebab\",\"type\":\"DataRange1d\"},\"x_scale\":{\"id\":\"33f3ccc6-e0ab-4488-8a1b-5989695893a0\",\"type\":\"LinearScale\"},\"y_range\":{\"id\":\"008e59d9-737a-4842-9265-edeaeefc5165\",\"type\":\"DataRange1d\"},\"y_scale\":{\"id\":\"fea1d2c0-5325-4963-87e3-c92d3a34ae2f\",\"type\":\"LinearScale\"}},\"id\":\"2a4ac52b-2888-4a4f-b107-6311632520fb\",\"subtype\":\"Figure\",\"type\":\"Plot\"},{\"attributes\":{\"line_alpha\":0.5,\"line_color\":\"green\",\"line_dash\":[6],\"line_width\":2,\"x\":{\"field\":\"x\"},\"y\":{\"field\":\"cum_cases_logistic\"}},\"id\":\"13947ca9-fd2b-41d0-9ea4-8447e1d15435\",\"type\":\"Line\"},{\"attributes\":{},\"id\":\"f7bf8c48-e8d8-4ba8-bc13-8d541e21acf0\",\"type\":\"Selection\"},{\"attributes\":{\"line_alpha\":0.5,\"line_color\":\"#1f77b4\",\"line_width\":2,\"x\":{\"field\":\"x\"},\"y\":{\"field\":\"cum_cases\"}},\"id\":\"765ea2e2-7dac-436c-a97d-e2317107424b\",\"type\":\"Line\"},{\"attributes\":{\"source\":{\"id\":\"033583b0-9605-425c-8d5c-8a667ca96851\",\"type\":\"ColumnDataSource\"}},\"id\":\"f8bd47db-d61e-4e1e-9626-4f20cea5e27e\",\"type\":\"CDSView\"},{\"attributes\":{\"data_source\":{\"id\":\"423c1276-03bb-45bc-9616-ebf9c5347216\",\"type\":\"ColumnDataSource\"},\"glyph\":{\"id\":\"c49e4963-c404-402e-b71f-745ce0fbd683\",\"type\":\"Line\"},\"hover_glyph\":{\"id\":\"765ea2e2-7dac-436c-a97d-e2317107424b\",\"type\":\"Line\"},\"muted_glyph\":null,\"name\":\"reported cum. cases\",\"nonselection_glyph\":{\"id\":\"b35bf522-c6db-402e-96b9-d8b887b0fd7d\",\"type\":\"Line\"},\"selection_glyph\":null,\"view\":{\"id\":\"9b57ec73-8ec0-4897-89ba-d1b03aa24226\",\"type\":\"CDSView\"}},\"id\":\"fb0937ea-abad-400d-87cd-4d7adc7b54d2\",\"type\":\"GlyphRenderer\"},{\"attributes\":{\"data_source\":{\"id\":\"033583b0-9605-425c-8d5c-8a667ca96851\",\"type\":\"ColumnDataSource\"},\"glyph\":{\"id\":\"3b1b08e6-c26d-44b1-8fd1-c50cb038c8be\",\"type\":\"Circle\"},\"hover_glyph\":{\"id\":\"9dad3967-e594-4ffc-a42f-0b74937876d8\",\"type\":\"Circle\"},\"muted_glyph\":null,\"nonselection_glyph\":{\"id\":\"578331e3-7d43-4fb3-999d-022143d591b0\",\"type\":\"Circle\"},\"selection_glyph\":null,\"view\":{\"id\":\"f8bd47db-d61e-4e1e-9626-4f20cea5e27e\",\"type\":\"CDSView\"}},\"id\":\"221bc6ae-a050-440b-b242-10045c92d2b0\",\"type\":\"GlyphRenderer\"},{\"attributes\":{\"fill_color\":{\"value\":\"#1f77b4\"},\"line_alpha\":{\"value\":0.5},\"line_color\":{\"value\":\"#1f77b4\"},\"line_width\":{\"value\":2},\"x\":{\"field\":\"x\"},\"y\":{\"field\":\"cum_cases_logistic_prior\"}},\"id\":\"9dad3967-e594-4ffc-a42f-0b74937876d8\",\"type\":\"Circle\"},{\"attributes\":{},\"id\":\"0efb18c1-e3a9-469f-87d9-f77b1c17da5f\",\"type\":\"Selection\"},{\"attributes\":{\"fill_alpha\":{\"value\":0.1},\"fill_color\":{\"value\":\"#1f77b4\"},\"line_alpha\":{\"value\":0.1},\"line_color\":{\"value\":\"#1f77b4\"},\"line_width\":{\"value\":2},\"x\":{\"field\":\"x\"},\"y\":{\"field\":\"cum_cases_logistic_prior\"}},\"id\":\"578331e3-7d43-4fb3-999d-022143d591b0\",\"type\":\"Circle\"},{\"attributes\":{},\"id\":\"1173fe20-c559-49e1-a3ee-ec7e4f7cfca9\",\"type\":\"YearsTicker\"},{\"attributes\":{\"data_source\":{\"id\":\"edee7521-aa31-44d9-9e21-2bc570251d85\",\"type\":\"ColumnDataSource\"},\"glyph\":{\"id\":\"13947ca9-fd2b-41d0-9ea4-8447e1d15435\",\"type\":\"Line\"},\"hover_glyph\":{\"id\":\"a1481fec-3861-4358-bea5-e0994e8e13c3\",\"type\":\"Line\"},\"muted_glyph\":null,\"name\":\"estimation cum. cases_logistic\",\"nonselection_glyph\":{\"id\":\"108cb664-4696-4f20-adad-0cc1e0f42ed5\",\"type\":\"Line\"},\"selection_glyph\":null,\"view\":{\"id\":\"a419748d-a241-4ec8-8027-bfe862c26489\",\"type\":\"CDSView\"}},\"id\":\"e6df5db0-599e-460f-a8f9-9c4b18df8d92\",\"type\":\"GlyphRenderer\"},{\"attributes\":{},\"id\":\"0bf88bec-fa02-4130-a102-2532a7a3ee15\",\"type\":\"UnionRenderers\"},{\"attributes\":{\"line_alpha\":0.5,\"line_color\":\"steelblue\",\"line_width\":2,\"x\":{\"field\":\"x\"},\"y\":{\"field\":\"cum_cases\"}},\"id\":\"c49e4963-c404-402e-b71f-745ce0fbd683\",\"type\":\"Line\"},{\"attributes\":{},\"id\":\"cabcc627-4c60-470e-8ebb-31cc862eb8be\",\"type\":\"Selection\"},{\"attributes\":{\"source\":{\"id\":\"033583b0-9605-425c-8d5c-8a667ca96851\",\"type\":\"ColumnDataSource\"}},\"id\":\"b3e4e8c4-9c1e-4d18-ba09-a95afbc017e8\",\"type\":\"CDSView\"},{\"attributes\":{\"callback\":null,\"data\":{\"cases_logistic\":{\"__ndarray__\":\"AAAAAAAA+H8AAAAAAAD4fwAAAAAAAPh/AAAAAAAA+H8AAAAAAAD4fwAAAAAAAPh/AAAAAAAA+H8AAAAAAAD4fwAAAAAAAPh/AAAAAAAA+H8AAAAAAAD4fwAAAAAAAPh/AAAAAAAA+H8AAAAAAAD4fwAAAAAAAPh/AAAAAAAA+H8AAAAAAAD4fwAAAAAAAPh/AAAAAAAA+H8AAAAAAAD4fwAAAAAAAPh/AAAAAAAA+H8AAAAAAAD4fwAAAAAAAPh/AAAAAAAA+H8AAAAAAAD4fwAAAAAAJbdAAAAAAAAYt0AAAAAAAGa2QAAAAAAAJ7VAAAAAAAB4s0AAAAAAAICxQAAAAAAAzK5AAAAAAACYqkAAAAAAAJymQA==\",\"dtype\":\"float64\",\"shape\":[35]},\"cum_cases_logistic\":{\"__ndarray__\":\"AAAAAAAA+H8AAAAAAAD4fwAAAAAAAPh/AAAAAAAA+H8AAAAAAAD4fwAAAAAAAPh/AAAAAAAA+H8AAAAAAAD4fwAAAAAAAPh/AAAAAAAA+H8AAAAAAAD4fwAAAAAAAPh/AAAAAAAA+H8AAAAAAAD4fwAAAAAAAPh/AAAAAAAA+H8AAAAAAAD4fwAAAAAAAPh/AAAAAAAA+H8AAAAAAAD4fwAAAAAAAPh/AAAAAAAA+H8AAAAAAAD4fwAAAAAAAPh/AAAAAAAA+H8AAAAAQMvlQAAAAADgr+hAAAAAAOCS60AAAAAAoF/uQAAAAABAgvBAAAAAAMC58UAAAAAAwNHyQAAAAAAgyPNAAAAAAOCc9EAAAAAAwFH1QA==\",\"dtype\":\"float64\",\"shape\":[35]},\"x\":{\"__ndarray__\":\"AACARzYJd0IAAECtiAl3QgAAABPbCXdCAADAeC0Kd0IAAIDefwp3QgAAQETSCndCAAAAqiQLd0IAAMAPdwt3QgAAgHXJC3dCAABA2xsMd0IAAABBbgx3QgAAwKbADHdCAACADBMNd0IAAEByZQ13QgAAANi3DXdCAADAPQoOd0IAAICjXA53QgAAQAmvDndCAAAAbwEPd0IAAMDUUw93QgAAgDqmD3dCAABAoPgPd0IAAAAGSxB3QgAAwGudEHdCAACA0e8Qd0IAAEA3QhF3QgAAAJ2UEXdCAADAAucRd0IAAIBoORJ3QgAAQM6LEndCAAAANN4Sd0IAAMCZMBN3QgAAgP+CE3dCAABAZdUTd0IAAADLJxR3Qg==\",\"dtype\":\"float64\",\"shape\":[35]}},\"selected\":{\"id\":\"0efb18c1-e3a9-469f-87d9-f77b1c17da5f\",\"type\":\"Selection\"},\"selection_policy\":{\"id\":\"f237bc5b-494e-4263-83db-e01e97fc6fa9\",\"type\":\"UnionRenderers\"}},\"id\":\"edee7521-aa31-44d9-9e21-2bc570251d85\",\"type\":\"ColumnDataSource\"},{\"attributes\":{\"fill_color\":{\"value\":\"#1f77b4\"},\"line_alpha\":{\"value\":0.5},\"line_color\":{\"value\":\"#1f77b4\"},\"line_width\":{\"value\":2},\"x\":{\"field\":\"x\"},\"y\":{\"field\":\"cases_logistic_prior\"}},\"id\":\"7830f4d4-4767-4cf1-bb5d-7ed2ac135da3\",\"type\":\"Circle\"},{\"attributes\":{\"line_alpha\":0.5,\"line_color\":\"#1f77b4\",\"line_dash\":[6],\"line_width\":2,\"x\":{\"field\":\"x\"},\"y\":{\"field\":\"cases_logistic\"}},\"id\":\"14c3ce06-299f-4524-9f44-173a23ea6665\",\"type\":\"Line\"},{\"attributes\":{\"fill_alpha\":{\"value\":0.1},\"fill_color\":{\"value\":\"#1f77b4\"},\"line_alpha\":{\"value\":0.1},\"line_color\":{\"value\":\"#1f77b4\"},\"line_width\":{\"value\":2},\"x\":{\"field\":\"x\"},\"y\":{\"field\":\"cases_logistic_prior\"}},\"id\":\"3c3e15e9-cd1c-4e62-8bbe-4450129ef55b\",\"type\":\"Circle\"},{\"attributes\":{\"source\":{\"id\":\"edee7521-aa31-44d9-9e21-2bc570251d85\",\"type\":\"ColumnDataSource\"}},\"id\":\"a419748d-a241-4ec8-8027-bfe862c26489\",\"type\":\"CDSView\"},{\"attributes\":{\"fill_alpha\":{\"value\":0.5},\"fill_color\":{\"value\":\"green\"},\"line_alpha\":{\"value\":0.5},\"line_color\":{\"value\":\"green\"},\"line_width\":{\"value\":2},\"x\":{\"field\":\"x\"},\"y\":{\"field\":\"cum_cases_logistic_prior\"}},\"id\":\"3b1b08e6-c26d-44b1-8fd1-c50cb038c8be\",\"type\":\"Circle\"},{\"attributes\":{\"fill_alpha\":{\"value\":0.5},\"fill_color\":{\"value\":\"green\"},\"line_alpha\":{\"value\":0.5},\"line_color\":{\"value\":\"green\"},\"line_width\":{\"value\":2},\"x\":{\"field\":\"x\"},\"y\":{\"field\":\"cases_logistic_prior\"}},\"id\":\"56bb2e14-8513-44b1-853d-b78223b14346\",\"type\":\"Circle\"},{\"attributes\":{\"days\":[\"%Y-%m-%d\"],\"months\":[\"%Y-%m-%d\"],\"years\":[\"%Y-%m-%d\"]},\"id\":\"b8f3aca5-1caa-49ca-99d2-8ff43d80444b\",\"type\":\"DatetimeTickFormatter\"},{\"attributes\":{\"callback\":null,\"data\":{\"cases_logistic_prior\":{\"__ndarray__\":\"AAAAAAAkuEAAAAAAADG3QAAAAAAAzLVAAAAAAAARtEAAAAAAAB+yQAAAAAAAGLBA\",\"dtype\":\"float64\",\"shape\":[6]},\"cum_cases_logistic_prior\":{\"__ndarray__\":\"AAAAAEDb8EAAAAAAUE7yQAAAAAAQq/NAAAAAACDs9EAAAAAAEA72QAAAAACQD/dA\",\"dtype\":\"float64\",\"shape\":[6]},\"x\":{\"__ndarray__\":\"AABAzosSd0IAAAA03hJ3QgAAwJkwE3dCAACA/4ITd0IAAEBl1RN3QgAAAMsnFHdC\",\"dtype\":\"float64\",\"shape\":[6]}},\"selected\":{\"id\":\"f7bf8c48-e8d8-4ba8-bc13-8d541e21acf0\",\"type\":\"Selection\"},\"selection_policy\":{\"id\":\"0bf88bec-fa02-4130-a102-2532a7a3ee15\",\"type\":\"UnionRenderers\"}},\"id\":\"033583b0-9605-425c-8d5c-8a667ca96851\",\"type\":\"ColumnDataSource\"},{\"attributes\":{\"callback\":null,\"formatters\":{\"$x\":\"datetime\"},\"names\":[\"estimation inc. cases_exponential\",\"estimation cum. cases_exponential\"],\"renderers\":\"auto\",\"show_arrow\":false,\"tooltips\":[[\"date\",\"$x{%F}\"],[\"estimation inc. cases_exponential\",\"@cases_exponential{0,0}\"],[\"estimation cum. cases_exponential\",\"@cum_cases_exponential{0,0}\"]]},\"id\":\"73bfafc2-79bd-45ce-b87f-b5270ac36a80\",\"type\":\"HoverTool\"},{\"attributes\":{\"data_source\":{\"id\":\"033583b0-9605-425c-8d5c-8a667ca96851\",\"type\":\"ColumnDataSource\"},\"glyph\":{\"id\":\"56bb2e14-8513-44b1-853d-b78223b14346\",\"type\":\"Circle\"},\"hover_glyph\":{\"id\":\"7830f4d4-4767-4cf1-bb5d-7ed2ac135da3\",\"type\":\"Circle\"},\"muted_glyph\":null,\"nonselection_glyph\":{\"id\":\"3c3e15e9-cd1c-4e62-8bbe-4450129ef55b\",\"type\":\"Circle\"},\"selection_glyph\":null,\"view\":{\"id\":\"b3e4e8c4-9c1e-4d18-ba09-a95afbc017e8\",\"type\":\"CDSView\"}},\"id\":\"e98bd3a5-78ff-464c-b581-99d39ad52f29\",\"type\":\"GlyphRenderer\"},{\"attributes\":{\"days\":[1,15]},\"id\":\"984bb4c3-b5e2-4676-9acc-e82e1f26e331\",\"type\":\"DaysTicker\"},{\"attributes\":{},\"id\":\"c61f7804-acaf-4a4a-8b99-ec9ea0f41968\",\"type\":\"Selection\"},{\"attributes\":{\"base\":60,\"mantissas\":[1,2,5,10,15,20,30],\"max_interval\":1800000.0,\"min_interval\":1000.0,\"num_minor_ticks\":0},\"id\":\"c6444c99-ae5b-4c25-a372-596dcd7ed888\",\"type\":\"AdaptiveTicker\"},{\"attributes\":{},\"id\":\"28efc3d2-18e6-4c71-972e-318e1310d647\",\"type\":\"UnionRenderers\"},{\"attributes\":{\"months\":[0,2,4,6,8,10]},\"id\":\"f4846854-ef2c-4a50-ab19-3033fb8ccbb6\",\"type\":\"MonthsTicker\"},{\"attributes\":{\"source\":{\"id\":\"d567eaa2-acb6-49f3-b137-2c4472271720\",\"type\":\"ColumnDataSource\"}},\"id\":\"9c026916-87a8-4c6c-9fd1-ec751060d7c2\",\"type\":\"CDSView\"},{\"attributes\":{\"base\":24,\"mantissas\":[1,2,4,6,8,12],\"max_interval\":43200000.0,\"min_interval\":3600000.0,\"num_minor_ticks\":0},\"id\":\"7072255f-f028-4180-b37f-4557a71b5524\",\"type\":\"AdaptiveTicker\"},{\"attributes\":{\"source\":{\"id\":\"423c1276-03bb-45bc-9616-ebf9c5347216\",\"type\":\"ColumnDataSource\"}},\"id\":\"6ed3d8bd-c69c-4d89-9b95-9eeba96f4e78\",\"type\":\"CDSView\"},{\"attributes\":{\"fill_color\":{\"value\":\"#1f77b4\"},\"line_alpha\":{\"value\":0.5},\"line_color\":{\"value\":\"#1f77b4\"},\"line_width\":{\"value\":2},\"x\":{\"field\":\"x\"},\"y\":{\"field\":\"cases_logistic\"}},\"id\":\"ab3fb22a-dfea-4b89-95a7-47b6491f63c2\",\"type\":\"Circle\"},{\"attributes\":{\"fill_alpha\":{\"value\":0.1},\"fill_color\":{\"value\":\"#1f77b4\"},\"line_alpha\":{\"value\":0.1},\"line_color\":{\"value\":\"#1f77b4\"},\"line_width\":{\"value\":2},\"x\":{\"field\":\"x\"},\"y\":{\"field\":\"cases_logistic\"}},\"id\":\"4f60e02a-1144-493c-9298-05eb052c584f\",\"type\":\"Circle\"},{\"attributes\":{\"source\":{\"id\":\"d567eaa2-acb6-49f3-b137-2c4472271720\",\"type\":\"ColumnDataSource\"}},\"id\":\"0640c26b-3d99-4180-98bd-8a51761c250d\",\"type\":\"CDSView\"},{\"attributes\":{\"days\":[1,2,3,4,5,6,7,8,9,10,11,12,13,14,15,16,17,18,19,20,21,22,23,24,25,26,27,28,29,30,31]},\"id\":\"1c883bf0-cae5-4a17-af83-ec77d9171d7e\",\"type\":\"DaysTicker\"},{\"attributes\":{\"axis_label\":\"date\",\"formatter\":{\"id\":\"b8f3aca5-1caa-49ca-99d2-8ff43d80444b\",\"type\":\"DatetimeTickFormatter\"},\"plot\":{\"id\":\"2a4ac52b-2888-4a4f-b107-6311632520fb\",\"subtype\":\"Figure\",\"type\":\"Plot\"},\"ticker\":{\"id\":\"bd705686-2d36-4c13-aafb-9e41701b9d30\",\"type\":\"DatetimeTicker\"}},\"id\":\"433b2961-11ae-47ef-814e-13c776fdc07a\",\"type\":\"DatetimeAxis\"},{\"attributes\":{\"fill_alpha\":{\"value\":0.5},\"fill_color\":{\"value\":\"green\"},\"line_alpha\":{\"value\":0.5},\"line_color\":{\"value\":\"green\"},\"line_width\":{\"value\":2},\"x\":{\"field\":\"x\"},\"y\":{\"field\":\"cum_cases_logistic\"}},\"id\":\"577fad97-c0a1-4298-b094-8b42e768770a\",\"type\":\"Circle\"},{\"attributes\":{\"fill_alpha\":{\"value\":0.5},\"fill_color\":{\"value\":\"green\"},\"line_alpha\":{\"value\":0.5},\"line_color\":{\"value\":\"green\"},\"line_width\":{\"value\":2},\"x\":{\"field\":\"x\"},\"y\":{\"field\":\"cases_logistic\"}},\"id\":\"6db8d707-54e1-4b9b-bfd3-266a13bc17c9\",\"type\":\"Circle\"},{\"attributes\":{\"line_alpha\":0.5,\"line_color\":\"#1f77b4\",\"line_width\":2,\"x\":{\"field\":\"x\"},\"y\":{\"field\":\"cases\"}},\"id\":\"5720bff6-b35c-4617-98ea-a05d13761f6c\",\"type\":\"Line\"},{\"attributes\":{\"callback\":null,\"data\":{\"cases_logistic\":{\"__ndarray__\":\"AAAAAADMrkAAAAAAAJiqQAAAAAAAnKZA\",\"dtype\":\"float64\",\"shape\":[3]},\"cum_cases_logistic\":{\"__ndarray__\":\"AAAAACDI80AAAAAA4Jz0QAAAAADAUfVA\",\"dtype\":\"float64\",\"shape\":[3]},\"x\":{\"__ndarray__\":\"AACA/4ITd0IAAEBl1RN3QgAAAMsnFHdC\",\"dtype\":\"float64\",\"shape\":[3]}},\"selected\":{\"id\":\"c61f7804-acaf-4a4a-8b99-ec9ea0f41968\",\"type\":\"Selection\"},\"selection_policy\":{\"id\":\"28efc3d2-18e6-4c71-972e-318e1310d647\",\"type\":\"UnionRenderers\"}},\"id\":\"d567eaa2-acb6-49f3-b137-2c4472271720\",\"type\":\"ColumnDataSource\"},{\"attributes\":{\"data_source\":{\"id\":\"423c1276-03bb-45bc-9616-ebf9c5347216\",\"type\":\"ColumnDataSource\"},\"glyph\":{\"id\":\"27407e33-c297-4575-9e57-248d4154cef6\",\"type\":\"Line\"},\"hover_glyph\":{\"id\":\"5720bff6-b35c-4617-98ea-a05d13761f6c\",\"type\":\"Line\"},\"muted_glyph\":null,\"name\":\"reported inc. cases\",\"nonselection_glyph\":{\"id\":\"91f3fc08-f25f-4c02-9fa2-07f1a8d62192\",\"type\":\"Line\"},\"selection_glyph\":null,\"view\":{\"id\":\"6ed3d8bd-c69c-4d89-9b95-9eeba96f4e78\",\"type\":\"CDSView\"}},\"id\":\"6379810d-53cc-441b-a656-d773a31dd617\",\"type\":\"GlyphRenderer\"},{\"attributes\":{\"months\":[0,1,2,3,4,5,6,7,8,9,10,11]},\"id\":\"5d5b9923-c338-4085-a215-952ebe961bb8\",\"type\":\"MonthsTicker\"},{\"attributes\":{\"data_source\":{\"id\":\"d567eaa2-acb6-49f3-b137-2c4472271720\",\"type\":\"ColumnDataSource\"},\"glyph\":{\"id\":\"6db8d707-54e1-4b9b-bfd3-266a13bc17c9\",\"type\":\"Circle\"},\"hover_glyph\":{\"id\":\"ab3fb22a-dfea-4b89-95a7-47b6491f63c2\",\"type\":\"Circle\"},\"muted_glyph\":null,\"nonselection_glyph\":{\"id\":\"4f60e02a-1144-493c-9298-05eb052c584f\",\"type\":\"Circle\"},\"selection_glyph\":null,\"view\":{\"id\":\"9c026916-87a8-4c6c-9fd1-ec751060d7c2\",\"type\":\"CDSView\"}},\"id\":\"9fadc4e5-0b5c-495e-8aa9-a942dff97e96\",\"type\":\"GlyphRenderer\"},{\"attributes\":{\"days\":[1,4,7,10,13,16,19,22,25,28]},\"id\":\"ce949831-a368-442f-b9f4-071113f597e9\",\"type\":\"DaysTicker\"},{\"attributes\":{\"overlay\":{\"id\":\"be771988-f3ee-426f-ab1e-0b04d9a68ee9\",\"type\":\"BoxAnnotation\"}},\"id\":\"950925af-7425-4bfa-b429-a8dc2e630a8b\",\"type\":\"BoxZoomTool\"},{\"attributes\":{\"days\":[1,8,15,22]},\"id\":\"de76c499-0016-45f5-b804-ad0014058455\",\"type\":\"DaysTicker\"},{\"attributes\":{},\"id\":\"ccd67fd7-6d56-4002-a30e-33e1cbdd12c8\",\"type\":\"Selection\"},{\"attributes\":{\"source\":{\"id\":\"eec76768-d725-48e1-b3c5-12b36a83e54d\",\"type\":\"ColumnDataSource\"}},\"id\":\"c48a0247-0917-43ab-8d02-2a5ffe2660dc\",\"type\":\"CDSView\"},{\"attributes\":{\"data_source\":{\"id\":\"eec76768-d725-48e1-b3c5-12b36a83e54d\",\"type\":\"ColumnDataSource\"},\"glyph\":{\"id\":\"61fb75c7-8257-4b2c-bdf1-b2bfe1f4b7dd\",\"type\":\"Circle\"},\"hover_glyph\":{\"id\":\"a31d1c74-ccd1-4007-9e49-e74443a95b8a\",\"type\":\"Circle\"},\"muted_glyph\":null,\"nonselection_glyph\":{\"id\":\"b88dc092-6755-4f8c-bf5b-6564bf952275\",\"type\":\"Circle\"},\"selection_glyph\":null,\"view\":{\"id\":\"c48a0247-0917-43ab-8d02-2a5ffe2660dc\",\"type\":\"CDSView\"}},\"id\":\"fd9f8e24-2f8a-4a68-9fc4-447285f2ac0e\",\"type\":\"GlyphRenderer\"},{\"attributes\":{\"fill_color\":{\"value\":\"#1f77b4\"},\"line_alpha\":{\"value\":0.5},\"line_color\":{\"value\":\"#1f77b4\"},\"line_width\":{\"value\":2},\"x\":{\"field\":\"x\"},\"y\":{\"field\":\"cum_cases\"}},\"id\":\"a31d1c74-ccd1-4007-9e49-e74443a95b8a\",\"type\":\"Circle\"},{\"attributes\":{\"fill_alpha\":{\"value\":0.1},\"fill_color\":{\"value\":\"#1f77b4\"},\"line_alpha\":{\"value\":0.1},\"line_color\":{\"value\":\"#1f77b4\"},\"line_width\":{\"value\":2},\"x\":{\"field\":\"x\"},\"y\":{\"field\":\"cum_cases\"}},\"id\":\"b88dc092-6755-4f8c-bf5b-6564bf952275\",\"type\":\"Circle\"},{\"attributes\":{},\"id\":\"bbc875f8-1c94-43c9-8c42-9cfc3effac77\",\"type\":\"UnionRenderers\"},{\"attributes\":{},\"id\":\"6d18f7cb-d164-45ca-bf92-18f31ef76574\",\"type\":\"WheelZoomTool\"},{\"attributes\":{\"source\":{\"id\":\"eec76768-d725-48e1-b3c5-12b36a83e54d\",\"type\":\"ColumnDataSource\"}},\"id\":\"83746562-2aa7-463a-b79b-a3e3c534a910\",\"type\":\"CDSView\"},{\"attributes\":{},\"id\":\"c75df66d-4ba2-461b-bf38-e71ab783bf1f\",\"type\":\"Selection\"},{\"attributes\":{\"data_source\":{\"id\":\"eec76768-d725-48e1-b3c5-12b36a83e54d\",\"type\":\"ColumnDataSource\"},\"glyph\":{\"id\":\"894d0311-3653-43fe-858b-a61da4bbd3ef\",\"type\":\"Circle\"},\"hover_glyph\":{\"id\":\"28926a9b-da31-4993-9924-9fee61c30909\",\"type\":\"Circle\"},\"muted_glyph\":null,\"nonselection_glyph\":{\"id\":\"014c4423-e8bb-422f-946e-71258832dec9\",\"type\":\"Circle\"},\"selection_glyph\":null,\"view\":{\"id\":\"83746562-2aa7-463a-b79b-a3e3c534a910\",\"type\":\"CDSView\"}},\"id\":\"09c73f51-3047-4fa0-b536-09ffcbcae2db\",\"type\":\"GlyphRenderer\"},{\"attributes\":{\"fill_color\":{\"value\":\"#1f77b4\"},\"line_alpha\":{\"value\":0.5},\"line_color\":{\"value\":\"#1f77b4\"},\"line_width\":{\"value\":2},\"x\":{\"field\":\"x\"},\"y\":{\"field\":\"cases\"}},\"id\":\"28926a9b-da31-4993-9924-9fee61c30909\",\"type\":\"Circle\"},{\"attributes\":{\"fill_alpha\":{\"value\":0.5},\"fill_color\":{\"value\":\"red\"},\"line_alpha\":{\"value\":0.5},\"line_color\":{\"value\":\"red\"},\"line_width\":{\"value\":2},\"x\":{\"field\":\"x\"},\"y\":{\"field\":\"cum_cases\"}},\"id\":\"61fb75c7-8257-4b2c-bdf1-b2bfe1f4b7dd\",\"type\":\"Circle\"},{\"attributes\":{\"fill_alpha\":{\"value\":0.1},\"fill_color\":{\"value\":\"#1f77b4\"},\"line_alpha\":{\"value\":0.1},\"line_color\":{\"value\":\"#1f77b4\"},\"line_width\":{\"value\":2},\"x\":{\"field\":\"x\"},\"y\":{\"field\":\"cum_cases_logistic\"}},\"id\":\"901f433c-a4c4-4525-9d3a-67e4709e1d7f\",\"type\":\"Circle\"},{\"attributes\":{\"fill_alpha\":{\"value\":0.5},\"fill_color\":{\"value\":\"red\"},\"line_alpha\":{\"value\":0.5},\"line_color\":{\"value\":\"red\"},\"line_width\":{\"value\":2},\"x\":{\"field\":\"x\"},\"y\":{\"field\":\"cases\"}},\"id\":\"894d0311-3653-43fe-858b-a61da4bbd3ef\",\"type\":\"Circle\"},{\"attributes\":{\"callback\":null,\"data\":{\"cases\":{\"__ndarray__\":\"AAAAAADXuUAAAAAAABW7QAAAAAAAqLpAAAAAAAAwsUAAAAAAALayQAAAAAAAO7NAAAAAAACwt0AAAAAAAAD4fwAAAAAAAPh/AAAAAAAA+H8=\",\"dtype\":\"float64\",\"shape\":[10]},\"cum_cases\":{\"__ndarray__\":\"AAAAAEB05UAAAAAA4NboQAAAAADgK+xAAAAAAOBR7kAAAAAAUFTwQAAAAAAAiPFAAAAAAAAD80AAAAAAAAD4fwAAAAAAAPh/AAAAAAAA+H8=\",\"dtype\":\"float64\",\"shape\":[10]},\"x\":{\"__ndarray__\":\"AABAN0IRd0IAAACdlBF3QgAAwALnEXdCAACAaDkSd0IAAEDOixJ3QgAAADTeEndCAADAmTATd0IAAID/ghN3QgAAQGXVE3dCAAAAyycUd0I=\",\"dtype\":\"float64\",\"shape\":[10]}},\"selected\":{\"id\":\"ccd67fd7-6d56-4002-a30e-33e1cbdd12c8\",\"type\":\"Selection\"},\"selection_policy\":{\"id\":\"bbc875f8-1c94-43c9-8c42-9cfc3effac77\",\"type\":\"UnionRenderers\"}},\"id\":\"eec76768-d725-48e1-b3c5-12b36a83e54d\",\"type\":\"ColumnDataSource\"},{\"attributes\":{\"callback\":null,\"formatters\":{\"$x\":\"datetime\"},\"names\":[\"estimation inc. cases_exponential_prior\",\"estimation cum. cases_exponential_prior\"],\"renderers\":\"auto\",\"show_arrow\":false,\"tooltips\":[[\"date\",\"$x{%F}\"],[\"estimation inc. cases_exponential_prior\",\"@cases_exponential_prior{0,0}\"],[\"estimation cum. cases_exponential_prior\",\"@cum_cases_exponential_prior{0,0}\"]]},\"id\":\"30f83668-ca05-412b-bbc2-02edde402b7e\",\"type\":\"HoverTool\"},{\"attributes\":{\"label\":{\"value\":\"estimation cum. cases_exponential_prior\"},\"renderers\":[{\"id\":\"00e556e1-69f6-4c7b-91d0-bb201d09c3dd\",\"type\":\"GlyphRenderer\"},{\"id\":\"79542f69-acac-4eb7-9c7f-0a340ab29ea7\",\"type\":\"GlyphRenderer\"}]},\"id\":\"88e2e703-8571-4d6d-87bc-f32793fedf30\",\"type\":\"LegendItem\"},{\"attributes\":{\"fill_alpha\":{\"value\":0.1},\"fill_color\":{\"value\":\"#1f77b4\"},\"line_alpha\":{\"value\":0.1},\"line_color\":{\"value\":\"#1f77b4\"},\"line_width\":{\"value\":2},\"x\":{\"field\":\"x\"},\"y\":{\"field\":\"cases\"}},\"id\":\"014c4423-e8bb-422f-946e-71258832dec9\",\"type\":\"Circle\"},{\"attributes\":{},\"id\":\"36321678-7457-4044-afda-1625542f725b\",\"type\":\"Selection\"},{\"attributes\":{\"source\":{\"id\":\"a9da5bd0-b77a-4931-9023-80985c802022\",\"type\":\"ColumnDataSource\"}},\"id\":\"660ebdda-0673-4763-96a0-a961576dc565\",\"type\":\"CDSView\"},{\"attributes\":{\"data_source\":{\"id\":\"a9da5bd0-b77a-4931-9023-80985c802022\",\"type\":\"ColumnDataSource\"},\"glyph\":{\"id\":\"b347b1e8-6cd0-4b49-b5c5-ff1ed2c64e4f\",\"type\":\"Line\"},\"hover_glyph\":{\"id\":\"475a8a89-ef2c-4764-b3a9-1f450a256faa\",\"type\":\"Line\"},\"muted_glyph\":null,\"name\":\"estimation cum. cases_exponential_prior\",\"nonselection_glyph\":{\"id\":\"9dec8160-7572-4d01-b47a-ca54f2e054ab\",\"type\":\"Line\"},\"selection_glyph\":null,\"view\":{\"id\":\"660ebdda-0673-4763-96a0-a961576dc565\",\"type\":\"CDSView\"}},\"id\":\"00e556e1-69f6-4c7b-91d0-bb201d09c3dd\",\"type\":\"GlyphRenderer\"},{\"attributes\":{},\"id\":\"1ae8efbc-5509-485b-9db0-fda8c567eb58\",\"type\":\"BasicTicker\"},{\"attributes\":{\"plot\":{\"id\":\"2a4ac52b-2888-4a4f-b107-6311632520fb\",\"subtype\":\"Figure\",\"type\":\"Plot\"},\"ticker\":{\"id\":\"bd705686-2d36-4c13-aafb-9e41701b9d30\",\"type\":\"DatetimeTicker\"}},\"id\":\"14c6d511-3c86-4fc1-84a5-bcbe08e0f166\",\"type\":\"Grid\"},{\"attributes\":{\"line_alpha\":0.5,\"line_color\":\"#1f77b4\",\"line_dash\":[2,4],\"line_width\":2,\"x\":{\"field\":\"x\"},\"y\":{\"field\":\"cum_cases_exponential_prior\"}},\"id\":\"475a8a89-ef2c-4764-b3a9-1f450a256faa\",\"type\":\"Line\"},{\"attributes\":{\"label\":{\"value\":\"estimation inc. cases_logistic\"},\"renderers\":[{\"id\":\"3f23d32e-3bfe-42ef-b16e-0965456e1e5a\",\"type\":\"GlyphRenderer\"},{\"id\":\"9fadc4e5-0b5c-495e-8aa9-a942dff97e96\",\"type\":\"GlyphRenderer\"}]},\"id\":\"773da0ef-e127-40dc-9566-e9cb02138818\",\"type\":\"LegendItem\"},{\"attributes\":{\"line_alpha\":0.1,\"line_color\":\"#1f77b4\",\"line_dash\":[2,4],\"line_width\":2,\"x\":{\"field\":\"x\"},\"y\":{\"field\":\"cum_cases_exponential_prior\"}},\"id\":\"9dec8160-7572-4d01-b47a-ca54f2e054ab\",\"type\":\"Line\"},{\"attributes\":{\"line_alpha\":0.5,\"line_color\":\"orange\",\"line_dash\":[2,4],\"line_width\":2,\"x\":{\"field\":\"x\"},\"y\":{\"field\":\"cum_cases_exponential_prior\"}},\"id\":\"b347b1e8-6cd0-4b49-b5c5-ff1ed2c64e4f\",\"type\":\"Line\"},{\"attributes\":{},\"id\":\"042f2357-a920-4837-a7e8-5ea280c961ad\",\"type\":\"UnionRenderers\"},{\"attributes\":{},\"id\":\"33f3ccc6-e0ab-4488-8a1b-5989695893a0\",\"type\":\"LinearScale\"},{\"attributes\":{\"source\":{\"id\":\"a9da5bd0-b77a-4931-9023-80985c802022\",\"type\":\"ColumnDataSource\"}},\"id\":\"33d1736d-aceb-485a-a696-f07b7f13e90e\",\"type\":\"CDSView\"},{\"attributes\":{\"data_source\":{\"id\":\"a9da5bd0-b77a-4931-9023-80985c802022\",\"type\":\"ColumnDataSource\"},\"glyph\":{\"id\":\"04351b89-a9bd-4f31-961f-6a0ce03a5eac\",\"type\":\"Line\"},\"hover_glyph\":{\"id\":\"b8074341-0d17-48d9-a745-4ec458fde70c\",\"type\":\"Line\"},\"muted_glyph\":null,\"name\":\"estimation inc. cases_exponential_prior\",\"nonselection_glyph\":{\"id\":\"8b792919-ff7f-436e-aa12-08401079b8e5\",\"type\":\"Line\"},\"selection_glyph\":null,\"view\":{\"id\":\"33d1736d-aceb-485a-a696-f07b7f13e90e\",\"type\":\"CDSView\"}},\"id\":\"f92791cb-364e-441e-8295-0d78400b4d9a\",\"type\":\"GlyphRenderer\"},{\"attributes\":{\"label\":{\"value\":\"reported inc. cases\"},\"renderers\":[{\"id\":\"6379810d-53cc-441b-a656-d773a31dd617\",\"type\":\"GlyphRenderer\"},{\"id\":\"09c73f51-3047-4fa0-b536-09ffcbcae2db\",\"type\":\"GlyphRenderer\"}]},\"id\":\"8f584e97-e419-4da9-a9e5-26792ebae92d\",\"type\":\"LegendItem\"},{\"attributes\":{\"callback\":null,\"data\":{\"cases\":{\"__ndarray__\":\"AAAAAACASUAAAAAAAAA9QAAAAAAAgEJAAAAAAACAUEAAAAAAAIBrQAAAAAAAgGdAAAAAAAAgYEAAAAAAACBuQAAAAAAAAGFAAAAAAACQcUAAAAAAADB8QAAAAAAAQGVAAAAAAAD0mEAAAAAAAHCMQAAAAAAA6JJAAAAAAAAUl0AAAAAAAASfQAAAAAAA/KdAAAAAAABip0AAAAAAALCxQAAAAAAAeqJAAAAAAADIpEAAAAAAAFewQAAAAAAAtK5AAAAAAADxsEAAAAAAANe5QAAAAAAAFbtAAAAAAACoukAAAAAAADCxQAAAAAAAtrJAAAAAAAA7s0AAAAAAALC3QAAAAAAAAPh/AAAAAAAA+H8AAAAAAAD4fw==\",\"dtype\":\"float64\",\"shape\":[35]},\"cum_cases\":{\"__ndarray__\":\"AAAAAABAYEAAAAAAAOBjQAAAAAAAgGhAAAAAAABgcEAAAAAAACB+QAAAAAAA8IRAAAAAAAD4iEAAAAAAAECQQAAAAAAAYJJAAAAAAADElkAAAAAAANCdQAAAAAAAPKBAAAAAAAC2rEAAAAAAAOmxQAAAAAAAo7ZAAAAAAABovEAAAAAAgBTCQAAAAACAE8hAAAAAAADszUAAAAAAAGLTQAAAAABAsdVAAAAAAEBK2EAAAAAAAGDcQAAAAABAG+BAAAAAAGA54kAAAAAAQHTlQAAAAADg1uhAAAAAAOAr7EAAAAAA4FHuQAAAAABQVPBAAAAAAACI8UAAAAAAAAPzQAAAAAAAAPh/AAAAAAAA+H8AAAAAAAD4fw==\",\"dtype\":\"float64\",\"shape\":[35]},\"x\":{\"__ndarray__\":\"AACARzYJd0IAAECtiAl3QgAAABPbCXdCAADAeC0Kd0IAAIDefwp3QgAAQETSCndCAAAAqiQLd0IAAMAPdwt3QgAAgHXJC3dCAABA2xsMd0IAAABBbgx3QgAAwKbADHdCAACADBMNd0IAAEByZQ13QgAAANi3DXdCAADAPQoOd0IAAICjXA53QgAAQAmvDndCAAAAbwEPd0IAAMDUUw93QgAAgDqmD3dCAABAoPgPd0IAAAAGSxB3QgAAwGudEHdCAACA0e8Qd0IAAEA3QhF3QgAAAJ2UEXdCAADAAucRd0IAAIBoORJ3QgAAQM6LEndCAAAANN4Sd0IAAMCZMBN3QgAAgP+CE3dCAABAZdUTd0IAAADLJxR3Qg==\",\"dtype\":\"float64\",\"shape\":[35]}},\"selected\":{\"id\":\"c75df66d-4ba2-461b-bf38-e71ab783bf1f\",\"type\":\"Selection\"},\"selection_policy\":{\"id\":\"fd6290ee-0cf0-4558-9212-bdf1c5a9e6e7\",\"type\":\"UnionRenderers\"}},\"id\":\"423c1276-03bb-45bc-9616-ebf9c5347216\",\"type\":\"ColumnDataSource\"},{\"attributes\":{\"fill_color\":{\"value\":\"#1f77b4\"},\"line_alpha\":{\"value\":0.5},\"line_color\":{\"value\":\"#1f77b4\"},\"line_width\":{\"value\":2},\"x\":{\"field\":\"x\"},\"y\":{\"field\":\"cum_cases_logistic\"}},\"id\":\"677fe5e2-9c76-4d63-9e45-589f654a22a9\",\"type\":\"Circle\"},{\"attributes\":{\"dimension\":1,\"plot\":{\"id\":\"2a4ac52b-2888-4a4f-b107-6311632520fb\",\"subtype\":\"Figure\",\"type\":\"Plot\"},\"ticker\":{\"id\":\"1ae8efbc-5509-485b-9db0-fda8c567eb58\",\"type\":\"BasicTicker\"}},\"id\":\"96222923-4ce6-4a58-866c-517474bed6f3\",\"type\":\"Grid\"},{\"attributes\":{\"data_source\":{\"id\":\"d567eaa2-acb6-49f3-b137-2c4472271720\",\"type\":\"ColumnDataSource\"},\"glyph\":{\"id\":\"577fad97-c0a1-4298-b094-8b42e768770a\",\"type\":\"Circle\"},\"hover_glyph\":{\"id\":\"677fe5e2-9c76-4d63-9e45-589f654a22a9\",\"type\":\"Circle\"},\"muted_glyph\":null,\"nonselection_glyph\":{\"id\":\"901f433c-a4c4-4525-9d3a-67e4709e1d7f\",\"type\":\"Circle\"},\"selection_glyph\":null,\"view\":{\"id\":\"0640c26b-3d99-4180-98bd-8a51761c250d\",\"type\":\"CDSView\"}},\"id\":\"13c3b7ed-bf80-4d93-8b99-fdaf5f6a6ab0\",\"type\":\"GlyphRenderer\"},{\"attributes\":{},\"id\":\"99534421-f81d-4a0c-a95b-84a52a35dd71\",\"type\":\"PanTool\"},{\"attributes\":{\"line_alpha\":0.5,\"line_color\":\"orange\",\"line_dash\":[2,4],\"line_width\":2,\"x\":{\"field\":\"x\"},\"y\":{\"field\":\"cases_exponential_prior\"}},\"id\":\"04351b89-a9bd-4f31-961f-6a0ce03a5eac\",\"type\":\"Line\"},{\"attributes\":{\"line_alpha\":0.1,\"line_color\":\"#1f77b4\",\"line_dash\":[2,4],\"line_width\":2,\"x\":{\"field\":\"x\"},\"y\":{\"field\":\"cases_exponential_prior\"}},\"id\":\"8b792919-ff7f-436e-aa12-08401079b8e5\",\"type\":\"Line\"},{\"attributes\":{\"line_alpha\":0.5,\"line_color\":\"steelblue\",\"line_width\":2,\"x\":{\"field\":\"x\"},\"y\":{\"field\":\"cases\"}},\"id\":\"27407e33-c297-4575-9e57-248d4154cef6\",\"type\":\"Line\"},{\"attributes\":{\"callback\":null,\"data\":{\"cases_exponential_prior\":{\"__ndarray__\":\"AAAAAAAA+H8AAAAAAAD4fwAAAAAAAPh/AAAAAAAA+H8AAAAAAAD4fwAAAAAAAPh/AAAAAAAA+H8AAAAAAAD4fwAAAAAAAPh/AAAAAAAA+H8AAAAAAAD4fwAAAAAAAPh/AAAAAAAA+H8AAAAAAAD4fwAAAAAAAPh/AAAAAAAA+H8AAAAAAAD4fwAAAAAAAPh/AAAAAAAA+H8AAAAAAAD4fwAAAAAAAPh/AAAAAAAA+H8AAAAAAAD4fwAAAAAAtK9AAAAAAAAJskAAAAAAAIS0QAAAAAAAWLdAAAAAAACNukAAAAAAADW+QAAAAAAAL8FAAAAAAACMw0AAAAAAgDzGQAAAAACATMlAAAAAAIDHzEAAAAAAwF7QQA==\",\"dtype\":\"float64\",\"shape\":[35]},\"cum_cases_exponential_prior\":{\"__ndarray__\":\"AAAAAAAA+H8AAAAAAAD4fwAAAAAAAPh/AAAAAAAA+H8AAAAAAAD4fwAAAAAAAPh/AAAAAAAA+H8AAAAAAAD4fwAAAAAAAPh/AAAAAAAA+H8AAAAAAAD4fwAAAAAAAPh/AAAAAAAA+H8AAAAAAAD4fwAAAAAAAPh/AAAAAAAA+H8AAAAAAAD4fwAAAAAAAPh/AAAAAAAA+H8AAAAAAAD4fwAAAAAAAPh/AAAAAAAA+H8AAAAAAMzcQAAAAABAYeBAAAAAAGCi4kAAAAAA4DLlQAAAAADgHehAAAAAAIBv60AAAAAAIDbvQAAAAADwwPFAAAAAAHAy9EAAAAAAAPr2QAAAAACQI/pAAAAAAIC8/UAAAAAAGOoAQQ==\",\"dtype\":\"float64\",\"shape\":[35]},\"x\":{\"__ndarray__\":\"AACARzYJd0IAAECtiAl3QgAAABPbCXdCAADAeC0Kd0IAAIDefwp3QgAAQETSCndCAAAAqiQLd0IAAMAPdwt3QgAAgHXJC3dCAABA2xsMd0IAAABBbgx3QgAAwKbADHdCAACADBMNd0IAAEByZQ13QgAAANi3DXdCAADAPQoOd0IAAICjXA53QgAAQAmvDndCAAAAbwEPd0IAAMDUUw93QgAAgDqmD3dCAABAoPgPd0IAAAAGSxB3QgAAwGudEHdCAACA0e8Qd0IAAEA3QhF3QgAAAJ2UEXdCAADAAucRd0IAAIBoORJ3QgAAQM6LEndCAAAANN4Sd0IAAMCZMBN3QgAAgP+CE3dCAABAZdUTd0IAAADLJxR3Qg==\",\"dtype\":\"float64\",\"shape\":[35]}},\"selected\":{\"id\":\"36321678-7457-4044-afda-1625542f725b\",\"type\":\"Selection\"},\"selection_policy\":{\"id\":\"042f2357-a920-4837-a7e8-5ea280c961ad\",\"type\":\"UnionRenderers\"}},\"id\":\"a9da5bd0-b77a-4931-9023-80985c802022\",\"type\":\"ColumnDataSource\"},{\"attributes\":{\"active_drag\":\"auto\",\"active_inspect\":\"auto\",\"active_multi\":null,\"active_scroll\":\"auto\",\"active_tap\":\"auto\",\"tools\":[{\"id\":\"99534421-f81d-4a0c-a95b-84a52a35dd71\",\"type\":\"PanTool\"},{\"id\":\"6d18f7cb-d164-45ca-bf92-18f31ef76574\",\"type\":\"WheelZoomTool\"},{\"id\":\"950925af-7425-4bfa-b429-a8dc2e630a8b\",\"type\":\"BoxZoomTool\"},{\"id\":\"5c34c18b-1864-43e6-a44e-0191b030304f\",\"type\":\"SaveTool\"},{\"id\":\"dcf3c06b-e7cc-4691-8281-2e5ffa8327dc\",\"type\":\"ResetTool\"},{\"id\":\"abbd2bcc-aee2-4fe3-b455-29f836b2ba01\",\"type\":\"HelpTool\"},{\"id\":\"d203afd6-e91a-40cb-bf30-9cf6d791f530\",\"type\":\"HoverTool\"},{\"id\":\"630a1da9-bc65-450c-85e1-61c24fccabd1\",\"type\":\"HoverTool\"},{\"id\":\"a4becc57-a27e-44e1-ac03-3e8212c34f6e\",\"type\":\"HoverTool\"},{\"id\":\"73bfafc2-79bd-45ce-b87f-b5270ac36a80\",\"type\":\"HoverTool\"},{\"id\":\"30f83668-ca05-412b-bbc2-02edde402b7e\",\"type\":\"HoverTool\"}]},\"id\":\"88581c41-c36a-48a5-b049-9574bdcba400\",\"type\":\"Toolbar\"},{\"attributes\":{\"line_alpha\":0.1,\"line_color\":\"#1f77b4\",\"line_width\":2,\"x\":{\"field\":\"x\"},\"y\":{\"field\":\"cases\"}},\"id\":\"91f3fc08-f25f-4c02-9fa2-07f1a8d62192\",\"type\":\"Line\"},{\"attributes\":{\"source\":{\"id\":\"128d88ce-8abd-4d1a-9f5b-8e74466e4db5\",\"type\":\"ColumnDataSource\"}},\"id\":\"9fe38b42-03c4-4017-abbc-2d1ad6e8e926\",\"type\":\"CDSView\"},{\"attributes\":{\"axis_label\":\"cases\",\"formatter\":{\"id\":\"3b8c8564-169f-4dd3-ae3c-a643be2c6882\",\"type\":\"NumeralTickFormatter\"},\"plot\":{\"id\":\"2a4ac52b-2888-4a4f-b107-6311632520fb\",\"subtype\":\"Figure\",\"type\":\"Plot\"},\"ticker\":{\"id\":\"1ae8efbc-5509-485b-9db0-fda8c567eb58\",\"type\":\"BasicTicker\"}},\"id\":\"53a96756-2a78-4353-af8d-865efe08b28e\",\"type\":\"LinearAxis\"},{\"attributes\":{\"data_source\":{\"id\":\"128d88ce-8abd-4d1a-9f5b-8e74466e4db5\",\"type\":\"ColumnDataSource\"},\"glyph\":{\"id\":\"bcd56904-e80c-4663-8e95-5d9bc4d75f48\",\"type\":\"Line\"},\"hover_glyph\":{\"id\":\"1aad596a-19cb-430b-b51a-220776e1b55b\",\"type\":\"Line\"},\"muted_glyph\":null,\"name\":\"estimation cum. cases_exponential\",\"nonselection_glyph\":{\"id\":\"670caea2-fc95-4f1d-8b21-dea4583bbf2e\",\"type\":\"Line\"},\"selection_glyph\":null,\"view\":{\"id\":\"9fe38b42-03c4-4017-abbc-2d1ad6e8e926\",\"type\":\"CDSView\"}},\"id\":\"05df8ff4-eda3-4857-9325-26faa11b1695\",\"type\":\"GlyphRenderer\"},{\"attributes\":{\"line_alpha\":0.5,\"line_color\":\"#1f77b4\",\"line_dash\":[6],\"line_width\":2,\"x\":{\"field\":\"x\"},\"y\":{\"field\":\"cum_cases_exponential\"}},\"id\":\"1aad596a-19cb-430b-b51a-220776e1b55b\",\"type\":\"Line\"},{\"attributes\":{},\"id\":\"fea1d2c0-5325-4963-87e3-c92d3a34ae2f\",\"type\":\"LinearScale\"},{\"attributes\":{\"line_alpha\":0.1,\"line_color\":\"#1f77b4\",\"line_dash\":[6],\"line_width\":2,\"x\":{\"field\":\"x\"},\"y\":{\"field\":\"cum_cases_exponential\"}},\"id\":\"670caea2-fc95-4f1d-8b21-dea4583bbf2e\",\"type\":\"Line\"},{\"attributes\":{\"num_minor_ticks\":5,\"tickers\":[{\"id\":\"0028c886-260f-409c-aeb0-bbf15547dee8\",\"type\":\"AdaptiveTicker\"},{\"id\":\"c6444c99-ae5b-4c25-a372-596dcd7ed888\",\"type\":\"AdaptiveTicker\"},{\"id\":\"7072255f-f028-4180-b37f-4557a71b5524\",\"type\":\"AdaptiveTicker\"},{\"id\":\"1c883bf0-cae5-4a17-af83-ec77d9171d7e\",\"type\":\"DaysTicker\"},{\"id\":\"ce949831-a368-442f-b9f4-071113f597e9\",\"type\":\"DaysTicker\"},{\"id\":\"de76c499-0016-45f5-b804-ad0014058455\",\"type\":\"DaysTicker\"},{\"id\":\"984bb4c3-b5e2-4676-9acc-e82e1f26e331\",\"type\":\"DaysTicker\"},{\"id\":\"5d5b9923-c338-4085-a215-952ebe961bb8\",\"type\":\"MonthsTicker\"},{\"id\":\"f4846854-ef2c-4a50-ab19-3033fb8ccbb6\",\"type\":\"MonthsTicker\"},{\"id\":\"1ba1a68f-072c-46f1-9923-00396953c714\",\"type\":\"MonthsTicker\"},{\"id\":\"2c83661d-a201-4c71-81b8-faffd28510a4\",\"type\":\"MonthsTicker\"},{\"id\":\"1173fe20-c559-49e1-a3ee-ec7e4f7cfca9\",\"type\":\"YearsTicker\"}]},\"id\":\"bd705686-2d36-4c13-aafb-9e41701b9d30\",\"type\":\"DatetimeTicker\"},{\"attributes\":{\"line_alpha\":0.5,\"line_color\":\"orange\",\"line_dash\":[6],\"line_width\":2,\"x\":{\"field\":\"x\"},\"y\":{\"field\":\"cum_cases_exponential\"}},\"id\":\"bcd56904-e80c-4663-8e95-5d9bc4d75f48\",\"type\":\"Line\"},{\"attributes\":{\"label\":{\"value\":\"estimation inc. cases_exponential_prior\"},\"renderers\":[{\"id\":\"f92791cb-364e-441e-8295-0d78400b4d9a\",\"type\":\"GlyphRenderer\"},{\"id\":\"882a7cd0-b911-4d07-b2f3-faec478fba44\",\"type\":\"GlyphRenderer\"}]},\"id\":\"979e9c2f-e1c7-4a43-b1d0-29fcdda65e3a\",\"type\":\"LegendItem\"},{\"attributes\":{\"source\":{\"id\":\"128d88ce-8abd-4d1a-9f5b-8e74466e4db5\",\"type\":\"ColumnDataSource\"}},\"id\":\"5d5ab1f3-51e7-4c82-a165-1c49af92d8f0\",\"type\":\"CDSView\"},{\"attributes\":{\"data_source\":{\"id\":\"128d88ce-8abd-4d1a-9f5b-8e74466e4db5\",\"type\":\"ColumnDataSource\"},\"glyph\":{\"id\":\"68f7dda6-7a43-4eb0-b9dc-0de7658e930f\",\"type\":\"Line\"},\"hover_glyph\":{\"id\":\"4bba50eb-0667-47bc-a0e3-ece0f78f20fe\",\"type\":\"Line\"},\"muted_glyph\":null,\"name\":\"estimation inc. cases_exponential\",\"nonselection_glyph\":{\"id\":\"44db952d-361e-4178-944d-4a092d53fec8\",\"type\":\"Line\"},\"selection_glyph\":null,\"view\":{\"id\":\"5d5ab1f3-51e7-4c82-a165-1c49af92d8f0\",\"type\":\"CDSView\"}},\"id\":\"0a570c66-0af4-4f12-9cb2-549e8307acf8\",\"type\":\"GlyphRenderer\"},{\"attributes\":{\"line_alpha\":0.5,\"line_color\":\"#1f77b4\",\"line_dash\":[6],\"line_width\":2,\"x\":{\"field\":\"x\"},\"y\":{\"field\":\"cases_exponential\"}},\"id\":\"4bba50eb-0667-47bc-a0e3-ece0f78f20fe\",\"type\":\"Line\"},{\"attributes\":{\"line_alpha\":0.1,\"line_color\":\"#1f77b4\",\"line_dash\":[6],\"line_width\":2,\"x\":{\"field\":\"x\"},\"y\":{\"field\":\"cases_exponential\"}},\"id\":\"44db952d-361e-4178-944d-4a092d53fec8\",\"type\":\"Line\"},{\"attributes\":{\"line_alpha\":0.5,\"line_color\":\"#1f77b4\",\"line_dash\":[2,4],\"line_width\":2,\"x\":{\"field\":\"x\"},\"y\":{\"field\":\"cases_exponential_prior\"}},\"id\":\"b8074341-0d17-48d9-a745-4ec458fde70c\",\"type\":\"Line\"},{\"attributes\":{\"mantissas\":[1,2,5],\"max_interval\":500.0,\"num_minor_ticks\":0},\"id\":\"0028c886-260f-409c-aeb0-bbf15547dee8\",\"type\":\"AdaptiveTicker\"},{\"attributes\":{\"line_alpha\":0.5,\"line_color\":\"orange\",\"line_dash\":[6],\"line_width\":2,\"x\":{\"field\":\"x\"},\"y\":{\"field\":\"cases_exponential\"}},\"id\":\"68f7dda6-7a43-4eb0-b9dc-0de7658e930f\",\"type\":\"Line\"},{\"attributes\":{\"label\":{\"value\":\"estimation inc. cases_exponential\"},\"renderers\":[{\"id\":\"0a570c66-0af4-4f12-9cb2-549e8307acf8\",\"type\":\"GlyphRenderer\"},{\"id\":\"2bf70f32-0e55-4d00-bfef-f0875791213b\",\"type\":\"GlyphRenderer\"}]},\"id\":\"33101e99-a25b-4624-89c9-8431cf23b37f\",\"type\":\"LegendItem\"}],\"root_ids\":[\"2a4ac52b-2888-4a4f-b107-6311632520fb\"]},\"title\":\"Bokeh Application\",\"version\":\"0.13.0\"}};\n",
       "  var render_items = [{\"docid\":\"0508ff55-b4f1-45d0-8b2c-6723493b537c\",\"roots\":{\"2a4ac52b-2888-4a4f-b107-6311632520fb\":\"1f37d0ff-475e-4113-b91d-84f934d51005\"}}];\n",
       "  root.Bokeh.embed.embed_items_notebook(docs_json, render_items);\n",
       "\n",
       "  }\n",
       "  if (root.Bokeh !== undefined) {\n",
       "    embed_document(root);\n",
       "  } else {\n",
       "    var attempts = 0;\n",
       "    var timer = setInterval(function(root) {\n",
       "      if (root.Bokeh !== undefined) {\n",
       "        embed_document(root);\n",
       "        clearInterval(timer);\n",
       "      }\n",
       "      attempts++;\n",
       "      if (attempts > 100) {\n",
       "        console.log(\"Bokeh: ERROR: Unable to run BokehJS code because BokehJS library is missing\")\n",
       "        clearInterval(timer);\n",
       "      }\n",
       "    }, 10, root)\n",
       "  }\n",
       "})(window);"
      ],
      "application/vnd.bokehjs_exec.v0+json": ""
     },
     "metadata": {
      "application/vnd.bokehjs_exec.v0+json": {
       "id": "2a4ac52b-2888-4a4f-b107-6311632520fb"
      }
     },
     "output_type": "display_data"
    }
   ],
   "source": [
    "single_country_new(\n",
    "    country=country,\n",
    "    source=source,\n",
    "    what='cases',\n",
    "    df_input=df_final,\n",
    "    days_fitting=days_fitting,\n",
    "    days_extropolate=days_extropolate,\n",
    "    shift=shift,\n",
    "    model_list=model_list\n",
    ")"
   ]
  },
  {
   "cell_type": "markdown",
   "metadata": {},
   "source": [
    "Results for deaths"
   ]
  },
  {
   "cell_type": "code",
   "execution_count": 21,
   "metadata": {},
   "outputs": [
    {
     "data": {
      "text/html": [
       "\n",
       "\n",
       "\n",
       "\n",
       "\n",
       "\n",
       "  <div class=\"bk-root\" id=\"ffeea536-1ba3-4219-aa08-220a1ceec8fb\"></div>\n"
      ]
     },
     "metadata": {},
     "output_type": "display_data"
    },
    {
     "data": {
      "application/javascript": [
       "(function(root) {\n",
       "  function embed_document(root) {\n",
       "    \n",
       "  var docs_json = {\"1bab3b0b-62f0-4b48-b0ed-5af44082cda4\":{\"roots\":{\"references\":[{\"attributes\":{},\"id\":\"1222c58f-d9a5-4a34-827c-b6bb6fb6f832\",\"type\":\"NumeralTickFormatter\"},{\"attributes\":{},\"id\":\"17620f45-58c8-48bb-ab0d-419441405d61\",\"type\":\"UnionRenderers\"},{\"attributes\":{},\"id\":\"f2fc9a20-2a76-44c1-b84c-9a48a8129253\",\"type\":\"HelpTool\"},{\"attributes\":{},\"id\":\"be559fd8-31f5-4548-aef5-9dfe8e0c9822\",\"type\":\"LinearScale\"},{\"attributes\":{\"days\":[1,4,7,10,13,16,19,22,25,28]},\"id\":\"b3bf159a-83f6-4b97-9555-c3f5aed66bf7\",\"type\":\"DaysTicker\"},{\"attributes\":{\"active_drag\":\"auto\",\"active_inspect\":\"auto\",\"active_multi\":null,\"active_scroll\":\"auto\",\"active_tap\":\"auto\",\"tools\":[{\"id\":\"9d4c26ac-27ca-436a-81e7-a9facf8a2542\",\"type\":\"PanTool\"},{\"id\":\"731da7ed-eb74-4e54-818b-ec7662a2e6c1\",\"type\":\"WheelZoomTool\"},{\"id\":\"ac866155-a3f9-4254-ae13-603ebf2dfc5f\",\"type\":\"BoxZoomTool\"},{\"id\":\"a5c1bde5-ac34-4f42-952b-29e18bf90665\",\"type\":\"SaveTool\"},{\"id\":\"c5987c2e-9c7b-4d58-9881-9285d76c8d30\",\"type\":\"ResetTool\"},{\"id\":\"f2fc9a20-2a76-44c1-b84c-9a48a8129253\",\"type\":\"HelpTool\"},{\"id\":\"6245507f-1400-45d5-934c-51b1f632674e\",\"type\":\"HoverTool\"},{\"id\":\"2171fcd1-afca-47ab-b7b6-8e0a6922d319\",\"type\":\"HoverTool\"},{\"id\":\"f25e6584-b219-4d80-8b02-c7934c4cfb25\",\"type\":\"HoverTool\"},{\"id\":\"c2924a72-2502-490b-bb93-bd0c4c028a7b\",\"type\":\"HoverTool\"},{\"id\":\"a894e327-36aa-4118-94cc-581d23e9d28c\",\"type\":\"HoverTool\"}]},\"id\":\"6b093539-f491-4b13-8529-17dacfe955d8\",\"type\":\"Toolbar\"},{\"attributes\":{\"callback\":null},\"id\":\"69d4c403-98a0-4914-939a-9389a0bcfa61\",\"type\":\"DataRange1d\"},{\"attributes\":{\"days\":[1,15]},\"id\":\"bed10183-9ed0-4723-a731-a49b19cf0526\",\"type\":\"DaysTicker\"},{\"attributes\":{\"plot\":null,\"text\":\"Germany\"},\"id\":\"54ba368a-ea81-47ac-8382-09af4087722e\",\"type\":\"Title\"},{\"attributes\":{\"label\":{\"value\":\"reported inc. deaths\"},\"renderers\":[{\"id\":\"5ea6d102-7da9-4001-91d3-0201c70b76cf\",\"type\":\"GlyphRenderer\"},{\"id\":\"192d6e39-6053-4768-b0e4-a4d6bcbc2b64\",\"type\":\"GlyphRenderer\"}]},\"id\":\"3d8b5a63-ff83-4111-afe6-382c0755b4af\",\"type\":\"LegendItem\"},{\"attributes\":{\"months\":[0,4,8]},\"id\":\"7583b288-82fa-44a8-bac8-27462decec22\",\"type\":\"MonthsTicker\"},{\"attributes\":{\"overlay\":{\"id\":\"960b4835-e243-4ccc-967c-8cc490a6e84d\",\"type\":\"BoxAnnotation\"}},\"id\":\"ac866155-a3f9-4254-ae13-603ebf2dfc5f\",\"type\":\"BoxZoomTool\"},{\"attributes\":{\"months\":[0,6]},\"id\":\"65a4e144-b520-42c0-af85-510b3fc85c01\",\"type\":\"MonthsTicker\"},{\"attributes\":{\"plot\":{\"id\":\"5bb63d92-0ff9-4fb2-b709-66ff4f6f2e3b\",\"subtype\":\"Figure\",\"type\":\"Plot\"},\"ticker\":{\"id\":\"7089598b-b917-4f2c-a396-7968eca827bc\",\"type\":\"DatetimeTicker\"}},\"id\":\"e7d3af9d-179b-4a3b-88ff-be5f045cf3ee\",\"type\":\"Grid\"},{\"attributes\":{},\"id\":\"a5c1bde5-ac34-4f42-952b-29e18bf90665\",\"type\":\"SaveTool\"},{\"attributes\":{\"fill_alpha\":{\"value\":0.1},\"fill_color\":{\"value\":\"#1f77b4\"},\"line_alpha\":{\"value\":0.1},\"line_color\":{\"value\":\"#1f77b4\"},\"line_width\":{\"value\":2},\"x\":{\"field\":\"x\"},\"y\":{\"field\":\"cum_deaths\"}},\"id\":\"14fa1df9-3211-4088-96e8-eb5f3235e852\",\"type\":\"Circle\"},{\"attributes\":{\"base\":60,\"mantissas\":[1,2,5,10,15,20,30],\"max_interval\":1800000.0,\"min_interval\":1000.0,\"num_minor_ticks\":0},\"id\":\"e912ee6d-1b52-4480-b560-5b352371211e\",\"type\":\"AdaptiveTicker\"},{\"attributes\":{\"bottom_units\":\"screen\",\"fill_alpha\":{\"value\":0.5},\"fill_color\":{\"value\":\"lightgrey\"},\"left_units\":\"screen\",\"level\":\"overlay\",\"line_alpha\":{\"value\":1.0},\"line_color\":{\"value\":\"black\"},\"line_dash\":[4,4],\"line_width\":{\"value\":2},\"plot\":null,\"render_mode\":\"css\",\"right_units\":\"screen\",\"top_units\":\"screen\"},\"id\":\"960b4835-e243-4ccc-967c-8cc490a6e84d\",\"type\":\"BoxAnnotation\"},{\"attributes\":{},\"id\":\"4bee9a66-afb7-4e85-802d-765400339514\",\"type\":\"LinearScale\"},{\"attributes\":{},\"id\":\"017b0dcb-1ee3-4733-a948-8667f992234b\",\"type\":\"Selection\"},{\"attributes\":{\"callback\":null},\"id\":\"95432266-7be2-4be2-a7be-034ed71b6e99\",\"type\":\"DataRange1d\"},{\"attributes\":{\"months\":[0,1,2,3,4,5,6,7,8,9,10,11]},\"id\":\"38eaf1c9-f946-426a-8a3d-029c4d636a78\",\"type\":\"MonthsTicker\"},{\"attributes\":{\"days\":[1,2,3,4,5,6,7,8,9,10,11,12,13,14,15,16,17,18,19,20,21,22,23,24,25,26,27,28,29,30,31]},\"id\":\"846565c8-0a46-4d4a-b663-e4f57837c31e\",\"type\":\"DaysTicker\"},{\"attributes\":{\"line_alpha\":0.1,\"line_color\":\"#1f77b4\",\"line_width\":2,\"x\":{\"field\":\"x\"},\"y\":{\"field\":\"deaths\"}},\"id\":\"b06b68b9-0ca9-4619-b1bb-c3f44b443ddc\",\"type\":\"Line\"},{\"attributes\":{},\"id\":\"3ce9fde0-6535-4121-9651-aaf7b22c5bc4\",\"type\":\"YearsTicker\"},{\"attributes\":{\"line_alpha\":0.5,\"line_color\":\"steelblue\",\"line_width\":2,\"x\":{\"field\":\"x\"},\"y\":{\"field\":\"deaths\"}},\"id\":\"cc8895c1-6e2b-4a0e-a3e5-b9129cd53e43\",\"type\":\"Line\"},{\"attributes\":{\"data_source\":{\"id\":\"112ec24c-f203-48fd-9d44-88696a1de94d\",\"type\":\"ColumnDataSource\"},\"glyph\":{\"id\":\"fa090b71-ee08-45e8-9e9f-1ee16058aa4c\",\"type\":\"Line\"},\"hover_glyph\":{\"id\":\"36a5fa15-bcc4-42d0-9a61-0b56a0780904\",\"type\":\"Line\"},\"muted_glyph\":null,\"name\":\"reported cum. deaths\",\"nonselection_glyph\":{\"id\":\"5f5ef728-8d03-49af-982c-b6a43c7d050f\",\"type\":\"Line\"},\"selection_glyph\":null,\"view\":{\"id\":\"bba10056-644b-4110-a8b5-1c4e7e312119\",\"type\":\"CDSView\"}},\"id\":\"a559283d-68ca-4ffa-b0c8-0217e630ceac\",\"type\":\"GlyphRenderer\"},{\"attributes\":{\"source\":{\"id\":\"112ec24c-f203-48fd-9d44-88696a1de94d\",\"type\":\"ColumnDataSource\"}},\"id\":\"9d74933e-4cf4-4a22-8cab-95da13209fdf\",\"type\":\"CDSView\"},{\"attributes\":{\"data_source\":{\"id\":\"3f62fe5c-f3b6-45bc-813e-67e691672542\",\"type\":\"ColumnDataSource\"},\"glyph\":{\"id\":\"0ce7321d-e148-421f-abc5-43c4e9e657f0\",\"type\":\"Circle\"},\"hover_glyph\":{\"id\":\"5eeda1f3-6d61-426b-a2de-b7f97d6e32c9\",\"type\":\"Circle\"},\"muted_glyph\":null,\"nonselection_glyph\":{\"id\":\"b6c1b7e3-461e-4770-9b52-70b9df6aac40\",\"type\":\"Circle\"},\"selection_glyph\":null,\"view\":{\"id\":\"85466181-ba14-46da-945e-9dae60c75f3c\",\"type\":\"CDSView\"}},\"id\":\"b65d7909-22ed-4259-ab19-5460c3deec77\",\"type\":\"GlyphRenderer\"},{\"attributes\":{\"line_alpha\":0.5,\"line_color\":\"steelblue\",\"line_width\":2,\"x\":{\"field\":\"x\"},\"y\":{\"field\":\"cum_deaths\"}},\"id\":\"fa090b71-ee08-45e8-9e9f-1ee16058aa4c\",\"type\":\"Line\"},{\"attributes\":{\"source\":{\"id\":\"3f62fe5c-f3b6-45bc-813e-67e691672542\",\"type\":\"ColumnDataSource\"}},\"id\":\"85466181-ba14-46da-945e-9dae60c75f3c\",\"type\":\"CDSView\"},{\"attributes\":{},\"id\":\"2e56d2ae-0d82-4fcf-adc7-443aff4da025\",\"type\":\"Selection\"},{\"attributes\":{\"fill_alpha\":{\"value\":0.1},\"fill_color\":{\"value\":\"#1f77b4\"},\"line_alpha\":{\"value\":0.1},\"line_color\":{\"value\":\"#1f77b4\"},\"line_width\":{\"value\":2},\"x\":{\"field\":\"x\"},\"y\":{\"field\":\"cum_deaths_exponential_prior\"}},\"id\":\"b6c1b7e3-461e-4770-9b52-70b9df6aac40\",\"type\":\"Circle\"},{\"attributes\":{\"fill_color\":{\"value\":\"#1f77b4\"},\"line_alpha\":{\"value\":0.5},\"line_color\":{\"value\":\"#1f77b4\"},\"line_width\":{\"value\":2},\"x\":{\"field\":\"x\"},\"y\":{\"field\":\"cum_deaths_exponential_prior\"}},\"id\":\"5eeda1f3-6d61-426b-a2de-b7f97d6e32c9\",\"type\":\"Circle\"},{\"attributes\":{\"fill_color\":{\"value\":\"#1f77b4\"},\"line_alpha\":{\"value\":0.5},\"line_color\":{\"value\":\"#1f77b4\"},\"line_width\":{\"value\":2},\"x\":{\"field\":\"x\"},\"y\":{\"field\":\"deaths_exponential_prior\"}},\"id\":\"dde29adf-b7f0-40a1-a7f8-91d6bec17134\",\"type\":\"Circle\"},{\"attributes\":{\"source\":{\"id\":\"3f62fe5c-f3b6-45bc-813e-67e691672542\",\"type\":\"ColumnDataSource\"}},\"id\":\"a49994a0-0a1b-4430-9280-69fe566c1b2e\",\"type\":\"CDSView\"},{\"attributes\":{},\"id\":\"6599cc95-12d2-4f02-aab8-ee4a94af2d98\",\"type\":\"UnionRenderers\"},{\"attributes\":{\"fill_alpha\":{\"value\":0.1},\"fill_color\":{\"value\":\"#1f77b4\"},\"line_alpha\":{\"value\":0.1},\"line_color\":{\"value\":\"#1f77b4\"},\"line_width\":{\"value\":2},\"x\":{\"field\":\"x\"},\"y\":{\"field\":\"deaths_exponential_prior\"}},\"id\":\"99c9f209-cc3c-412f-87b8-db8bd4a2971b\",\"type\":\"Circle\"},{\"attributes\":{\"base\":24,\"mantissas\":[1,2,4,6,8,12],\"max_interval\":43200000.0,\"min_interval\":3600000.0,\"num_minor_ticks\":0},\"id\":\"6abc799f-b667-4554-bcbf-3a92955d5ade\",\"type\":\"AdaptiveTicker\"},{\"attributes\":{},\"id\":\"22e56534-f33d-461c-b9d3-5d3ad9e476a0\",\"type\":\"Selection\"},{\"attributes\":{\"fill_alpha\":{\"value\":0.5},\"fill_color\":{\"value\":\"orange\"},\"line_alpha\":{\"value\":0.5},\"line_color\":{\"value\":\"orange\"},\"line_width\":{\"value\":2},\"x\":{\"field\":\"x\"},\"y\":{\"field\":\"cum_deaths_exponential_prior\"}},\"id\":\"0ce7321d-e148-421f-abc5-43c4e9e657f0\",\"type\":\"Circle\"},{\"attributes\":{\"callback\":null,\"data\":{\"cum_deaths_exponential_prior\":{\"__ndarray__\":\"AAAAAAB4hUAAAAAAAEiLQAAAAAAAWJFAAAAAAAAIlkAAAAAAAAScQAAAAAAAzKFA\",\"dtype\":\"float64\",\"shape\":[6]},\"deaths_exponential_prior\":{\"__ndarray__\":\"AAAAAABgYkAAAAAAAEBnQAAAAAAAoG1AAAAAAADAckAAAAAAAPB3QAAAAAAAUH5A\",\"dtype\":\"float64\",\"shape\":[6]},\"x\":{\"__ndarray__\":\"AABAzosSd0IAAAA03hJ3QgAAwJkwE3dCAACA/4ITd0IAAEBl1RN3QgAAAMsnFHdC\",\"dtype\":\"float64\",\"shape\":[6]}},\"selected\":{\"id\":\"22e56534-f33d-461c-b9d3-5d3ad9e476a0\",\"type\":\"Selection\"},\"selection_policy\":{\"id\":\"6599cc95-12d2-4f02-aab8-ee4a94af2d98\",\"type\":\"UnionRenderers\"}},\"id\":\"3f62fe5c-f3b6-45bc-813e-67e691672542\",\"type\":\"ColumnDataSource\"},{\"attributes\":{\"fill_alpha\":{\"value\":0.5},\"fill_color\":{\"value\":\"orange\"},\"line_alpha\":{\"value\":0.5},\"line_color\":{\"value\":\"orange\"},\"line_width\":{\"value\":2},\"x\":{\"field\":\"x\"},\"y\":{\"field\":\"deaths_exponential_prior\"}},\"id\":\"f039f816-fdf0-4fb2-b048-6dc1cf4857ba\",\"type\":\"Circle\"},{\"attributes\":{\"data_source\":{\"id\":\"3f62fe5c-f3b6-45bc-813e-67e691672542\",\"type\":\"ColumnDataSource\"},\"glyph\":{\"id\":\"f039f816-fdf0-4fb2-b048-6dc1cf4857ba\",\"type\":\"Circle\"},\"hover_glyph\":{\"id\":\"dde29adf-b7f0-40a1-a7f8-91d6bec17134\",\"type\":\"Circle\"},\"muted_glyph\":null,\"nonselection_glyph\":{\"id\":\"99c9f209-cc3c-412f-87b8-db8bd4a2971b\",\"type\":\"Circle\"},\"selection_glyph\":null,\"view\":{\"id\":\"a49994a0-0a1b-4430-9280-69fe566c1b2e\",\"type\":\"CDSView\"}},\"id\":\"3bb6b338-8395-4716-b8ca-661865a37114\",\"type\":\"GlyphRenderer\"},{\"attributes\":{},\"id\":\"9d4c26ac-27ca-436a-81e7-a9facf8a2542\",\"type\":\"PanTool\"},{\"attributes\":{},\"id\":\"55a71381-8d75-4ddb-8527-44276a782272\",\"type\":\"Selection\"},{\"attributes\":{\"fill_color\":{\"value\":\"#1f77b4\"},\"line_alpha\":{\"value\":0.5},\"line_color\":{\"value\":\"#1f77b4\"},\"line_width\":{\"value\":2},\"x\":{\"field\":\"x\"},\"y\":{\"field\":\"deaths_exponential\"}},\"id\":\"3d8ce313-066b-4a22-bb37-66d23229f5cc\",\"type\":\"Circle\"},{\"attributes\":{\"source\":{\"id\":\"081b2243-d7f8-4b28-9049-6879e0f886b2\",\"type\":\"ColumnDataSource\"}},\"id\":\"05cc5cb7-c0ce-4c57-be9e-14e153d8d42f\",\"type\":\"CDSView\"},{\"attributes\":{\"fill_alpha\":{\"value\":0.5},\"fill_color\":{\"value\":\"orange\"},\"line_alpha\":{\"value\":0.5},\"line_color\":{\"value\":\"orange\"},\"line_width\":{\"value\":2},\"x\":{\"field\":\"x\"},\"y\":{\"field\":\"deaths_exponential\"}},\"id\":\"498dc19b-375c-48ec-baae-838990e80bf2\",\"type\":\"Circle\"},{\"attributes\":{\"days\":[1,8,15,22]},\"id\":\"29613fa5-985a-4af0-ba25-fe1f84a1395a\",\"type\":\"DaysTicker\"},{\"attributes\":{},\"id\":\"c5987c2e-9c7b-4d58-9881-9285d76c8d30\",\"type\":\"ResetTool\"},{\"attributes\":{},\"id\":\"c67d28a2-54ff-47ed-852b-81fd291077d9\",\"type\":\"UnionRenderers\"},{\"attributes\":{\"source\":{\"id\":\"081b2243-d7f8-4b28-9049-6879e0f886b2\",\"type\":\"ColumnDataSource\"}},\"id\":\"54c47a1c-9b04-494d-8e97-5b83a56e6fad\",\"type\":\"CDSView\"},{\"attributes\":{},\"id\":\"731da7ed-eb74-4e54-818b-ec7662a2e6c1\",\"type\":\"WheelZoomTool\"},{\"attributes\":{\"source\":{\"id\":\"112ec24c-f203-48fd-9d44-88696a1de94d\",\"type\":\"ColumnDataSource\"}},\"id\":\"bba10056-644b-4110-a8b5-1c4e7e312119\",\"type\":\"CDSView\"},{\"attributes\":{\"items\":[{\"id\":\"3d8b5a63-ff83-4111-afe6-382c0755b4af\",\"type\":\"LegendItem\"},{\"id\":\"081f53df-bf8b-42e1-8f6b-a0da498a1834\",\"type\":\"LegendItem\"},{\"id\":\"f1d61659-4624-4ccf-bdcf-60c84592fe48\",\"type\":\"LegendItem\"},{\"id\":\"8b6acff0-cc68-47e4-a9ab-1bfe87bbc01a\",\"type\":\"LegendItem\"},{\"id\":\"299e670d-dfb8-4be1-af23-49b6d39f214b\",\"type\":\"LegendItem\"},{\"id\":\"0b946f25-6cb9-479c-ba3a-1023bb55ba6b\",\"type\":\"LegendItem\"},{\"id\":\"fe07eebc-8a3d-4b29-a170-ea7ae6a0a178\",\"type\":\"LegendItem\"},{\"id\":\"5a75d303-4e07-47a4-9bb4-b2872e8de3c0\",\"type\":\"LegendItem\"},{\"id\":\"faf7948e-57cc-41f9-b9c9-62bec6488465\",\"type\":\"LegendItem\"},{\"id\":\"8efc1fc8-bd70-45ac-893e-ba3a8941226c\",\"type\":\"LegendItem\"}],\"location\":\"top_left\",\"plot\":{\"id\":\"5bb63d92-0ff9-4fb2-b709-66ff4f6f2e3b\",\"subtype\":\"Figure\",\"type\":\"Plot\"}},\"id\":\"bbdca06c-01df-4044-a8de-b6d6ead31259\",\"type\":\"Legend\"},{\"attributes\":{\"fill_alpha\":{\"value\":0.1},\"fill_color\":{\"value\":\"#1f77b4\"},\"line_alpha\":{\"value\":0.1},\"line_color\":{\"value\":\"#1f77b4\"},\"line_width\":{\"value\":2},\"x\":{\"field\":\"x\"},\"y\":{\"field\":\"deaths_exponential\"}},\"id\":\"01ee75e0-41cc-49b1-8f71-7540ce5f7ae8\",\"type\":\"Circle\"},{\"attributes\":{\"line_alpha\":0.5,\"line_color\":\"#1f77b4\",\"line_width\":2,\"x\":{\"field\":\"x\"},\"y\":{\"field\":\"deaths\"}},\"id\":\"33ac32f9-73a1-4bac-9546-c9f45df4b112\",\"type\":\"Line\"},{\"attributes\":{\"data_source\":{\"id\":\"081b2243-d7f8-4b28-9049-6879e0f886b2\",\"type\":\"ColumnDataSource\"},\"glyph\":{\"id\":\"498dc19b-375c-48ec-baae-838990e80bf2\",\"type\":\"Circle\"},\"hover_glyph\":{\"id\":\"3d8ce313-066b-4a22-bb37-66d23229f5cc\",\"type\":\"Circle\"},\"muted_glyph\":null,\"nonselection_glyph\":{\"id\":\"01ee75e0-41cc-49b1-8f71-7540ce5f7ae8\",\"type\":\"Circle\"},\"selection_glyph\":null,\"view\":{\"id\":\"05cc5cb7-c0ce-4c57-be9e-14e153d8d42f\",\"type\":\"CDSView\"}},\"id\":\"0eacb7af-4f7a-4638-a272-1c5105aca276\",\"type\":\"GlyphRenderer\"},{\"attributes\":{\"fill_color\":{\"value\":\"#1f77b4\"},\"line_alpha\":{\"value\":0.5},\"line_color\":{\"value\":\"#1f77b4\"},\"line_width\":{\"value\":2},\"x\":{\"field\":\"x\"},\"y\":{\"field\":\"cum_deaths\"}},\"id\":\"f7ef2898-7d2e-4e10-88f7-eefe19a2a039\",\"type\":\"Circle\"},{\"attributes\":{\"callback\":null,\"data\":{\"cum_deaths_exponential\":{\"__ndarray__\":\"AAAAAADAkUAAAAAAAJiVQAAAAAAARJpA\",\"dtype\":\"float64\",\"shape\":[3]},\"deaths_exponential\":{\"__ndarray__\":\"AAAAAABAaUAAAAAAAMBuQAAAAAAAsHJA\",\"dtype\":\"float64\",\"shape\":[3]},\"x\":{\"__ndarray__\":\"AACA/4ITd0IAAEBl1RN3QgAAAMsnFHdC\",\"dtype\":\"float64\",\"shape\":[3]}},\"selected\":{\"id\":\"55a71381-8d75-4ddb-8527-44276a782272\",\"type\":\"Selection\"},\"selection_policy\":{\"id\":\"c67d28a2-54ff-47ed-852b-81fd291077d9\",\"type\":\"UnionRenderers\"}},\"id\":\"081b2243-d7f8-4b28-9049-6879e0f886b2\",\"type\":\"ColumnDataSource\"},{\"attributes\":{\"months\":[0,2,4,6,8,10]},\"id\":\"26bb0efd-bb64-40f8-9d4d-225ad77a8393\",\"type\":\"MonthsTicker\"},{\"attributes\":{\"data_source\":{\"id\":\"112ec24c-f203-48fd-9d44-88696a1de94d\",\"type\":\"ColumnDataSource\"},\"glyph\":{\"id\":\"cc8895c1-6e2b-4a0e-a3e5-b9129cd53e43\",\"type\":\"Line\"},\"hover_glyph\":{\"id\":\"33ac32f9-73a1-4bac-9546-c9f45df4b112\",\"type\":\"Line\"},\"muted_glyph\":null,\"name\":\"reported inc. deaths\",\"nonselection_glyph\":{\"id\":\"b06b68b9-0ca9-4619-b1bb-c3f44b443ddc\",\"type\":\"Line\"},\"selection_glyph\":null,\"view\":{\"id\":\"9d74933e-4cf4-4a22-8cab-95da13209fdf\",\"type\":\"CDSView\"}},\"id\":\"5ea6d102-7da9-4001-91d3-0201c70b76cf\",\"type\":\"GlyphRenderer\"},{\"attributes\":{\"mantissas\":[1,2,5],\"max_interval\":500.0,\"num_minor_ticks\":0},\"id\":\"d9e56c0e-880c-43c6-a300-6e83f8db0de6\",\"type\":\"AdaptiveTicker\"},{\"attributes\":{\"line_alpha\":0.5,\"line_color\":\"#1f77b4\",\"line_width\":2,\"x\":{\"field\":\"x\"},\"y\":{\"field\":\"cum_deaths\"}},\"id\":\"36a5fa15-bcc4-42d0-9a61-0b56a0780904\",\"type\":\"Line\"},{\"attributes\":{\"line_alpha\":0.1,\"line_color\":\"#1f77b4\",\"line_width\":2,\"x\":{\"field\":\"x\"},\"y\":{\"field\":\"cum_deaths\"}},\"id\":\"5f5ef728-8d03-49af-982c-b6a43c7d050f\",\"type\":\"Line\"},{\"attributes\":{},\"id\":\"000085f3-8f1e-4bad-afd5-6d9f65462226\",\"type\":\"UnionRenderers\"},{\"attributes\":{\"source\":{\"id\":\"38a6e5ca-7bad-4a8f-b3d0-2bdf4ae3b2e5\",\"type\":\"ColumnDataSource\"}},\"id\":\"9c60d902-2172-40ff-bc28-86c998b2875c\",\"type\":\"CDSView\"},{\"attributes\":{\"fill_alpha\":{\"value\":0.1},\"fill_color\":{\"value\":\"#1f77b4\"},\"line_alpha\":{\"value\":0.1},\"line_color\":{\"value\":\"#1f77b4\"},\"line_width\":{\"value\":2},\"x\":{\"field\":\"x\"},\"y\":{\"field\":\"cum_deaths_exponential\"}},\"id\":\"c4015f9d-89b7-4e34-bd95-ef61ee92c8df\",\"type\":\"Circle\"},{\"attributes\":{\"callback\":null,\"formatters\":{\"$x\":\"datetime\"},\"names\":[\"estimation inc. deaths_exponential\",\"estimation cum. deaths_exponential\"],\"renderers\":\"auto\",\"show_arrow\":false,\"tooltips\":[[\"date\",\"$x{%F}\"],[\"estimation inc. deaths_exponential\",\"@deaths_exponential{0,0}\"],[\"estimation cum. deaths_exponential\",\"@cum_deaths_exponential{0,0}\"]]},\"id\":\"c2924a72-2502-490b-bb93-bd0c4c028a7b\",\"type\":\"HoverTool\"},{\"attributes\":{\"fill_color\":{\"value\":\"#1f77b4\"},\"line_alpha\":{\"value\":0.5},\"line_color\":{\"value\":\"#1f77b4\"},\"line_width\":{\"value\":2},\"x\":{\"field\":\"x\"},\"y\":{\"field\":\"deaths_logistic\"}},\"id\":\"5621bafb-cc0b-4eff-823d-4768abcca15f\",\"type\":\"Circle\"},{\"attributes\":{\"label\":{\"value\":\"estimation cum. deaths_exponential\"},\"renderers\":[{\"id\":\"133129a1-f233-4584-94aa-90681ac7be41\",\"type\":\"GlyphRenderer\"},{\"id\":\"03410861-189d-4ddd-bb98-c138a4320fa5\",\"type\":\"GlyphRenderer\"}]},\"id\":\"5a75d303-4e07-47a4-9bb4-b2872e8de3c0\",\"type\":\"LegendItem\"},{\"attributes\":{\"fill_alpha\":{\"value\":0.1},\"fill_color\":{\"value\":\"#1f77b4\"},\"line_alpha\":{\"value\":0.1},\"line_color\":{\"value\":\"#1f77b4\"},\"line_width\":{\"value\":2},\"x\":{\"field\":\"x\"},\"y\":{\"field\":\"deaths_logistic\"}},\"id\":\"43ceb88e-c644-4366-b21c-8cbe6febe155\",\"type\":\"Circle\"},{\"attributes\":{\"data_source\":{\"id\":\"38a6e5ca-7bad-4a8f-b3d0-2bdf4ae3b2e5\",\"type\":\"ColumnDataSource\"},\"glyph\":{\"id\":\"2ada3f19-fcd6-40ce-a9a2-bbacb28d32cd\",\"type\":\"Line\"},\"hover_glyph\":{\"id\":\"61d89d6d-050f-4181-93a9-377d372c55da\",\"type\":\"Line\"},\"muted_glyph\":null,\"name\":\"estimation cum. deaths_exponential\",\"nonselection_glyph\":{\"id\":\"946dea70-5094-462e-a3f6-9ce3207bf666\",\"type\":\"Line\"},\"selection_glyph\":null,\"view\":{\"id\":\"9c60d902-2172-40ff-bc28-86c998b2875c\",\"type\":\"CDSView\"}},\"id\":\"133129a1-f233-4584-94aa-90681ac7be41\",\"type\":\"GlyphRenderer\"},{\"attributes\":{\"source\":{\"id\":\"e1dadbbd-4e78-4221-b752-955b49cf06ca\",\"type\":\"ColumnDataSource\"}},\"id\":\"d8093c98-9c01-4b53-951a-433aae7f1beb\",\"type\":\"CDSView\"},{\"attributes\":{\"fill_alpha\":{\"value\":0.1},\"fill_color\":{\"value\":\"#1f77b4\"},\"line_alpha\":{\"value\":0.1},\"line_color\":{\"value\":\"#1f77b4\"},\"line_width\":{\"value\":2},\"x\":{\"field\":\"x\"},\"y\":{\"field\":\"cum_deaths_logistic\"}},\"id\":\"07b6c926-981f-4363-af87-431dde59b311\",\"type\":\"Circle\"},{\"attributes\":{},\"id\":\"47071264-787e-4dc7-8d6a-47afabc019ce\",\"type\":\"Selection\"},{\"attributes\":{\"line_alpha\":0.5,\"line_color\":\"orange\",\"line_dash\":[6],\"line_width\":2,\"x\":{\"field\":\"x\"},\"y\":{\"field\":\"cum_deaths_exponential\"}},\"id\":\"2ada3f19-fcd6-40ce-a9a2-bbacb28d32cd\",\"type\":\"Line\"},{\"attributes\":{\"line_alpha\":0.1,\"line_color\":\"#1f77b4\",\"line_dash\":[6],\"line_width\":2,\"x\":{\"field\":\"x\"},\"y\":{\"field\":\"deaths_exponential\"}},\"id\":\"3701e556-4ecd-463a-8994-15783eed83f2\",\"type\":\"Line\"},{\"attributes\":{\"line_alpha\":0.1,\"line_color\":\"#1f77b4\",\"line_dash\":[6],\"line_width\":2,\"x\":{\"field\":\"x\"},\"y\":{\"field\":\"cum_deaths_exponential\"}},\"id\":\"946dea70-5094-462e-a3f6-9ce3207bf666\",\"type\":\"Line\"},{\"attributes\":{\"callback\":null,\"data\":{\"cum_deaths_logistic_prior\":{\"__ndarray__\":\"AAAAAABAhEAAAAAAABiIQAAAAAAAEIxAAAAAAADwj0AAAAAAAMyRQAAAAAAAdJNA\",\"dtype\":\"float64\",\"shape\":[6]},\"deaths_logistic_prior\":{\"__ndarray__\":\"AAAAAADAXEAAAAAAAMBeQAAAAAAAwF9AAAAAAAAAX0AAAAAAAEBdQAAAAAAAgFpA\",\"dtype\":\"float64\",\"shape\":[6]},\"x\":{\"__ndarray__\":\"AABAzosSd0IAAAA03hJ3QgAAwJkwE3dCAACA/4ITd0IAAEBl1RN3QgAAAMsnFHdC\",\"dtype\":\"float64\",\"shape\":[6]}},\"selected\":{\"id\":\"2e56d2ae-0d82-4fcf-adc7-443aff4da025\",\"type\":\"Selection\"},\"selection_policy\":{\"id\":\"000085f3-8f1e-4bad-afd5-6d9f65462226\",\"type\":\"UnionRenderers\"}},\"id\":\"0d98843c-c60c-4949-b183-7e75f44ceff8\",\"type\":\"ColumnDataSource\"},{\"attributes\":{\"source\":{\"id\":\"38a6e5ca-7bad-4a8f-b3d0-2bdf4ae3b2e5\",\"type\":\"ColumnDataSource\"}},\"id\":\"bdf383a3-2775-402f-9b6f-0f341930acea\",\"type\":\"CDSView\"},{\"attributes\":{\"label\":{\"value\":\"estimation inc. deaths_exponential\"},\"renderers\":[{\"id\":\"df4b5909-8da9-4d11-8860-5ac2c4e4eb08\",\"type\":\"GlyphRenderer\"},{\"id\":\"0eacb7af-4f7a-4638-a272-1c5105aca276\",\"type\":\"GlyphRenderer\"}]},\"id\":\"fe07eebc-8a3d-4b29-a170-ea7ae6a0a178\",\"type\":\"LegendItem\"},{\"attributes\":{},\"id\":\"16b580ae-eaf1-4992-b8e1-369f3bfb3c49\",\"type\":\"UnionRenderers\"},{\"attributes\":{\"data_source\":{\"id\":\"38a6e5ca-7bad-4a8f-b3d0-2bdf4ae3b2e5\",\"type\":\"ColumnDataSource\"},\"glyph\":{\"id\":\"8af2dc18-15f9-4bf2-8060-73f8cb7bb0b7\",\"type\":\"Line\"},\"hover_glyph\":{\"id\":\"f7daa2a3-db85-4dc2-af1a-daed2e13d650\",\"type\":\"Line\"},\"muted_glyph\":null,\"name\":\"estimation inc. deaths_exponential\",\"nonselection_glyph\":{\"id\":\"3701e556-4ecd-463a-8994-15783eed83f2\",\"type\":\"Line\"},\"selection_glyph\":null,\"view\":{\"id\":\"bdf383a3-2775-402f-9b6f-0f341930acea\",\"type\":\"CDSView\"}},\"id\":\"df4b5909-8da9-4d11-8860-5ac2c4e4eb08\",\"type\":\"GlyphRenderer\"},{\"attributes\":{\"source\":{\"id\":\"e1dadbbd-4e78-4221-b752-955b49cf06ca\",\"type\":\"ColumnDataSource\"}},\"id\":\"35e42488-5b7b-42b3-83b6-62959e4f7166\",\"type\":\"CDSView\"},{\"attributes\":{\"data_source\":{\"id\":\"e1dadbbd-4e78-4221-b752-955b49cf06ca\",\"type\":\"ColumnDataSource\"},\"glyph\":{\"id\":\"48c36ad8-30da-410f-b8df-0d657b4d714a\",\"type\":\"Circle\"},\"hover_glyph\":{\"id\":\"f756ee84-6914-4097-8409-0167af226d9d\",\"type\":\"Circle\"},\"muted_glyph\":null,\"nonselection_glyph\":{\"id\":\"07b6c926-981f-4363-af87-431dde59b311\",\"type\":\"Circle\"},\"selection_glyph\":null,\"view\":{\"id\":\"35e42488-5b7b-42b3-83b6-62959e4f7166\",\"type\":\"CDSView\"}},\"id\":\"88f01299-0085-49da-a08e-9096b7d9984f\",\"type\":\"GlyphRenderer\"},{\"attributes\":{\"fill_color\":{\"value\":\"#1f77b4\"},\"line_alpha\":{\"value\":0.5},\"line_color\":{\"value\":\"#1f77b4\"},\"line_width\":{\"value\":2},\"x\":{\"field\":\"x\"},\"y\":{\"field\":\"cum_deaths_logistic\"}},\"id\":\"f756ee84-6914-4097-8409-0167af226d9d\",\"type\":\"Circle\"},{\"attributes\":{},\"id\":\"0b6141e1-6ec2-4e43-aab6-e0daa85b560b\",\"type\":\"UnionRenderers\"},{\"attributes\":{},\"id\":\"d7f48efa-c7d0-44be-8f37-55935f2e75cf\",\"type\":\"UnionRenderers\"},{\"attributes\":{},\"id\":\"288cfe76-ce88-4711-b414-a4b8b69f21d3\",\"type\":\"Selection\"},{\"attributes\":{\"fill_alpha\":{\"value\":0.5},\"fill_color\":{\"value\":\"red\"},\"line_alpha\":{\"value\":0.5},\"line_color\":{\"value\":\"red\"},\"line_width\":{\"value\":2},\"x\":{\"field\":\"x\"},\"y\":{\"field\":\"cum_deaths\"}},\"id\":\"fc9d49a4-57a3-4572-8902-60e4de357ddd\",\"type\":\"Circle\"},{\"attributes\":{\"label\":{\"value\":\"estimation cum. deaths_logistic_prior\"},\"renderers\":[{\"id\":\"65d52243-95c4-4274-a95e-90ea31ed6437\",\"type\":\"GlyphRenderer\"},{\"id\":\"d6473d84-76e8-4415-81a0-7b1ed30fa280\",\"type\":\"GlyphRenderer\"}]},\"id\":\"0b946f25-6cb9-479c-ba3a-1023bb55ba6b\",\"type\":\"LegendItem\"},{\"attributes\":{\"data_source\":{\"id\":\"0d98843c-c60c-4949-b183-7e75f44ceff8\",\"type\":\"ColumnDataSource\"},\"glyph\":{\"id\":\"2d2f84d6-94e1-4316-8d87-88e15f878c9d\",\"type\":\"Circle\"},\"hover_glyph\":{\"id\":\"156d03bf-f1cf-4815-b185-55f24ff7d357\",\"type\":\"Circle\"},\"muted_glyph\":null,\"nonselection_glyph\":{\"id\":\"a561d3e2-a3f7-42a1-a6f9-bcaafd5db300\",\"type\":\"Circle\"},\"selection_glyph\":null,\"view\":{\"id\":\"84eb200e-154a-42e9-a69b-a3a999a04aa0\",\"type\":\"CDSView\"}},\"id\":\"d0a54338-8942-4922-873f-336175f2e341\",\"type\":\"GlyphRenderer\"},{\"attributes\":{\"line_alpha\":0.5,\"line_color\":\"#1f77b4\",\"line_dash\":[6],\"line_width\":2,\"x\":{\"field\":\"x\"},\"y\":{\"field\":\"cum_deaths_exponential\"}},\"id\":\"61d89d6d-050f-4181-93a9-377d372c55da\",\"type\":\"Line\"},{\"attributes\":{\"data_source\":{\"id\":\"6461106d-2dec-455d-a4ef-cbffbd738716\",\"type\":\"ColumnDataSource\"},\"glyph\":{\"id\":\"f15f7e73-3129-4023-b717-09a772fb55ef\",\"type\":\"Line\"},\"hover_glyph\":{\"id\":\"7e9aeb26-c626-4098-a894-ec3adc176190\",\"type\":\"Line\"},\"muted_glyph\":null,\"name\":\"estimation cum. deaths_logistic_prior\",\"nonselection_glyph\":{\"id\":\"2f960681-201d-4778-a79c-f817d41a4ad3\",\"type\":\"Line\"},\"selection_glyph\":null,\"view\":{\"id\":\"f33ab71c-be7a-4b18-8a14-7a20a10ce141\",\"type\":\"CDSView\"}},\"id\":\"65d52243-95c4-4274-a95e-90ea31ed6437\",\"type\":\"GlyphRenderer\"},{\"attributes\":{\"fill_alpha\":{\"value\":0.1},\"fill_color\":{\"value\":\"#1f77b4\"},\"line_alpha\":{\"value\":0.1},\"line_color\":{\"value\":\"#1f77b4\"},\"line_width\":{\"value\":2},\"x\":{\"field\":\"x\"},\"y\":{\"field\":\"deaths_logistic_prior\"}},\"id\":\"a561d3e2-a3f7-42a1-a6f9-bcaafd5db300\",\"type\":\"Circle\"},{\"attributes\":{\"data_source\":{\"id\":\"081b2243-d7f8-4b28-9049-6879e0f886b2\",\"type\":\"ColumnDataSource\"},\"glyph\":{\"id\":\"7a1fb16c-1fb5-48c4-b25a-fee2cba19199\",\"type\":\"Circle\"},\"hover_glyph\":{\"id\":\"2282370c-cf85-47bb-8460-d902ebcef305\",\"type\":\"Circle\"},\"muted_glyph\":null,\"nonselection_glyph\":{\"id\":\"c4015f9d-89b7-4e34-bd95-ef61ee92c8df\",\"type\":\"Circle\"},\"selection_glyph\":null,\"view\":{\"id\":\"54c47a1c-9b04-494d-8e97-5b83a56e6fad\",\"type\":\"CDSView\"}},\"id\":\"03410861-189d-4ddd-bb98-c138a4320fa5\",\"type\":\"GlyphRenderer\"},{\"attributes\":{\"line_alpha\":0.5,\"line_color\":\"green\",\"line_dash\":[2,4],\"line_width\":2,\"x\":{\"field\":\"x\"},\"y\":{\"field\":\"cum_deaths_logistic_prior\"}},\"id\":\"f15f7e73-3129-4023-b717-09a772fb55ef\",\"type\":\"Line\"},{\"attributes\":{\"line_alpha\":0.5,\"line_color\":\"#1f77b4\",\"line_dash\":[2,4],\"line_width\":2,\"x\":{\"field\":\"x\"},\"y\":{\"field\":\"cum_deaths_logistic_prior\"}},\"id\":\"7e9aeb26-c626-4098-a894-ec3adc176190\",\"type\":\"Line\"},{\"attributes\":{\"fill_alpha\":{\"value\":0.1},\"fill_color\":{\"value\":\"#1f77b4\"},\"line_alpha\":{\"value\":0.1},\"line_color\":{\"value\":\"#1f77b4\"},\"line_width\":{\"value\":2},\"x\":{\"field\":\"x\"},\"y\":{\"field\":\"cum_deaths_logistic_prior\"}},\"id\":\"acbc7795-c7a2-4798-9a74-6d3ca82716cc\",\"type\":\"Circle\"},{\"attributes\":{\"callback\":null,\"formatters\":{\"$x\":\"datetime\"},\"names\":[\"estimation inc. deaths_logistic_prior\",\"estimation cum. deaths_logistic_prior\"],\"renderers\":\"auto\",\"show_arrow\":false,\"tooltips\":[[\"date\",\"$x{%F}\"],[\"estimation inc. deaths_logistic_prior\",\"@deaths_logistic_prior{0,0}\"],[\"estimation cum. deaths_logistic_prior\",\"@cum_deaths_logistic_prior{0,0}\"]]},\"id\":\"f25e6584-b219-4d80-8b02-c7934c4cfb25\",\"type\":\"HoverTool\"},{\"attributes\":{\"fill_alpha\":{\"value\":0.5},\"fill_color\":{\"value\":\"green\"},\"line_alpha\":{\"value\":0.5},\"line_color\":{\"value\":\"green\"},\"line_width\":{\"value\":2},\"x\":{\"field\":\"x\"},\"y\":{\"field\":\"deaths_logistic_prior\"}},\"id\":\"2d2f84d6-94e1-4316-8d87-88e15f878c9d\",\"type\":\"Circle\"},{\"attributes\":{\"line_alpha\":0.5,\"line_color\":\"#1f77b4\",\"line_dash\":[2,4],\"line_width\":2,\"x\":{\"field\":\"x\"},\"y\":{\"field\":\"deaths_logistic_prior\"}},\"id\":\"56c4f7fc-43c9-414a-abd8-6694ccd5bf15\",\"type\":\"Line\"},{\"attributes\":{\"fill_color\":{\"value\":\"#1f77b4\"},\"line_alpha\":{\"value\":0.5},\"line_color\":{\"value\":\"#1f77b4\"},\"line_width\":{\"value\":2},\"x\":{\"field\":\"x\"},\"y\":{\"field\":\"deaths_logistic_prior\"}},\"id\":\"156d03bf-f1cf-4815-b185-55f24ff7d357\",\"type\":\"Circle\"},{\"attributes\":{\"line_alpha\":0.1,\"line_color\":\"#1f77b4\",\"line_dash\":[2,4],\"line_width\":2,\"x\":{\"field\":\"x\"},\"y\":{\"field\":\"cum_deaths_logistic_prior\"}},\"id\":\"2f960681-201d-4778-a79c-f817d41a4ad3\",\"type\":\"Line\"},{\"attributes\":{\"fill_alpha\":{\"value\":0.5},\"fill_color\":{\"value\":\"orange\"},\"line_alpha\":{\"value\":0.5},\"line_color\":{\"value\":\"orange\"},\"line_width\":{\"value\":2},\"x\":{\"field\":\"x\"},\"y\":{\"field\":\"cum_deaths_exponential\"}},\"id\":\"7a1fb16c-1fb5-48c4-b25a-fee2cba19199\",\"type\":\"Circle\"},{\"attributes\":{\"data_source\":{\"id\":\"0d98843c-c60c-4949-b183-7e75f44ceff8\",\"type\":\"ColumnDataSource\"},\"glyph\":{\"id\":\"2c5472d7-aca1-4488-89ab-25bebb24afe6\",\"type\":\"Circle\"},\"hover_glyph\":{\"id\":\"0f428f69-b073-4258-a6cf-fd2bab172a7a\",\"type\":\"Circle\"},\"muted_glyph\":null,\"nonselection_glyph\":{\"id\":\"acbc7795-c7a2-4798-9a74-6d3ca82716cc\",\"type\":\"Circle\"},\"selection_glyph\":null,\"view\":{\"id\":\"998b2c32-2348-47dc-9bde-04f0f7c86115\",\"type\":\"CDSView\"}},\"id\":\"d6473d84-76e8-4415-81a0-7b1ed30fa280\",\"type\":\"GlyphRenderer\"},{\"attributes\":{\"source\":{\"id\":\"6461106d-2dec-455d-a4ef-cbffbd738716\",\"type\":\"ColumnDataSource\"}},\"id\":\"9a4431d5-9b83-4303-bbd5-754a6224f3c9\",\"type\":\"CDSView\"},{\"attributes\":{\"source\":{\"id\":\"0d98843c-c60c-4949-b183-7e75f44ceff8\",\"type\":\"ColumnDataSource\"}},\"id\":\"998b2c32-2348-47dc-9bde-04f0f7c86115\",\"type\":\"CDSView\"},{\"attributes\":{\"line_alpha\":0.1,\"line_color\":\"#1f77b4\",\"line_dash\":[2,4],\"line_width\":2,\"x\":{\"field\":\"x\"},\"y\":{\"field\":\"deaths_logistic_prior\"}},\"id\":\"378ece44-5596-4603-a612-4feb670210eb\",\"type\":\"Line\"},{\"attributes\":{\"line_alpha\":0.5,\"line_color\":\"green\",\"line_dash\":[2,4],\"line_width\":2,\"x\":{\"field\":\"x\"},\"y\":{\"field\":\"deaths_logistic_prior\"}},\"id\":\"3b8f0a97-5a92-4266-b623-6f4542872af6\",\"type\":\"Line\"},{\"attributes\":{\"label\":{\"value\":\"estimation cum. deaths_logistic\"},\"renderers\":[{\"id\":\"783193f7-218d-48ef-8c6c-efdd442af27f\",\"type\":\"GlyphRenderer\"},{\"id\":\"88f01299-0085-49da-a08e-9096b7d9984f\",\"type\":\"GlyphRenderer\"}]},\"id\":\"8b6acff0-cc68-47e4-a9ab-1bfe87bbc01a\",\"type\":\"LegendItem\"},{\"attributes\":{\"callback\":null,\"formatters\":{\"$x\":\"datetime\"},\"names\":[\"estimation inc. deaths_logistic\",\"estimation cum. deaths_logistic\"],\"renderers\":\"auto\",\"show_arrow\":false,\"tooltips\":[[\"date\",\"$x{%F}\"],[\"estimation inc. deaths_logistic\",\"@deaths_logistic{0,0}\"],[\"estimation cum. deaths_logistic\",\"@cum_deaths_logistic{0,0}\"]]},\"id\":\"2171fcd1-afca-47ab-b7b6-8e0a6922d319\",\"type\":\"HoverTool\"},{\"attributes\":{},\"id\":\"80dcdece-90b5-4933-ae0a-72b07c5ff592\",\"type\":\"UnionRenderers\"},{\"attributes\":{\"data_source\":{\"id\":\"6461106d-2dec-455d-a4ef-cbffbd738716\",\"type\":\"ColumnDataSource\"},\"glyph\":{\"id\":\"3b8f0a97-5a92-4266-b623-6f4542872af6\",\"type\":\"Line\"},\"hover_glyph\":{\"id\":\"56c4f7fc-43c9-414a-abd8-6694ccd5bf15\",\"type\":\"Line\"},\"muted_glyph\":null,\"name\":\"estimation inc. deaths_logistic_prior\",\"nonselection_glyph\":{\"id\":\"378ece44-5596-4603-a612-4feb670210eb\",\"type\":\"Line\"},\"selection_glyph\":null,\"view\":{\"id\":\"9a4431d5-9b83-4303-bbd5-754a6224f3c9\",\"type\":\"CDSView\"}},\"id\":\"60887f96-f938-48be-864c-bf45e9169318\",\"type\":\"GlyphRenderer\"},{\"attributes\":{\"days\":[\"%Y-%m-%d\"],\"months\":[\"%Y-%m-%d\"],\"years\":[\"%Y-%m-%d\"]},\"id\":\"fc4a1c09-5528-4eb9-ab71-2b6acf05e834\",\"type\":\"DatetimeTickFormatter\"},{\"attributes\":{\"line_alpha\":0.5,\"line_color\":\"#1f77b4\",\"line_dash\":[6],\"line_width\":2,\"x\":{\"field\":\"x\"},\"y\":{\"field\":\"deaths_exponential\"}},\"id\":\"f7daa2a3-db85-4dc2-af1a-daed2e13d650\",\"type\":\"Line\"},{\"attributes\":{\"line_alpha\":0.5,\"line_color\":\"#1f77b4\",\"line_dash\":[6],\"line_width\":2,\"x\":{\"field\":\"x\"},\"y\":{\"field\":\"cum_deaths_logistic\"}},\"id\":\"5fb4a7b5-f9f8-460b-924d-3afaf4d81e6a\",\"type\":\"Line\"},{\"attributes\":{},\"id\":\"608a21ae-73ee-4530-8b21-86ce43f95bba\",\"type\":\"BasicTicker\"},{\"attributes\":{\"source\":{\"id\":\"6461106d-2dec-455d-a4ef-cbffbd738716\",\"type\":\"ColumnDataSource\"}},\"id\":\"f33ab71c-be7a-4b18-8a14-7a20a10ce141\",\"type\":\"CDSView\"},{\"attributes\":{\"source\":{\"id\":\"642bb426-ab87-405c-87bd-cc271705aa59\",\"type\":\"ColumnDataSource\"}},\"id\":\"2cc29411-48dd-489c-9e81-c5e5c8d9f76d\",\"type\":\"CDSView\"},{\"attributes\":{\"callback\":null,\"data\":{\"cum_deaths\":{\"__ndarray__\":\"AAAAAAAAAAAAAAAAAAAAAAAAAAAAAAAAAAAAAAAAAAAAAAAAAAAAAAAAAAAAAAAAAAAAAAAAAAAAAAAAAAAAAAAAAAAAAABAAAAAAAAAAEAAAAAAAAAIQAAAAAAAAAhAAAAAAAAAHEAAAAAAAAAiQAAAAAAAACZAAAAAAAAAMUAAAAAAAAA4QAAAAAAAADxAAAAAAAAARkAAAAAAAMBQQAAAAAAAAFVAAAAAAACAV0AAAAAAAMBeQAAAAAAAoGNAAAAAAADAaUAAAAAAALBwQAAAAAAAYHVAAAAAAAAQe0AAAAAAAKiAQAAAAAAAKIRAAAAAAAA4iEAAAAAAAMCMQAAAAAAAAPh/AAAAAAAA+H8AAAAAAAD4fw==\",\"dtype\":\"float64\",\"shape\":[35]},\"deaths\":{\"__ndarray__\":\"AAAAAAAAAAAAAAAAAAAAAAAAAAAAAAAAAAAAAAAAAAAAAAAAAAAAAAAAAAAAAAAAAAAAAAAAAAAAAAAAAAAAAAAAAAAAAABAAAAAAAAAAAAAAAAAAADwPwAAAAAAAAAAAAAAAAAAEEAAAAAAAAAAQAAAAAAAAABAAAAAAAAAGEAAAAAAAAAcQAAAAAAAABBAAAAAAAAAMEAAAAAAAAA3QAAAAAAAADFAAAAAAAAAJEAAAAAAAAA9QAAAAAAAAEFAAAAAAACASEAAAAAAAIBOQAAAAAAAwFJAAAAAAADAVkAAAAAAAABZQAAAAAAAAFxAAAAAAABAYEAAAAAAACBiQAAAAAAAAPh/AAAAAAAA+H8AAAAAAAD4fw==\",\"dtype\":\"float64\",\"shape\":[35]},\"x\":{\"__ndarray__\":\"AACARzYJd0IAAECtiAl3QgAAABPbCXdCAADAeC0Kd0IAAIDefwp3QgAAQETSCndCAAAAqiQLd0IAAMAPdwt3QgAAgHXJC3dCAABA2xsMd0IAAABBbgx3QgAAwKbADHdCAACADBMNd0IAAEByZQ13QgAAANi3DXdCAADAPQoOd0IAAICjXA53QgAAQAmvDndCAAAAbwEPd0IAAMDUUw93QgAAgDqmD3dCAABAoPgPd0IAAAAGSxB3QgAAwGudEHdCAACA0e8Qd0IAAEA3QhF3QgAAAJ2UEXdCAADAAucRd0IAAIBoORJ3QgAAQM6LEndCAAAANN4Sd0IAAMCZMBN3QgAAgP+CE3dCAABAZdUTd0IAAADLJxR3Qg==\",\"dtype\":\"float64\",\"shape\":[35]}},\"selected\":{\"id\":\"bea410bf-6f3b-49bb-a15e-bf519156eedc\",\"type\":\"Selection\"},\"selection_policy\":{\"id\":\"17620f45-58c8-48bb-ab0d-419441405d61\",\"type\":\"UnionRenderers\"}},\"id\":\"112ec24c-f203-48fd-9d44-88696a1de94d\",\"type\":\"ColumnDataSource\"},{\"attributes\":{\"callback\":null,\"data\":{\"cum_deaths_exponential\":{\"__ndarray__\":\"AAAAAAAA+H8AAAAAAAD4fwAAAAAAAPh/AAAAAAAA+H8AAAAAAAD4fwAAAAAAAPh/AAAAAAAA+H8AAAAAAAD4fwAAAAAAAPh/AAAAAAAA+H8AAAAAAAD4fwAAAAAAAPh/AAAAAAAA+H8AAAAAAAD4fwAAAAAAAPh/AAAAAAAA+H8AAAAAAAD4fwAAAAAAAPh/AAAAAAAA+H8AAAAAAAD4fwAAAAAAAPh/AAAAAAAA+H8AAAAAAAD4fwAAAAAAAPh/AAAAAAAA+H8AAAAAAAByQAAAAAAA8HVAAAAAAACgekAAAAAAADiAQAAAAAAAuINAAAAAAAAAiEAAAAAAADCNQAAAAAAAwJFAAAAAAACYlUAAAAAAAESaQA==\",\"dtype\":\"float64\",\"shape\":[35]},\"deaths_exponential\":{\"__ndarray__\":\"AAAAAAAA+H8AAAAAAAD4fwAAAAAAAPh/AAAAAAAA+H8AAAAAAAD4fwAAAAAAAPh/AAAAAAAA+H8AAAAAAAD4fwAAAAAAAPh/AAAAAAAA+H8AAAAAAAD4fwAAAAAAAPh/AAAAAAAA+H8AAAAAAAD4fwAAAAAAAPh/AAAAAAAA+H8AAAAAAAD4fwAAAAAAAPh/AAAAAAAA+H8AAAAAAAD4fwAAAAAAAPh/AAAAAAAA+H8AAAAAAAD4fwAAAAAAAPh/AAAAAAAA+H8AAAAAAAD4fwAAAAAAgE9AAAAAAADAUkAAAAAAAEBXQAAAAAAAAFxAAAAAAAAgYUAAAAAAAMBkQAAAAAAAQGlAAAAAAADAbkAAAAAAALByQA==\",\"dtype\":\"float64\",\"shape\":[35]},\"x\":{\"__ndarray__\":\"AACARzYJd0IAAECtiAl3QgAAABPbCXdCAADAeC0Kd0IAAIDefwp3QgAAQETSCndCAAAAqiQLd0IAAMAPdwt3QgAAgHXJC3dCAABA2xsMd0IAAABBbgx3QgAAwKbADHdCAACADBMNd0IAAEByZQ13QgAAANi3DXdCAADAPQoOd0IAAICjXA53QgAAQAmvDndCAAAAbwEPd0IAAMDUUw93QgAAgDqmD3dCAABAoPgPd0IAAAAGSxB3QgAAwGudEHdCAACA0e8Qd0IAAEA3QhF3QgAAAJ2UEXdCAADAAucRd0IAAIBoORJ3QgAAQM6LEndCAAAANN4Sd0IAAMCZMBN3QgAAgP+CE3dCAABAZdUTd0IAAADLJxR3Qg==\",\"dtype\":\"float64\",\"shape\":[35]}},\"selected\":{\"id\":\"47071264-787e-4dc7-8d6a-47afabc019ce\",\"type\":\"Selection\"},\"selection_policy\":{\"id\":\"0b6141e1-6ec2-4e43-aab6-e0daa85b560b\",\"type\":\"UnionRenderers\"}},\"id\":\"38a6e5ca-7bad-4a8f-b3d0-2bdf4ae3b2e5\",\"type\":\"ColumnDataSource\"},{\"attributes\":{\"fill_alpha\":{\"value\":0.5},\"fill_color\":{\"value\":\"red\"},\"line_alpha\":{\"value\":0.5},\"line_color\":{\"value\":\"red\"},\"line_width\":{\"value\":2},\"x\":{\"field\":\"x\"},\"y\":{\"field\":\"deaths\"}},\"id\":\"51287747-ebdb-4b12-b295-5210e9ef1ea2\",\"type\":\"Circle\"},{\"attributes\":{},\"id\":\"bea410bf-6f3b-49bb-a15e-bf519156eedc\",\"type\":\"Selection\"},{\"attributes\":{},\"id\":\"3d153c57-e92f-4ab8-b752-2037ec959373\",\"type\":\"Selection\"},{\"attributes\":{\"data_source\":{\"id\":\"91fc12c9-7d3a-4d5d-bc5d-2aae94633bde\",\"type\":\"ColumnDataSource\"},\"glyph\":{\"id\":\"4ee27e31-5340-4753-bdd0-9d5e6c0bda9a\",\"type\":\"Line\"},\"hover_glyph\":{\"id\":\"5fb4a7b5-f9f8-460b-924d-3afaf4d81e6a\",\"type\":\"Line\"},\"muted_glyph\":null,\"name\":\"estimation cum. deaths_logistic\",\"nonselection_glyph\":{\"id\":\"d6c928cc-1e03-471c-9580-e46fb77c327b\",\"type\":\"Line\"},\"selection_glyph\":null,\"view\":{\"id\":\"fb5eaf40-0ce4-4e61-880f-2c78755dd53e\",\"type\":\"CDSView\"}},\"id\":\"783193f7-218d-48ef-8c6c-efdd442af27f\",\"type\":\"GlyphRenderer\"},{\"attributes\":{\"data_source\":{\"id\":\"642bb426-ab87-405c-87bd-cc271705aa59\",\"type\":\"ColumnDataSource\"},\"glyph\":{\"id\":\"fc9d49a4-57a3-4572-8902-60e4de357ddd\",\"type\":\"Circle\"},\"hover_glyph\":{\"id\":\"f7ef2898-7d2e-4e10-88f7-eefe19a2a039\",\"type\":\"Circle\"},\"muted_glyph\":null,\"nonselection_glyph\":{\"id\":\"14fa1df9-3211-4088-96e8-eb5f3235e852\",\"type\":\"Circle\"},\"selection_glyph\":null,\"view\":{\"id\":\"5c8a2ed3-581d-4f13-b167-3ee85872215f\",\"type\":\"CDSView\"}},\"id\":\"38f10c2a-4186-49fe-9663-1f40fc0b2168\",\"type\":\"GlyphRenderer\"},{\"attributes\":{\"label\":{\"value\":\"estimation inc. deaths_logistic_prior\"},\"renderers\":[{\"id\":\"60887f96-f938-48be-864c-bf45e9169318\",\"type\":\"GlyphRenderer\"},{\"id\":\"d0a54338-8942-4922-873f-336175f2e341\",\"type\":\"GlyphRenderer\"}]},\"id\":\"299e670d-dfb8-4be1-af23-49b6d39f214b\",\"type\":\"LegendItem\"},{\"attributes\":{},\"id\":\"cabbb40f-051f-41e2-af86-f3af777d12ff\",\"type\":\"UnionRenderers\"},{\"attributes\":{\"dimension\":1,\"plot\":{\"id\":\"5bb63d92-0ff9-4fb2-b709-66ff4f6f2e3b\",\"subtype\":\"Figure\",\"type\":\"Plot\"},\"ticker\":{\"id\":\"608a21ae-73ee-4530-8b21-86ce43f95bba\",\"type\":\"BasicTicker\"}},\"id\":\"23e3f94c-5604-4f77-ba5d-2d685b7af6ce\",\"type\":\"Grid\"},{\"attributes\":{\"data_source\":{\"id\":\"642bb426-ab87-405c-87bd-cc271705aa59\",\"type\":\"ColumnDataSource\"},\"glyph\":{\"id\":\"51287747-ebdb-4b12-b295-5210e9ef1ea2\",\"type\":\"Circle\"},\"hover_glyph\":{\"id\":\"2d96856c-a33c-4ec2-9a26-f8b929273f7c\",\"type\":\"Circle\"},\"muted_glyph\":null,\"nonselection_glyph\":{\"id\":\"4b06334b-c0aa-496c-8361-f23858129f6d\",\"type\":\"Circle\"},\"selection_glyph\":null,\"view\":{\"id\":\"2cc29411-48dd-489c-9e81-c5e5c8d9f76d\",\"type\":\"CDSView\"}},\"id\":\"192d6e39-6053-4768-b0e4-a4d6bcbc2b64\",\"type\":\"GlyphRenderer\"},{\"attributes\":{\"num_minor_ticks\":5,\"tickers\":[{\"id\":\"d9e56c0e-880c-43c6-a300-6e83f8db0de6\",\"type\":\"AdaptiveTicker\"},{\"id\":\"e912ee6d-1b52-4480-b560-5b352371211e\",\"type\":\"AdaptiveTicker\"},{\"id\":\"6abc799f-b667-4554-bcbf-3a92955d5ade\",\"type\":\"AdaptiveTicker\"},{\"id\":\"846565c8-0a46-4d4a-b663-e4f57837c31e\",\"type\":\"DaysTicker\"},{\"id\":\"b3bf159a-83f6-4b97-9555-c3f5aed66bf7\",\"type\":\"DaysTicker\"},{\"id\":\"29613fa5-985a-4af0-ba25-fe1f84a1395a\",\"type\":\"DaysTicker\"},{\"id\":\"bed10183-9ed0-4723-a731-a49b19cf0526\",\"type\":\"DaysTicker\"},{\"id\":\"38eaf1c9-f946-426a-8a3d-029c4d636a78\",\"type\":\"MonthsTicker\"},{\"id\":\"26bb0efd-bb64-40f8-9d4d-225ad77a8393\",\"type\":\"MonthsTicker\"},{\"id\":\"7583b288-82fa-44a8-bac8-27462decec22\",\"type\":\"MonthsTicker\"},{\"id\":\"65a4e144-b520-42c0-af85-510b3fc85c01\",\"type\":\"MonthsTicker\"},{\"id\":\"3ce9fde0-6535-4121-9651-aaf7b22c5bc4\",\"type\":\"YearsTicker\"}]},\"id\":\"7089598b-b917-4f2c-a396-7968eca827bc\",\"type\":\"DatetimeTicker\"},{\"attributes\":{\"fill_color\":{\"value\":\"#1f77b4\"},\"line_alpha\":{\"value\":0.5},\"line_color\":{\"value\":\"#1f77b4\"},\"line_width\":{\"value\":2},\"x\":{\"field\":\"x\"},\"y\":{\"field\":\"deaths\"}},\"id\":\"2d96856c-a33c-4ec2-9a26-f8b929273f7c\",\"type\":\"Circle\"},{\"attributes\":{\"line_alpha\":0.1,\"line_color\":\"#1f77b4\",\"line_dash\":[6],\"line_width\":2,\"x\":{\"field\":\"x\"},\"y\":{\"field\":\"cum_deaths_logistic\"}},\"id\":\"d6c928cc-1e03-471c-9580-e46fb77c327b\",\"type\":\"Line\"},{\"attributes\":{\"label\":{\"value\":\"estimation cum. deaths_exponential_prior\"},\"renderers\":[{\"id\":\"ef9669e4-f80c-44bb-b2b8-e644a4af0568\",\"type\":\"GlyphRenderer\"},{\"id\":\"b65d7909-22ed-4259-ab19-5460c3deec77\",\"type\":\"GlyphRenderer\"}]},\"id\":\"8efc1fc8-bd70-45ac-893e-ba3a8941226c\",\"type\":\"LegendItem\"},{\"attributes\":{\"callback\":null,\"data\":{\"cum_deaths_logistic_prior\":{\"__ndarray__\":\"AAAAAAAA+H8AAAAAAAD4fwAAAAAAAPh/AAAAAAAA+H8AAAAAAAD4fwAAAAAAAPh/AAAAAAAA+H8AAAAAAAD4fwAAAAAAAPh/AAAAAAAA+H8AAAAAAAD4fwAAAAAAAPh/AAAAAAAA+H8AAAAAAAD4fwAAAAAAAPh/AAAAAAAA+H8AAAAAAAD4fwAAAAAAAPh/AAAAAAAA+H8AAAAAAAD4fwAAAAAAAPh/AAAAAAAA+H8AAAAAAABeQAAAAAAAwGNAAAAAAADAaUAAAAAAALBwQAAAAAAAYHVAAAAAAADwekAAAAAAAKiAQAAAAAAAQIRAAAAAAAAYiEAAAAAAABCMQAAAAAAA8I9AAAAAAADMkUAAAAAAAHSTQA==\",\"dtype\":\"float64\",\"shape\":[35]},\"deaths_logistic_prior\":{\"__ndarray__\":\"AAAAAAAA+H8AAAAAAAD4fwAAAAAAAPh/AAAAAAAA+H8AAAAAAAD4fwAAAAAAAPh/AAAAAAAA+H8AAAAAAAD4fwAAAAAAAPh/AAAAAAAA+H8AAAAAAAD4fwAAAAAAAPh/AAAAAAAA+H8AAAAAAAD4fwAAAAAAAPh/AAAAAAAA+H8AAAAAAAD4fwAAAAAAAPh/AAAAAAAA+H8AAAAAAAD4fwAAAAAAAPh/AAAAAAAA+H8AAAAAAAD4fwAAAAAAAENAAAAAAAAASEAAAAAAAIBOQAAAAAAAwFJAAAAAAABAVkAAAAAAAIBZQAAAAAAAwFxAAAAAAADAXkAAAAAAAMBfQAAAAAAAAF9AAAAAAABAXUAAAAAAAIBaQA==\",\"dtype\":\"float64\",\"shape\":[35]},\"x\":{\"__ndarray__\":\"AACARzYJd0IAAECtiAl3QgAAABPbCXdCAADAeC0Kd0IAAIDefwp3QgAAQETSCndCAAAAqiQLd0IAAMAPdwt3QgAAgHXJC3dCAABA2xsMd0IAAABBbgx3QgAAwKbADHdCAACADBMNd0IAAEByZQ13QgAAANi3DXdCAADAPQoOd0IAAICjXA53QgAAQAmvDndCAAAAbwEPd0IAAMDUUw93QgAAgDqmD3dCAABAoPgPd0IAAAAGSxB3QgAAwGudEHdCAACA0e8Qd0IAAEA3QhF3QgAAAJ2UEXdCAADAAucRd0IAAIBoORJ3QgAAQM6LEndCAAAANN4Sd0IAAMCZMBN3QgAAgP+CE3dCAABAZdUTd0IAAADLJxR3Qg==\",\"dtype\":\"float64\",\"shape\":[35]}},\"selected\":{\"id\":\"017b0dcb-1ee3-4733-a948-8667f992234b\",\"type\":\"Selection\"},\"selection_policy\":{\"id\":\"d7f48efa-c7d0-44be-8f37-55935f2e75cf\",\"type\":\"UnionRenderers\"}},\"id\":\"6461106d-2dec-455d-a4ef-cbffbd738716\",\"type\":\"ColumnDataSource\"},{\"attributes\":{},\"id\":\"45cec9de-f12b-4768-a31c-f9c2a6654dee\",\"type\":\"UnionRenderers\"},{\"attributes\":{\"label\":{\"value\":\"reported cum. deaths\"},\"renderers\":[{\"id\":\"a559283d-68ca-4ffa-b0c8-0217e630ceac\",\"type\":\"GlyphRenderer\"},{\"id\":\"38f10c2a-4186-49fe-9663-1f40fc0b2168\",\"type\":\"GlyphRenderer\"}]},\"id\":\"081f53df-bf8b-42e1-8f6b-a0da498a1834\",\"type\":\"LegendItem\"},{\"attributes\":{\"callback\":null,\"formatters\":{\"$x\":\"datetime\"},\"names\":[\"estimation inc. deaths_exponential_prior\",\"estimation cum. deaths_exponential_prior\"],\"renderers\":\"auto\",\"show_arrow\":false,\"tooltips\":[[\"date\",\"$x{%F}\"],[\"estimation inc. deaths_exponential_prior\",\"@deaths_exponential_prior{0,0}\"],[\"estimation cum. deaths_exponential_prior\",\"@cum_deaths_exponential_prior{0,0}\"]]},\"id\":\"a894e327-36aa-4118-94cc-581d23e9d28c\",\"type\":\"HoverTool\"},{\"attributes\":{\"fill_alpha\":{\"value\":0.5},\"fill_color\":{\"value\":\"green\"},\"line_alpha\":{\"value\":0.5},\"line_color\":{\"value\":\"green\"},\"line_width\":{\"value\":2},\"x\":{\"field\":\"x\"},\"y\":{\"field\":\"cum_deaths_logistic_prior\"}},\"id\":\"2c5472d7-aca1-4488-89ab-25bebb24afe6\",\"type\":\"Circle\"},{\"attributes\":{\"line_alpha\":0.5,\"line_color\":\"green\",\"line_dash\":[6],\"line_width\":2,\"x\":{\"field\":\"x\"},\"y\":{\"field\":\"deaths_logistic\"}},\"id\":\"91986b94-86b1-4144-b9d5-ff72a9911513\",\"type\":\"Line\"},{\"attributes\":{\"source\":{\"id\":\"413eabec-678b-49c4-b1fc-3ca7608e0eef\",\"type\":\"ColumnDataSource\"}},\"id\":\"68e0ee0b-e901-48da-86d8-e9955884bdfb\",\"type\":\"CDSView\"},{\"attributes\":{},\"id\":\"777c25d1-fd65-44cb-9a97-89ce2eed04b8\",\"type\":\"Selection\"},{\"attributes\":{\"callback\":null,\"data\":{\"cum_deaths_logistic\":{\"__ndarray__\":\"AAAAAAAA+H8AAAAAAAD4fwAAAAAAAPh/AAAAAAAA+H8AAAAAAAD4fwAAAAAAAPh/AAAAAAAA+H8AAAAAAAD4fwAAAAAAAPh/AAAAAAAA+H8AAAAAAAD4fwAAAAAAAPh/AAAAAAAA+H8AAAAAAAD4fwAAAAAAAPh/AAAAAAAA+H8AAAAAAAD4fwAAAAAAAPh/AAAAAAAA+H8AAAAAAAD4fwAAAAAAAPh/AAAAAAAA+H8AAAAAAAD4fwAAAAAAAPh/AAAAAAAA+H8AAAAAAOBwQAAAAAAAYHVAAAAAAADAekAAAAAAAJCAQAAAAAAAOIRAAAAAAABIiEAAAAAAALCMQAAAAAAAnJBAAAAAAADkkkAAAAAAABSVQA==\",\"dtype\":\"float64\",\"shape\":[35]},\"deaths_logistic\":{\"__ndarray__\":\"AAAAAAAA+H8AAAAAAAD4fwAAAAAAAPh/AAAAAAAA+H8AAAAAAAD4fwAAAAAAAPh/AAAAAAAA+H8AAAAAAAD4fwAAAAAAAPh/AAAAAAAA+H8AAAAAAAD4fwAAAAAAAPh/AAAAAAAA+H8AAAAAAAD4fwAAAAAAAPh/AAAAAAAA+H8AAAAAAAD4fwAAAAAAAPh/AAAAAAAA+H8AAAAAAAD4fwAAAAAAAPh/AAAAAAAA+H8AAAAAAAD4fwAAAAAAAPh/AAAAAAAA+H8AAAAAAAD4fwAAAAAAAFJAAAAAAACAVUAAAAAAAIBZQAAAAAAAQF1AAAAAAABAYEAAAAAAAKBhQAAAAAAAIGJAAAAAAABAYkAAAAAAAIBhQA==\",\"dtype\":\"float64\",\"shape\":[35]},\"x\":{\"__ndarray__\":\"AACARzYJd0IAAECtiAl3QgAAABPbCXdCAADAeC0Kd0IAAIDefwp3QgAAQETSCndCAAAAqiQLd0IAAMAPdwt3QgAAgHXJC3dCAABA2xsMd0IAAABBbgx3QgAAwKbADHdCAACADBMNd0IAAEByZQ13QgAAANi3DXdCAADAPQoOd0IAAICjXA53QgAAQAmvDndCAAAAbwEPd0IAAMDUUw93QgAAgDqmD3dCAABAoPgPd0IAAAAGSxB3QgAAwGudEHdCAACA0e8Qd0IAAEA3QhF3QgAAAJ2UEXdCAADAAucRd0IAAIBoORJ3QgAAQM6LEndCAAAANN4Sd0IAAMCZMBN3QgAAgP+CE3dCAABAZdUTd0IAAADLJxR3Qg==\",\"dtype\":\"float64\",\"shape\":[35]}},\"selected\":{\"id\":\"3d153c57-e92f-4ab8-b752-2037ec959373\",\"type\":\"Selection\"},\"selection_policy\":{\"id\":\"45cec9de-f12b-4768-a31c-f9c2a6654dee\",\"type\":\"UnionRenderers\"}},\"id\":\"91fc12c9-7d3a-4d5d-bc5d-2aae94633bde\",\"type\":\"ColumnDataSource\"},{\"attributes\":{\"fill_color\":{\"value\":\"#1f77b4\"},\"line_alpha\":{\"value\":0.5},\"line_color\":{\"value\":\"#1f77b4\"},\"line_width\":{\"value\":2},\"x\":{\"field\":\"x\"},\"y\":{\"field\":\"cum_deaths_exponential\"}},\"id\":\"2282370c-cf85-47bb-8460-d902ebcef305\",\"type\":\"Circle\"},{\"attributes\":{\"fill_alpha\":{\"value\":0.1},\"fill_color\":{\"value\":\"#1f77b4\"},\"line_alpha\":{\"value\":0.1},\"line_color\":{\"value\":\"#1f77b4\"},\"line_width\":{\"value\":2},\"x\":{\"field\":\"x\"},\"y\":{\"field\":\"deaths\"}},\"id\":\"4b06334b-c0aa-496c-8361-f23858129f6d\",\"type\":\"Circle\"},{\"attributes\":{\"fill_alpha\":{\"value\":0.5},\"fill_color\":{\"value\":\"green\"},\"line_alpha\":{\"value\":0.5},\"line_color\":{\"value\":\"green\"},\"line_width\":{\"value\":2},\"x\":{\"field\":\"x\"},\"y\":{\"field\":\"deaths_logistic\"}},\"id\":\"2f2e87a0-aee9-4e8e-b936-ac4448ce8d05\",\"type\":\"Circle\"},{\"attributes\":{\"data_source\":{\"id\":\"413eabec-678b-49c4-b1fc-3ca7608e0eef\",\"type\":\"ColumnDataSource\"},\"glyph\":{\"id\":\"2ed6e6db-a67e-4978-a577-3999fbe00441\",\"type\":\"Line\"},\"hover_glyph\":{\"id\":\"5654c650-3822-44c5-8def-acab27bee1bd\",\"type\":\"Line\"},\"muted_glyph\":null,\"name\":\"estimation cum. deaths_exponential_prior\",\"nonselection_glyph\":{\"id\":\"97ffbdc7-2e33-4791-baf9-ab14f82ca2f3\",\"type\":\"Line\"},\"selection_glyph\":null,\"view\":{\"id\":\"68e0ee0b-e901-48da-86d8-e9955884bdfb\",\"type\":\"CDSView\"}},\"id\":\"ef9669e4-f80c-44bb-b2b8-e644a4af0568\",\"type\":\"GlyphRenderer\"},{\"attributes\":{\"data_source\":{\"id\":\"e1dadbbd-4e78-4221-b752-955b49cf06ca\",\"type\":\"ColumnDataSource\"},\"glyph\":{\"id\":\"2f2e87a0-aee9-4e8e-b936-ac4448ce8d05\",\"type\":\"Circle\"},\"hover_glyph\":{\"id\":\"5621bafb-cc0b-4eff-823d-4768abcca15f\",\"type\":\"Circle\"},\"muted_glyph\":null,\"nonselection_glyph\":{\"id\":\"43ceb88e-c644-4366-b21c-8cbe6febe155\",\"type\":\"Circle\"},\"selection_glyph\":null,\"view\":{\"id\":\"d8093c98-9c01-4b53-951a-433aae7f1beb\",\"type\":\"CDSView\"}},\"id\":\"9e24ef1e-3040-4168-ae53-dea9feb15302\",\"type\":\"GlyphRenderer\"},{\"attributes\":{\"line_alpha\":0.5,\"line_color\":\"#1f77b4\",\"line_dash\":[6],\"line_width\":2,\"x\":{\"field\":\"x\"},\"y\":{\"field\":\"deaths_logistic\"}},\"id\":\"88967ca2-0b06-45fb-9924-252edc04e9a3\",\"type\":\"Line\"},{\"attributes\":{\"line_alpha\":0.5,\"line_color\":\"green\",\"line_dash\":[6],\"line_width\":2,\"x\":{\"field\":\"x\"},\"y\":{\"field\":\"cum_deaths_logistic\"}},\"id\":\"4ee27e31-5340-4753-bdd0-9d5e6c0bda9a\",\"type\":\"Line\"},{\"attributes\":{\"callback\":null,\"data\":{\"cum_deaths\":{\"__ndarray__\":\"AAAAAACwcEAAAAAAAGB1QAAAAAAAEHtAAAAAAACogEAAAAAAACiEQAAAAAAAOIhAAAAAAADAjEAAAAAAAAD4fwAAAAAAAPh/AAAAAAAA+H8=\",\"dtype\":\"float64\",\"shape\":[10]},\"deaths\":{\"__ndarray__\":\"AAAAAACATkAAAAAAAMBSQAAAAAAAwFZAAAAAAAAAWUAAAAAAAABcQAAAAAAAQGBAAAAAAAAgYkAAAAAAAAD4fwAAAAAAAPh/AAAAAAAA+H8=\",\"dtype\":\"float64\",\"shape\":[10]},\"x\":{\"__ndarray__\":\"AABAN0IRd0IAAACdlBF3QgAAwALnEXdCAACAaDkSd0IAAEDOixJ3QgAAADTeEndCAADAmTATd0IAAID/ghN3QgAAQGXVE3dCAAAAyycUd0I=\",\"dtype\":\"float64\",\"shape\":[10]}},\"selected\":{\"id\":\"77f66e12-5569-4ffa-a212-26ce17643072\",\"type\":\"Selection\"},\"selection_policy\":{\"id\":\"cabbb40f-051f-41e2-af86-f3af777d12ff\",\"type\":\"UnionRenderers\"}},\"id\":\"642bb426-ab87-405c-87bd-cc271705aa59\",\"type\":\"ColumnDataSource\"},{\"attributes\":{\"label\":{\"value\":\"estimation inc. deaths_logistic\"},\"renderers\":[{\"id\":\"2ff3cb96-7ee0-4294-834f-fcfd2a75ac3a\",\"type\":\"GlyphRenderer\"},{\"id\":\"9e24ef1e-3040-4168-ae53-dea9feb15302\",\"type\":\"GlyphRenderer\"}]},\"id\":\"f1d61659-4624-4ccf-bdcf-60c84592fe48\",\"type\":\"LegendItem\"},{\"attributes\":{\"source\":{\"id\":\"0d98843c-c60c-4949-b183-7e75f44ceff8\",\"type\":\"ColumnDataSource\"}},\"id\":\"84eb200e-154a-42e9-a69b-a3a999a04aa0\",\"type\":\"CDSView\"},{\"attributes\":{\"line_alpha\":0.1,\"line_color\":\"#1f77b4\",\"line_dash\":[2,4],\"line_width\":2,\"x\":{\"field\":\"x\"},\"y\":{\"field\":\"cum_deaths_exponential_prior\"}},\"id\":\"97ffbdc7-2e33-4791-baf9-ab14f82ca2f3\",\"type\":\"Line\"},{\"attributes\":{\"line_alpha\":0.5,\"line_color\":\"#1f77b4\",\"line_dash\":[2,4],\"line_width\":2,\"x\":{\"field\":\"x\"},\"y\":{\"field\":\"cum_deaths_exponential_prior\"}},\"id\":\"5654c650-3822-44c5-8def-acab27bee1bd\",\"type\":\"Line\"},{\"attributes\":{\"source\":{\"id\":\"91fc12c9-7d3a-4d5d-bc5d-2aae94633bde\",\"type\":\"ColumnDataSource\"}},\"id\":\"73b67969-04ad-4ccb-bda5-50205e07f446\",\"type\":\"CDSView\"},{\"attributes\":{\"below\":[{\"id\":\"2e078dae-ef71-46a2-a988-7c5cba85f500\",\"type\":\"DatetimeAxis\"}],\"left\":[{\"id\":\"e243e6f5-f383-4db6-910b-254117cf86d5\",\"type\":\"LinearAxis\"}],\"plot_width\":800,\"renderers\":[{\"id\":\"2e078dae-ef71-46a2-a988-7c5cba85f500\",\"type\":\"DatetimeAxis\"},{\"id\":\"e7d3af9d-179b-4a3b-88ff-be5f045cf3ee\",\"type\":\"Grid\"},{\"id\":\"e243e6f5-f383-4db6-910b-254117cf86d5\",\"type\":\"LinearAxis\"},{\"id\":\"23e3f94c-5604-4f77-ba5d-2d685b7af6ce\",\"type\":\"Grid\"},{\"id\":\"960b4835-e243-4ccc-967c-8cc490a6e84d\",\"type\":\"BoxAnnotation\"},{\"id\":\"bbdca06c-01df-4044-a8de-b6d6ead31259\",\"type\":\"Legend\"},{\"id\":\"5ea6d102-7da9-4001-91d3-0201c70b76cf\",\"type\":\"GlyphRenderer\"},{\"id\":\"a559283d-68ca-4ffa-b0c8-0217e630ceac\",\"type\":\"GlyphRenderer\"},{\"id\":\"2ff3cb96-7ee0-4294-834f-fcfd2a75ac3a\",\"type\":\"GlyphRenderer\"},{\"id\":\"783193f7-218d-48ef-8c6c-efdd442af27f\",\"type\":\"GlyphRenderer\"},{\"id\":\"60887f96-f938-48be-864c-bf45e9169318\",\"type\":\"GlyphRenderer\"},{\"id\":\"65d52243-95c4-4274-a95e-90ea31ed6437\",\"type\":\"GlyphRenderer\"},{\"id\":\"df4b5909-8da9-4d11-8860-5ac2c4e4eb08\",\"type\":\"GlyphRenderer\"},{\"id\":\"133129a1-f233-4584-94aa-90681ac7be41\",\"type\":\"GlyphRenderer\"},{\"id\":\"8b4a4747-fbd5-485d-a913-509915abb8a0\",\"type\":\"GlyphRenderer\"},{\"id\":\"ef9669e4-f80c-44bb-b2b8-e644a4af0568\",\"type\":\"GlyphRenderer\"},{\"id\":\"192d6e39-6053-4768-b0e4-a4d6bcbc2b64\",\"type\":\"GlyphRenderer\"},{\"id\":\"38f10c2a-4186-49fe-9663-1f40fc0b2168\",\"type\":\"GlyphRenderer\"},{\"id\":\"9e24ef1e-3040-4168-ae53-dea9feb15302\",\"type\":\"GlyphRenderer\"},{\"id\":\"88f01299-0085-49da-a08e-9096b7d9984f\",\"type\":\"GlyphRenderer\"},{\"id\":\"d0a54338-8942-4922-873f-336175f2e341\",\"type\":\"GlyphRenderer\"},{\"id\":\"d6473d84-76e8-4415-81a0-7b1ed30fa280\",\"type\":\"GlyphRenderer\"},{\"id\":\"0eacb7af-4f7a-4638-a272-1c5105aca276\",\"type\":\"GlyphRenderer\"},{\"id\":\"03410861-189d-4ddd-bb98-c138a4320fa5\",\"type\":\"GlyphRenderer\"},{\"id\":\"3bb6b338-8395-4716-b8ca-661865a37114\",\"type\":\"GlyphRenderer\"},{\"id\":\"b65d7909-22ed-4259-ab19-5460c3deec77\",\"type\":\"GlyphRenderer\"}],\"title\":{\"id\":\"54ba368a-ea81-47ac-8382-09af4087722e\",\"type\":\"Title\"},\"toolbar\":{\"id\":\"6b093539-f491-4b13-8529-17dacfe955d8\",\"type\":\"Toolbar\"},\"toolbar_location\":\"below\",\"x_range\":{\"id\":\"95432266-7be2-4be2-a7be-034ed71b6e99\",\"type\":\"DataRange1d\"},\"x_scale\":{\"id\":\"be559fd8-31f5-4548-aef5-9dfe8e0c9822\",\"type\":\"LinearScale\"},\"y_range\":{\"id\":\"69d4c403-98a0-4914-939a-9389a0bcfa61\",\"type\":\"DataRange1d\"},\"y_scale\":{\"id\":\"4bee9a66-afb7-4e85-802d-765400339514\",\"type\":\"LinearScale\"}},\"id\":\"5bb63d92-0ff9-4fb2-b709-66ff4f6f2e3b\",\"subtype\":\"Figure\",\"type\":\"Plot\"},{\"attributes\":{\"line_alpha\":0.5,\"line_color\":\"orange\",\"line_dash\":[2,4],\"line_width\":2,\"x\":{\"field\":\"x\"},\"y\":{\"field\":\"cum_deaths_exponential_prior\"}},\"id\":\"2ed6e6db-a67e-4978-a577-3999fbe00441\",\"type\":\"Line\"},{\"attributes\":{\"fill_alpha\":{\"value\":0.5},\"fill_color\":{\"value\":\"green\"},\"line_alpha\":{\"value\":0.5},\"line_color\":{\"value\":\"green\"},\"line_width\":{\"value\":2},\"x\":{\"field\":\"x\"},\"y\":{\"field\":\"cum_deaths_logistic\"}},\"id\":\"48c36ad8-30da-410f-b8df-0d657b4d714a\",\"type\":\"Circle\"},{\"attributes\":{\"axis_label\":\"date\",\"formatter\":{\"id\":\"fc4a1c09-5528-4eb9-ab71-2b6acf05e834\",\"type\":\"DatetimeTickFormatter\"},\"plot\":{\"id\":\"5bb63d92-0ff9-4fb2-b709-66ff4f6f2e3b\",\"subtype\":\"Figure\",\"type\":\"Plot\"},\"ticker\":{\"id\":\"7089598b-b917-4f2c-a396-7968eca827bc\",\"type\":\"DatetimeTicker\"}},\"id\":\"2e078dae-ef71-46a2-a988-7c5cba85f500\",\"type\":\"DatetimeAxis\"},{\"attributes\":{\"label\":{\"value\":\"estimation inc. deaths_exponential_prior\"},\"renderers\":[{\"id\":\"8b4a4747-fbd5-485d-a913-509915abb8a0\",\"type\":\"GlyphRenderer\"},{\"id\":\"3bb6b338-8395-4716-b8ca-661865a37114\",\"type\":\"GlyphRenderer\"}]},\"id\":\"faf7948e-57cc-41f9-b9c9-62bec6488465\",\"type\":\"LegendItem\"},{\"attributes\":{\"source\":{\"id\":\"91fc12c9-7d3a-4d5d-bc5d-2aae94633bde\",\"type\":\"ColumnDataSource\"}},\"id\":\"fb5eaf40-0ce4-4e61-880f-2c78755dd53e\",\"type\":\"CDSView\"},{\"attributes\":{\"line_alpha\":0.5,\"line_color\":\"orange\",\"line_dash\":[6],\"line_width\":2,\"x\":{\"field\":\"x\"},\"y\":{\"field\":\"deaths_exponential\"}},\"id\":\"8af2dc18-15f9-4bf2-8060-73f8cb7bb0b7\",\"type\":\"Line\"},{\"attributes\":{\"line_alpha\":0.5,\"line_color\":\"orange\",\"line_dash\":[2,4],\"line_width\":2,\"x\":{\"field\":\"x\"},\"y\":{\"field\":\"deaths_exponential_prior\"}},\"id\":\"74819ca5-f2cc-44d4-85ca-9f72294703c6\",\"type\":\"Line\"},{\"attributes\":{\"data_source\":{\"id\":\"91fc12c9-7d3a-4d5d-bc5d-2aae94633bde\",\"type\":\"ColumnDataSource\"},\"glyph\":{\"id\":\"91986b94-86b1-4144-b9d5-ff72a9911513\",\"type\":\"Line\"},\"hover_glyph\":{\"id\":\"88967ca2-0b06-45fb-9924-252edc04e9a3\",\"type\":\"Line\"},\"muted_glyph\":null,\"name\":\"estimation inc. deaths_logistic\",\"nonselection_glyph\":{\"id\":\"b1bb87c6-5b4a-40a4-aa34-fdca013c553c\",\"type\":\"Line\"},\"selection_glyph\":null,\"view\":{\"id\":\"73b67969-04ad-4ccb-bda5-50205e07f446\",\"type\":\"CDSView\"}},\"id\":\"2ff3cb96-7ee0-4294-834f-fcfd2a75ac3a\",\"type\":\"GlyphRenderer\"},{\"attributes\":{},\"id\":\"77f66e12-5569-4ffa-a212-26ce17643072\",\"type\":\"Selection\"},{\"attributes\":{\"line_alpha\":0.1,\"line_color\":\"#1f77b4\",\"line_dash\":[2,4],\"line_width\":2,\"x\":{\"field\":\"x\"},\"y\":{\"field\":\"deaths_exponential_prior\"}},\"id\":\"fc3e3a00-f875-4ab0-86a3-6f628ec26199\",\"type\":\"Line\"},{\"attributes\":{\"line_alpha\":0.5,\"line_color\":\"#1f77b4\",\"line_dash\":[2,4],\"line_width\":2,\"x\":{\"field\":\"x\"},\"y\":{\"field\":\"deaths_exponential_prior\"}},\"id\":\"c84fc75d-9528-4db0-8028-35896fe50cb2\",\"type\":\"Line\"},{\"attributes\":{\"fill_color\":{\"value\":\"#1f77b4\"},\"line_alpha\":{\"value\":0.5},\"line_color\":{\"value\":\"#1f77b4\"},\"line_width\":{\"value\":2},\"x\":{\"field\":\"x\"},\"y\":{\"field\":\"cum_deaths_logistic_prior\"}},\"id\":\"0f428f69-b073-4258-a6cf-fd2bab172a7a\",\"type\":\"Circle\"},{\"attributes\":{\"axis_label\":\"deaths\",\"formatter\":{\"id\":\"1222c58f-d9a5-4a34-827c-b6bb6fb6f832\",\"type\":\"NumeralTickFormatter\"},\"plot\":{\"id\":\"5bb63d92-0ff9-4fb2-b709-66ff4f6f2e3b\",\"subtype\":\"Figure\",\"type\":\"Plot\"},\"ticker\":{\"id\":\"608a21ae-73ee-4530-8b21-86ce43f95bba\",\"type\":\"BasicTicker\"}},\"id\":\"e243e6f5-f383-4db6-910b-254117cf86d5\",\"type\":\"LinearAxis\"},{\"attributes\":{\"data_source\":{\"id\":\"413eabec-678b-49c4-b1fc-3ca7608e0eef\",\"type\":\"ColumnDataSource\"},\"glyph\":{\"id\":\"74819ca5-f2cc-44d4-85ca-9f72294703c6\",\"type\":\"Line\"},\"hover_glyph\":{\"id\":\"c84fc75d-9528-4db0-8028-35896fe50cb2\",\"type\":\"Line\"},\"muted_glyph\":null,\"name\":\"estimation inc. deaths_exponential_prior\",\"nonselection_glyph\":{\"id\":\"fc3e3a00-f875-4ab0-86a3-6f628ec26199\",\"type\":\"Line\"},\"selection_glyph\":null,\"view\":{\"id\":\"92be552d-f5c5-4f29-a0cd-c08a883243d9\",\"type\":\"CDSView\"}},\"id\":\"8b4a4747-fbd5-485d-a913-509915abb8a0\",\"type\":\"GlyphRenderer\"},{\"attributes\":{\"source\":{\"id\":\"413eabec-678b-49c4-b1fc-3ca7608e0eef\",\"type\":\"ColumnDataSource\"}},\"id\":\"92be552d-f5c5-4f29-a0cd-c08a883243d9\",\"type\":\"CDSView\"},{\"attributes\":{\"callback\":null,\"formatters\":{\"$x\":\"datetime\"},\"names\":[\"reported inc. deaths\",\"reported cum. deaths\"],\"renderers\":\"auto\",\"show_arrow\":false,\"tooltips\":[[\"date\",\"$x{%F}\"],[\"reported inc. deaths\",\"@deaths{0,0}\"],[\"reported cum. deaths\",\"@cum_deaths{0,0}\"]]},\"id\":\"6245507f-1400-45d5-934c-51b1f632674e\",\"type\":\"HoverTool\"},{\"attributes\":{\"callback\":null,\"data\":{\"cum_deaths_exponential_prior\":{\"__ndarray__\":\"AAAAAAAA+H8AAAAAAAD4fwAAAAAAAPh/AAAAAAAA+H8AAAAAAAD4fwAAAAAAAPh/AAAAAAAA+H8AAAAAAAD4fwAAAAAAAPh/AAAAAAAA+H8AAAAAAAD4fwAAAAAAAPh/AAAAAAAA+H8AAAAAAAD4fwAAAAAAAPh/AAAAAAAA+H8AAAAAAAD4fwAAAAAAAPh/AAAAAAAA+H8AAAAAAAD4fwAAAAAAAPh/AAAAAAAA+H8AAAAAAABgQAAAAAAAYGRAAAAAAADgaUAAAAAAAHBwQAAAAAAA4HRAAAAAAACQekAAAAAAAOCAQAAAAAAAeIVAAAAAAABIi0AAAAAAAFiRQAAAAAAACJZAAAAAAAAEnEAAAAAAAMyhQA==\",\"dtype\":\"float64\",\"shape\":[35]},\"deaths_exponential_prior\":{\"__ndarray__\":\"AAAAAAAA+H8AAAAAAAD4fwAAAAAAAPh/AAAAAAAA+H8AAAAAAAD4fwAAAAAAAPh/AAAAAAAA+H8AAAAAAAD4fwAAAAAAAPh/AAAAAAAA+H8AAAAAAAD4fwAAAAAAAPh/AAAAAAAA+H8AAAAAAAD4fwAAAAAAAPh/AAAAAAAA+H8AAAAAAAD4fwAAAAAAAPh/AAAAAAAA+H8AAAAAAAD4fwAAAAAAAPh/AAAAAAAA+H8AAAAAAAD4fwAAAAAAgEFAAAAAAAAARkAAAAAAAABMQAAAAAAAwFFAAAAAAADAVkAAAAAAAMBcQAAAAAAAYGJAAAAAAABAZ0AAAAAAAKBtQAAAAAAAwHJAAAAAAADwd0AAAAAAAFB+QA==\",\"dtype\":\"float64\",\"shape\":[35]},\"x\":{\"__ndarray__\":\"AACARzYJd0IAAECtiAl3QgAAABPbCXdCAADAeC0Kd0IAAIDefwp3QgAAQETSCndCAAAAqiQLd0IAAMAPdwt3QgAAgHXJC3dCAABA2xsMd0IAAABBbgx3QgAAwKbADHdCAACADBMNd0IAAEByZQ13QgAAANi3DXdCAADAPQoOd0IAAICjXA53QgAAQAmvDndCAAAAbwEPd0IAAMDUUw93QgAAgDqmD3dCAABAoPgPd0IAAAAGSxB3QgAAwGudEHdCAACA0e8Qd0IAAEA3QhF3QgAAAJ2UEXdCAADAAucRd0IAAIBoORJ3QgAAQM6LEndCAAAANN4Sd0IAAMCZMBN3QgAAgP+CE3dCAABAZdUTd0IAAADLJxR3Qg==\",\"dtype\":\"float64\",\"shape\":[35]}},\"selected\":{\"id\":\"777c25d1-fd65-44cb-9a97-89ce2eed04b8\",\"type\":\"Selection\"},\"selection_policy\":{\"id\":\"80dcdece-90b5-4933-ae0a-72b07c5ff592\",\"type\":\"UnionRenderers\"}},\"id\":\"413eabec-678b-49c4-b1fc-3ca7608e0eef\",\"type\":\"ColumnDataSource\"},{\"attributes\":{\"callback\":null,\"data\":{\"cum_deaths_logistic\":{\"__ndarray__\":\"AAAAAACckEAAAAAAAOSSQAAAAAAAFJVA\",\"dtype\":\"float64\",\"shape\":[3]},\"deaths_logistic\":{\"__ndarray__\":\"AAAAAAAgYkAAAAAAAEBiQAAAAAAAgGFA\",\"dtype\":\"float64\",\"shape\":[3]},\"x\":{\"__ndarray__\":\"AACA/4ITd0IAAEBl1RN3QgAAAMsnFHdC\",\"dtype\":\"float64\",\"shape\":[3]}},\"selected\":{\"id\":\"288cfe76-ce88-4711-b414-a4b8b69f21d3\",\"type\":\"Selection\"},\"selection_policy\":{\"id\":\"16b580ae-eaf1-4992-b8e1-369f3bfb3c49\",\"type\":\"UnionRenderers\"}},\"id\":\"e1dadbbd-4e78-4221-b752-955b49cf06ca\",\"type\":\"ColumnDataSource\"},{\"attributes\":{\"line_alpha\":0.1,\"line_color\":\"#1f77b4\",\"line_dash\":[6],\"line_width\":2,\"x\":{\"field\":\"x\"},\"y\":{\"field\":\"deaths_logistic\"}},\"id\":\"b1bb87c6-5b4a-40a4-aa34-fdca013c553c\",\"type\":\"Line\"},{\"attributes\":{\"source\":{\"id\":\"642bb426-ab87-405c-87bd-cc271705aa59\",\"type\":\"ColumnDataSource\"}},\"id\":\"5c8a2ed3-581d-4f13-b167-3ee85872215f\",\"type\":\"CDSView\"}],\"root_ids\":[\"5bb63d92-0ff9-4fb2-b709-66ff4f6f2e3b\"]},\"title\":\"Bokeh Application\",\"version\":\"0.13.0\"}};\n",
       "  var render_items = [{\"docid\":\"1bab3b0b-62f0-4b48-b0ed-5af44082cda4\",\"roots\":{\"5bb63d92-0ff9-4fb2-b709-66ff4f6f2e3b\":\"ffeea536-1ba3-4219-aa08-220a1ceec8fb\"}}];\n",
       "  root.Bokeh.embed.embed_items_notebook(docs_json, render_items);\n",
       "\n",
       "  }\n",
       "  if (root.Bokeh !== undefined) {\n",
       "    embed_document(root);\n",
       "  } else {\n",
       "    var attempts = 0;\n",
       "    var timer = setInterval(function(root) {\n",
       "      if (root.Bokeh !== undefined) {\n",
       "        embed_document(root);\n",
       "        clearInterval(timer);\n",
       "      }\n",
       "      attempts++;\n",
       "      if (attempts > 100) {\n",
       "        console.log(\"Bokeh: ERROR: Unable to run BokehJS code because BokehJS library is missing\")\n",
       "        clearInterval(timer);\n",
       "      }\n",
       "    }, 10, root)\n",
       "  }\n",
       "})(window);"
      ],
      "application/vnd.bokehjs_exec.v0+json": ""
     },
     "metadata": {
      "application/vnd.bokehjs_exec.v0+json": {
       "id": "5bb63d92-0ff9-4fb2-b709-66ff4f6f2e3b"
      }
     },
     "output_type": "display_data"
    }
   ],
   "source": [
    "single_country_new(\n",
    "    country=country,\n",
    "    source=source,\n",
    "    what='deaths',\n",
    "    df_input=df_final,\n",
    "    days_fitting=days_fitting,\n",
    "    days_extropolate=days_extropolate,\n",
    "    shift=shift,\n",
    "    model_list=model_list\n",
    ")"
   ]
  },
  {
   "cell_type": "code",
   "execution_count": null,
   "metadata": {},
   "outputs": [],
   "source": []
  }
 ],
 "metadata": {
  "kernelspec": {
   "display_name": "Python 3",
   "language": "python",
   "name": "python3"
  },
  "language_info": {
   "codemirror_mode": {
    "name": "ipython",
    "version": 3
   },
   "file_extension": ".py",
   "mimetype": "text/x-python",
   "name": "python",
   "nbconvert_exporter": "python",
   "pygments_lexer": "ipython3",
   "version": "3.7.0"
  }
 },
 "nbformat": 4,
 "nbformat_minor": 2
}
